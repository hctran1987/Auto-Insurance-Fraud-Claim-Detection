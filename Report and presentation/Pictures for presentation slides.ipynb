{
 "cells": [
  {
   "cell_type": "code",
   "execution_count": 333,
   "id": "d10a1d32",
   "metadata": {},
   "outputs": [],
   "source": [
    "import numpy as np\n",
    "import pandas as pd \n",
    "import matplotlib.pyplot as plt\n",
    "import seaborn as sns"
   ]
  },
  {
   "cell_type": "code",
   "execution_count": 334,
   "id": "9d5f7c6a",
   "metadata": {},
   "outputs": [],
   "source": [
    "df = pd.read_csv('For report.csv')"
   ]
  },
  {
   "cell_type": "code",
   "execution_count": 335,
   "id": "cedf9505",
   "metadata": {},
   "outputs": [
    {
     "data": {
      "text/html": [
       "<div>\n",
       "<style scoped>\n",
       "    .dataframe tbody tr th:only-of-type {\n",
       "        vertical-align: middle;\n",
       "    }\n",
       "\n",
       "    .dataframe tbody tr th {\n",
       "        vertical-align: top;\n",
       "    }\n",
       "\n",
       "    .dataframe thead th {\n",
       "        text-align: right;\n",
       "    }\n",
       "</style>\n",
       "<table border=\"1\" class=\"dataframe\">\n",
       "  <thead>\n",
       "    <tr style=\"text-align: right;\">\n",
       "      <th></th>\n",
       "      <th>Unnamed: 0</th>\n",
       "      <th>ReportedFraud</th>\n",
       "      <th>DateOfIncident</th>\n",
       "      <th>SeverityOfIncident</th>\n",
       "      <th>IncidentTime</th>\n",
       "      <th>NumberOfVehicles</th>\n",
       "      <th>BodilyInjuries</th>\n",
       "      <th>Witnesses</th>\n",
       "      <th>AmountOfInjuryClaim</th>\n",
       "      <th>AmountOfPropertyClaim</th>\n",
       "      <th>...</th>\n",
       "      <th>VehicleModel_Pathfinder</th>\n",
       "      <th>VehicleModel_RAM</th>\n",
       "      <th>VehicleModel_RSX</th>\n",
       "      <th>VehicleModel_Silverado</th>\n",
       "      <th>VehicleModel_TL</th>\n",
       "      <th>VehicleModel_Tahoe</th>\n",
       "      <th>VehicleModel_Ultima</th>\n",
       "      <th>VehicleModel_Wrangler</th>\n",
       "      <th>VehicleModel_X5</th>\n",
       "      <th>VehicleModel_X6</th>\n",
       "    </tr>\n",
       "  </thead>\n",
       "  <tbody>\n",
       "    <tr>\n",
       "      <th>0</th>\n",
       "      <td>0</td>\n",
       "      <td>0</td>\n",
       "      <td>8.0</td>\n",
       "      <td>3</td>\n",
       "      <td>19</td>\n",
       "      <td>3</td>\n",
       "      <td>1</td>\n",
       "      <td>1</td>\n",
       "      <td>9396.0</td>\n",
       "      <td>4698.0</td>\n",
       "      <td>...</td>\n",
       "      <td>0</td>\n",
       "      <td>0</td>\n",
       "      <td>0</td>\n",
       "      <td>0</td>\n",
       "      <td>0</td>\n",
       "      <td>0</td>\n",
       "      <td>0</td>\n",
       "      <td>0</td>\n",
       "      <td>0</td>\n",
       "      <td>0</td>\n",
       "    </tr>\n",
       "    <tr>\n",
       "      <th>1</th>\n",
       "      <td>1</td>\n",
       "      <td>0</td>\n",
       "      <td>50.0</td>\n",
       "      <td>1</td>\n",
       "      <td>14</td>\n",
       "      <td>1</td>\n",
       "      <td>1</td>\n",
       "      <td>1</td>\n",
       "      <td>6539.0</td>\n",
       "      <td>6539.0</td>\n",
       "      <td>...</td>\n",
       "      <td>0</td>\n",
       "      <td>0</td>\n",
       "      <td>0</td>\n",
       "      <td>0</td>\n",
       "      <td>0</td>\n",
       "      <td>0</td>\n",
       "      <td>0</td>\n",
       "      <td>0</td>\n",
       "      <td>0</td>\n",
       "      <td>0</td>\n",
       "    </tr>\n",
       "    <tr>\n",
       "      <th>2</th>\n",
       "      <td>2</td>\n",
       "      <td>0</td>\n",
       "      <td>13.0</td>\n",
       "      <td>2</td>\n",
       "      <td>21</td>\n",
       "      <td>3</td>\n",
       "      <td>0</td>\n",
       "      <td>0</td>\n",
       "      <td>6069.0</td>\n",
       "      <td>6069.0</td>\n",
       "      <td>...</td>\n",
       "      <td>0</td>\n",
       "      <td>0</td>\n",
       "      <td>0</td>\n",
       "      <td>0</td>\n",
       "      <td>0</td>\n",
       "      <td>0</td>\n",
       "      <td>0</td>\n",
       "      <td>0</td>\n",
       "      <td>0</td>\n",
       "      <td>0</td>\n",
       "    </tr>\n",
       "    <tr>\n",
       "      <th>3</th>\n",
       "      <td>3</td>\n",
       "      <td>1</td>\n",
       "      <td>6.0</td>\n",
       "      <td>2</td>\n",
       "      <td>12</td>\n",
       "      <td>3</td>\n",
       "      <td>2</td>\n",
       "      <td>0</td>\n",
       "      <td>253.0</td>\n",
       "      <td>5741.0</td>\n",
       "      <td>...</td>\n",
       "      <td>0</td>\n",
       "      <td>0</td>\n",
       "      <td>0</td>\n",
       "      <td>0</td>\n",
       "      <td>0</td>\n",
       "      <td>0</td>\n",
       "      <td>0</td>\n",
       "      <td>0</td>\n",
       "      <td>0</td>\n",
       "      <td>0</td>\n",
       "    </tr>\n",
       "    <tr>\n",
       "      <th>4</th>\n",
       "      <td>4</td>\n",
       "      <td>1</td>\n",
       "      <td>56.0</td>\n",
       "      <td>2</td>\n",
       "      <td>3</td>\n",
       "      <td>3</td>\n",
       "      <td>1</td>\n",
       "      <td>2</td>\n",
       "      <td>7407.0</td>\n",
       "      <td>14813.0</td>\n",
       "      <td>...</td>\n",
       "      <td>0</td>\n",
       "      <td>0</td>\n",
       "      <td>0</td>\n",
       "      <td>0</td>\n",
       "      <td>0</td>\n",
       "      <td>0</td>\n",
       "      <td>0</td>\n",
       "      <td>1</td>\n",
       "      <td>0</td>\n",
       "      <td>0</td>\n",
       "    </tr>\n",
       "    <tr>\n",
       "      <th>...</th>\n",
       "      <td>...</td>\n",
       "      <td>...</td>\n",
       "      <td>...</td>\n",
       "      <td>...</td>\n",
       "      <td>...</td>\n",
       "      <td>...</td>\n",
       "      <td>...</td>\n",
       "      <td>...</td>\n",
       "      <td>...</td>\n",
       "      <td>...</td>\n",
       "      <td>...</td>\n",
       "      <td>...</td>\n",
       "      <td>...</td>\n",
       "      <td>...</td>\n",
       "      <td>...</td>\n",
       "      <td>...</td>\n",
       "      <td>...</td>\n",
       "      <td>...</td>\n",
       "      <td>...</td>\n",
       "      <td>...</td>\n",
       "      <td>...</td>\n",
       "    </tr>\n",
       "    <tr>\n",
       "      <th>27144</th>\n",
       "      <td>27144</td>\n",
       "      <td>0</td>\n",
       "      <td>43.0</td>\n",
       "      <td>1</td>\n",
       "      <td>16</td>\n",
       "      <td>1</td>\n",
       "      <td>1</td>\n",
       "      <td>2</td>\n",
       "      <td>5543.0</td>\n",
       "      <td>5543.0</td>\n",
       "      <td>...</td>\n",
       "      <td>0</td>\n",
       "      <td>0</td>\n",
       "      <td>1</td>\n",
       "      <td>0</td>\n",
       "      <td>0</td>\n",
       "      <td>0</td>\n",
       "      <td>0</td>\n",
       "      <td>0</td>\n",
       "      <td>0</td>\n",
       "      <td>0</td>\n",
       "    </tr>\n",
       "    <tr>\n",
       "      <th>27145</th>\n",
       "      <td>27145</td>\n",
       "      <td>0</td>\n",
       "      <td>18.0</td>\n",
       "      <td>3</td>\n",
       "      <td>19</td>\n",
       "      <td>3</td>\n",
       "      <td>2</td>\n",
       "      <td>0</td>\n",
       "      <td>8678.0</td>\n",
       "      <td>8738.0</td>\n",
       "      <td>...</td>\n",
       "      <td>0</td>\n",
       "      <td>0</td>\n",
       "      <td>1</td>\n",
       "      <td>0</td>\n",
       "      <td>0</td>\n",
       "      <td>0</td>\n",
       "      <td>0</td>\n",
       "      <td>0</td>\n",
       "      <td>0</td>\n",
       "      <td>0</td>\n",
       "    </tr>\n",
       "    <tr>\n",
       "      <th>27146</th>\n",
       "      <td>27146</td>\n",
       "      <td>0</td>\n",
       "      <td>20.0</td>\n",
       "      <td>3</td>\n",
       "      <td>16</td>\n",
       "      <td>3</td>\n",
       "      <td>2</td>\n",
       "      <td>0</td>\n",
       "      <td>13224.0</td>\n",
       "      <td>7990.0</td>\n",
       "      <td>...</td>\n",
       "      <td>0</td>\n",
       "      <td>0</td>\n",
       "      <td>1</td>\n",
       "      <td>0</td>\n",
       "      <td>0</td>\n",
       "      <td>0</td>\n",
       "      <td>0</td>\n",
       "      <td>0</td>\n",
       "      <td>0</td>\n",
       "      <td>0</td>\n",
       "    </tr>\n",
       "    <tr>\n",
       "      <th>27147</th>\n",
       "      <td>27147</td>\n",
       "      <td>0</td>\n",
       "      <td>1.0</td>\n",
       "      <td>0</td>\n",
       "      <td>12</td>\n",
       "      <td>1</td>\n",
       "      <td>1</td>\n",
       "      <td>1</td>\n",
       "      <td>728.0</td>\n",
       "      <td>1457.0</td>\n",
       "      <td>...</td>\n",
       "      <td>0</td>\n",
       "      <td>0</td>\n",
       "      <td>1</td>\n",
       "      <td>0</td>\n",
       "      <td>0</td>\n",
       "      <td>0</td>\n",
       "      <td>0</td>\n",
       "      <td>0</td>\n",
       "      <td>0</td>\n",
       "      <td>0</td>\n",
       "    </tr>\n",
       "    <tr>\n",
       "      <th>27148</th>\n",
       "      <td>27148</td>\n",
       "      <td>0</td>\n",
       "      <td>15.0</td>\n",
       "      <td>3</td>\n",
       "      <td>11</td>\n",
       "      <td>1</td>\n",
       "      <td>2</td>\n",
       "      <td>3</td>\n",
       "      <td>15757.0</td>\n",
       "      <td>16322.0</td>\n",
       "      <td>...</td>\n",
       "      <td>0</td>\n",
       "      <td>0</td>\n",
       "      <td>1</td>\n",
       "      <td>0</td>\n",
       "      <td>0</td>\n",
       "      <td>0</td>\n",
       "      <td>0</td>\n",
       "      <td>0</td>\n",
       "      <td>0</td>\n",
       "      <td>0</td>\n",
       "    </tr>\n",
       "  </tbody>\n",
       "</table>\n",
       "<p>27149 rows × 139 columns</p>\n",
       "</div>"
      ],
      "text/plain": [
       "       Unnamed: 0  ReportedFraud  DateOfIncident  SeverityOfIncident  \\\n",
       "0               0              0             8.0                   3   \n",
       "1               1              0            50.0                   1   \n",
       "2               2              0            13.0                   2   \n",
       "3               3              1             6.0                   2   \n",
       "4               4              1            56.0                   2   \n",
       "...           ...            ...             ...                 ...   \n",
       "27144       27144              0            43.0                   1   \n",
       "27145       27145              0            18.0                   3   \n",
       "27146       27146              0            20.0                   3   \n",
       "27147       27147              0             1.0                   0   \n",
       "27148       27148              0            15.0                   3   \n",
       "\n",
       "       IncidentTime  NumberOfVehicles  BodilyInjuries  Witnesses  \\\n",
       "0                19                 3               1          1   \n",
       "1                14                 1               1          1   \n",
       "2                21                 3               0          0   \n",
       "3                12                 3               2          0   \n",
       "4                 3                 3               1          2   \n",
       "...             ...               ...             ...        ...   \n",
       "27144            16                 1               1          2   \n",
       "27145            19                 3               2          0   \n",
       "27146            16                 3               2          0   \n",
       "27147            12                 1               1          1   \n",
       "27148            11                 1               2          3   \n",
       "\n",
       "       AmountOfInjuryClaim  AmountOfPropertyClaim  ...  \\\n",
       "0                   9396.0                 4698.0  ...   \n",
       "1                   6539.0                 6539.0  ...   \n",
       "2                   6069.0                 6069.0  ...   \n",
       "3                    253.0                 5741.0  ...   \n",
       "4                   7407.0                14813.0  ...   \n",
       "...                    ...                    ...  ...   \n",
       "27144               5543.0                 5543.0  ...   \n",
       "27145               8678.0                 8738.0  ...   \n",
       "27146              13224.0                 7990.0  ...   \n",
       "27147                728.0                 1457.0  ...   \n",
       "27148              15757.0                16322.0  ...   \n",
       "\n",
       "       VehicleModel_Pathfinder  VehicleModel_RAM  VehicleModel_RSX  \\\n",
       "0                            0                 0                 0   \n",
       "1                            0                 0                 0   \n",
       "2                            0                 0                 0   \n",
       "3                            0                 0                 0   \n",
       "4                            0                 0                 0   \n",
       "...                        ...               ...               ...   \n",
       "27144                        0                 0                 1   \n",
       "27145                        0                 0                 1   \n",
       "27146                        0                 0                 1   \n",
       "27147                        0                 0                 1   \n",
       "27148                        0                 0                 1   \n",
       "\n",
       "       VehicleModel_Silverado  VehicleModel_TL  VehicleModel_Tahoe  \\\n",
       "0                           0                0                   0   \n",
       "1                           0                0                   0   \n",
       "2                           0                0                   0   \n",
       "3                           0                0                   0   \n",
       "4                           0                0                   0   \n",
       "...                       ...              ...                 ...   \n",
       "27144                       0                0                   0   \n",
       "27145                       0                0                   0   \n",
       "27146                       0                0                   0   \n",
       "27147                       0                0                   0   \n",
       "27148                       0                0                   0   \n",
       "\n",
       "       VehicleModel_Ultima  VehicleModel_Wrangler  VehicleModel_X5  \\\n",
       "0                        0                      0                0   \n",
       "1                        0                      0                0   \n",
       "2                        0                      0                0   \n",
       "3                        0                      0                0   \n",
       "4                        0                      1                0   \n",
       "...                    ...                    ...              ...   \n",
       "27144                    0                      0                0   \n",
       "27145                    0                      0                0   \n",
       "27146                    0                      0                0   \n",
       "27147                    0                      0                0   \n",
       "27148                    0                      0                0   \n",
       "\n",
       "       VehicleModel_X6  \n",
       "0                    0  \n",
       "1                    0  \n",
       "2                    0  \n",
       "3                    0  \n",
       "4                    0  \n",
       "...                ...  \n",
       "27144                0  \n",
       "27145                0  \n",
       "27146                0  \n",
       "27147                0  \n",
       "27148                0  \n",
       "\n",
       "[27149 rows x 139 columns]"
      ]
     },
     "execution_count": 335,
     "metadata": {},
     "output_type": "execute_result"
    }
   ],
   "source": [
    "df"
   ]
  },
  {
   "cell_type": "code",
   "execution_count": 336,
   "id": "81f74ca0",
   "metadata": {},
   "outputs": [],
   "source": [
    "df.SeverityOfIncident.replace(range(4), ['Trivial Damage', 'Minor Damage', 'Major Damage', 'Total Loss'], \n",
    "                              inplace = True)"
   ]
  },
  {
   "cell_type": "code",
   "execution_count": 337,
   "id": "336a720c",
   "metadata": {},
   "outputs": [
    {
     "data": {
      "text/plain": [
       "Text(0, 0.5, 'Rate of fraudulent claim')"
      ]
     },
     "execution_count": 337,
     "metadata": {},
     "output_type": "execute_result"
    },
    {
     "data": {
      "image/png": "[encoded data removed]",
      "text/plain": [
       "<Figure size 640x480 with 1 Axes>"
      ]
     },
     "metadata": {},
     "output_type": "display_data"
    }
   ],
   "source": [
    "sns.barplot(data = a, x = 'SeverityOfIncident', y = 'ReportedFraud')\n",
    "plt.xlabel('Severity of Incident')\n",
    "plt.ylabel('Rate of fraudulent claim')"
   ]
  },
  {
   "cell_type": "code",
   "execution_count": 338,
   "id": "bf96c45e",
   "metadata": {},
   "outputs": [],
   "source": [
    "df.InsuredHobbies_chess.replace(range(2), ['No', 'Yes'], \n",
    "                              inplace = True)"
   ]
  },
  {
   "cell_type": "code",
   "execution_count": 339,
   "id": "56833313",
   "metadata": {},
   "outputs": [],
   "source": [
    "b = df.groupby('InsuredHobbies_chess')['ReportedFraud'].mean().reset_index()"
   ]
  },
  {
   "cell_type": "code",
   "execution_count": 353,
   "id": "4dc72a51",
   "metadata": {
    "scrolled": true
   },
   "outputs": [
    {
     "data": {
      "text/plain": [
       "Text(0, 0.5, 'Rate of fraudulent claim')"
      ]
     },
     "execution_count": 353,
     "metadata": {},
     "output_type": "execute_result"
    },
    {
     "data": {
      "image/png": "[encoded data removed]",
      "text/plain": [
       "<Figure size 640x480 with 1 Axes>"
      ]
     },
     "metadata": {},
     "output_type": "display_data"
    }
   ],
   "source": [
    "sns.barplot(data = b, x = 'InsuredHobbies_chess', y = 'ReportedFraud')\n",
    "plt.xlabel('Chess Hobby')\n",
    "plt.ylabel('Rate of fraudulent claim')"
   ]
  },
  {
   "cell_type": "code",
   "execution_count": 341,
   "id": "a5467621",
   "metadata": {},
   "outputs": [],
   "source": [
    "df['AOPC_cut'] = pd.cut(df['AmountOfPropertyClaim'], bins = 5, \n",
    "                        labels=['Very Low', 'Low', 'Medium', 'High', 'Very High'])"
   ]
  },
  {
   "cell_type": "code",
   "execution_count": 342,
   "id": "0a5c0855",
   "metadata": {},
   "outputs": [
    {
     "data": {
      "text/plain": [
       "['Low', 'High', 'Medium', 'Very Low', 'Very High']\n",
       "Categories (5, object): ['Very Low' < 'Low' < 'Medium' < 'High' < 'Very High']"
      ]
     },
     "execution_count": 342,
     "metadata": {},
     "output_type": "execute_result"
    }
   ],
   "source": [
    "df['AOPC_cut'].unique()"
   ]
  },
  {
   "cell_type": "code",
   "execution_count": 343,
   "id": "8f02590d",
   "metadata": {},
   "outputs": [],
   "source": [
    "c = df.groupby('AOPC_cut')['ReportedFraud'].mean().reset_index()"
   ]
  },
  {
   "cell_type": "code",
   "execution_count": 344,
   "id": "6a1e88eb",
   "metadata": {},
   "outputs": [
    {
     "data": {
      "text/plain": [
       "Text(0, 0.5, 'Rate of fraudulent claim')"
      ]
     },
     "execution_count": 344,
     "metadata": {},
     "output_type": "execute_result"
    },
    {
     "data": {
      "image/png": "[encoded data removed]",
      "text/plain": [
       "<Figure size 640x480 with 1 Axes>"
      ]
     },
     "metadata": {},
     "output_type": "display_data"
    }
   ],
   "source": [
    "sns.barplot(data = c, x = 'AOPC_cut', y = 'ReportedFraud')\n",
    "plt.xlabel('Amount of Property Claim')\n",
    "plt.ylabel('Rate of fraudulent claim')"
   ]
  },
  {
   "cell_type": "code",
   "execution_count": 345,
   "id": "83716db0",
   "metadata": {},
   "outputs": [],
   "source": [
    "df['AOIC_cut'] = pd.cut(df['AmountOfInjuryClaim'], bins = 5, \n",
    "                        labels=['Very Low', 'Low', 'Medium', 'High', 'Very High'])"
   ]
  },
  {
   "cell_type": "code",
   "execution_count": 346,
   "id": "9d3c3026",
   "metadata": {},
   "outputs": [],
   "source": [
    "d = df.groupby('AOIC_cut')['ReportedFraud'].mean().reset_index()"
   ]
  },
  {
   "cell_type": "code",
   "execution_count": 347,
   "id": "3be4e2f4",
   "metadata": {},
   "outputs": [
    {
     "data": {
      "text/plain": [
       "Text(0, 0.5, 'Rate of fraudulent claim')"
      ]
     },
     "execution_count": 347,
     "metadata": {},
     "output_type": "execute_result"
    },
    {
     "data": {
      "image/png": "[encoded data removed]",
      "text/plain": [
       "<Figure size 640x480 with 1 Axes>"
      ]
     },
     "metadata": {},
     "output_type": "display_data"
    }
   ],
   "source": [
    "sns.barplot(data = d, x = 'AOIC_cut', y = 'ReportedFraud')\n",
    "plt.xlabel('Amount of Injury Claim')\n",
    "plt.ylabel('Rate of fraudulent claim')"
   ]
  },
  {
   "cell_type": "code",
   "execution_count": 348,
   "id": "a48eb788",
   "metadata": {},
   "outputs": [],
   "source": [
    "df['AOVD_cut'] = pd.cut(df['AmountOfVehicleDamage'], bins = 5, \n",
    "                        labels=['Very Low', 'Low', 'Medium', 'High', 'Very High'])"
   ]
  },
  {
   "cell_type": "code",
   "execution_count": 349,
   "id": "92ac6831",
   "metadata": {},
   "outputs": [],
   "source": [
    "e = df.groupby('AOVD_cut')['ReportedFraud'].mean().reset_index()"
   ]
  },
  {
   "cell_type": "code",
   "execution_count": 352,
   "id": "d022aa32",
   "metadata": {},
   "outputs": [
    {
     "data": {
      "text/plain": [
       "Text(0, 0.5, 'Rate of fraudulent claim')"
      ]
     },
     "execution_count": 352,
     "metadata": {},
     "output_type": "execute_result"
    },
    {
     "data": {
      "image/png": "[encoded data removed]",
      "text/plain": [
       "<Figure size 640x480 with 1 Axes>"
      ]
     },
     "metadata": {},
     "output_type": "display_data"
    }
   ],
   "source": [
    "sns.barplot(data = e, x = 'AOVD_cut', y = 'ReportedFraud')\n",
    "plt.xlabel('Amount of Vehicle Damage Claim')\n",
    "plt.ylabel('Rate of fraudulent claim')"
   ]
  },
  {
   "cell_type": "code",
   "execution_count": null,
   "id": "fe8a3e6b",
   "metadata": {},
   "outputs": [],
   "source": []
  },
  {
   "cell_type": "code",
   "execution_count": null,
   "id": "85f8d512",
   "metadata": {},
   "outputs": [],
   "source": []
  }
 ],
 "metadata": {
  "kernelspec": {
   "display_name": "Python 3 (ipykernel)",
   "language": "python",
   "name": "python3"
  },
  "language_info": {
   "codemirror_mode": {
    "name": "ipython",
    "version": 3
   },
   "file_extension": ".py",
   "mimetype": "text/x-python",
   "name": "python",
   "nbconvert_exporter": "python",
   "pygments_lexer": "ipython3",
   "version": "3.9.13"
  }
 },
 "nbformat": 4,
 "nbformat_minor": 5
}
