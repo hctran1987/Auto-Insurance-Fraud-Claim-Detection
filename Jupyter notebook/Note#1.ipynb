{
 "cells": [
  {
   "cell_type": "code",
   "execution_count": 1,
   "id": "e7c8cc32",
   "metadata": {},
   "outputs": [],
   "source": [
    "import pandas as pd\n",
    "import numpy as np\n",
    "import matplotlib.pyplot as plt"
   ]
  },
  {
   "cell_type": "code",
   "execution_count": 2,
   "id": "417223c5",
   "metadata": {},
   "outputs": [],
   "source": [
    "Traindata_with_Target = pd.read_csv('Traindata_with_Target.csv')\n",
    "Train_claim = pd.read_csv('Train_claim.csv')\n",
    "Train_Demographics = pd.read_csv('Train_Demographics.csv')\n",
    "Train_Policy = pd.read_csv('Train_Policy.csv')\n",
    "Train_Vehicle = pd.read_csv('Train_Vehicle.csv')"
   ]
  },
  {
   "cell_type": "code",
   "execution_count": 3,
   "id": "a74c4216",
   "metadata": {},
   "outputs": [
    {
     "data": {
      "text/html": [
       "<div>\n",
       "<style scoped>\n",
       "    .dataframe tbody tr th:only-of-type {\n",
       "        vertical-align: middle;\n",
       "    }\n",
       "\n",
       "    .dataframe tbody tr th {\n",
       "        vertical-align: top;\n",
       "    }\n",
       "\n",
       "    .dataframe thead th {\n",
       "        text-align: right;\n",
       "    }\n",
       "</style>\n",
       "<table border=\"1\" class=\"dataframe\">\n",
       "  <thead>\n",
       "    <tr style=\"text-align: right;\">\n",
       "      <th></th>\n",
       "      <th>CustomerID</th>\n",
       "      <th>ReportedFraud</th>\n",
       "    </tr>\n",
       "  </thead>\n",
       "  <tbody>\n",
       "    <tr>\n",
       "      <th>0</th>\n",
       "      <td>Cust20065</td>\n",
       "      <td>N</td>\n",
       "    </tr>\n",
       "    <tr>\n",
       "      <th>1</th>\n",
       "      <td>Cust37589</td>\n",
       "      <td>N</td>\n",
       "    </tr>\n",
       "    <tr>\n",
       "      <th>2</th>\n",
       "      <td>Cust24312</td>\n",
       "      <td>N</td>\n",
       "    </tr>\n",
       "    <tr>\n",
       "      <th>3</th>\n",
       "      <td>Cust5493</td>\n",
       "      <td>Y</td>\n",
       "    </tr>\n",
       "    <tr>\n",
       "      <th>4</th>\n",
       "      <td>Cust7704</td>\n",
       "      <td>Y</td>\n",
       "    </tr>\n",
       "    <tr>\n",
       "      <th>...</th>\n",
       "      <td>...</td>\n",
       "      <td>...</td>\n",
       "    </tr>\n",
       "    <tr>\n",
       "      <th>28831</th>\n",
       "      <td>Cust9773</td>\n",
       "      <td>N</td>\n",
       "    </tr>\n",
       "    <tr>\n",
       "      <th>28832</th>\n",
       "      <td>Cust38439</td>\n",
       "      <td>N</td>\n",
       "    </tr>\n",
       "    <tr>\n",
       "      <th>28833</th>\n",
       "      <td>Cust38444</td>\n",
       "      <td>N</td>\n",
       "    </tr>\n",
       "    <tr>\n",
       "      <th>28834</th>\n",
       "      <td>Cust26466</td>\n",
       "      <td>N</td>\n",
       "    </tr>\n",
       "    <tr>\n",
       "      <th>28835</th>\n",
       "      <td>Cust29555</td>\n",
       "      <td>N</td>\n",
       "    </tr>\n",
       "  </tbody>\n",
       "</table>\n",
       "<p>28836 rows × 2 columns</p>\n",
       "</div>"
      ],
      "text/plain": [
       "      CustomerID ReportedFraud\n",
       "0      Cust20065             N\n",
       "1      Cust37589             N\n",
       "2      Cust24312             N\n",
       "3       Cust5493             Y\n",
       "4       Cust7704             Y\n",
       "...          ...           ...\n",
       "28831   Cust9773             N\n",
       "28832  Cust38439             N\n",
       "28833  Cust38444             N\n",
       "28834  Cust26466             N\n",
       "28835  Cust29555             N\n",
       "\n",
       "[28836 rows x 2 columns]"
      ]
     },
     "execution_count": 3,
     "metadata": {},
     "output_type": "execute_result"
    }
   ],
   "source": [
    "Traindata_with_Target"
   ]
  },
  {
   "cell_type": "code",
   "execution_count": 4,
   "id": "eae1d28c",
   "metadata": {},
   "outputs": [
    {
     "data": {
      "text/plain": [
       "28836"
      ]
     },
     "execution_count": 4,
     "metadata": {},
     "output_type": "execute_result"
    }
   ],
   "source": [
    "ID = set(Traindata_with_Target['CustomerID'])\n",
    "len(ID)"
   ]
  },
  {
   "cell_type": "code",
   "execution_count": 5,
   "id": "11a88606",
   "metadata": {},
   "outputs": [
    {
     "data": {
      "text/html": [
       "<div>\n",
       "<style scoped>\n",
       "    .dataframe tbody tr th:only-of-type {\n",
       "        vertical-align: middle;\n",
       "    }\n",
       "\n",
       "    .dataframe tbody tr th {\n",
       "        vertical-align: top;\n",
       "    }\n",
       "\n",
       "    .dataframe thead th {\n",
       "        text-align: right;\n",
       "    }\n",
       "</style>\n",
       "<table border=\"1\" class=\"dataframe\">\n",
       "  <thead>\n",
       "    <tr style=\"text-align: right;\">\n",
       "      <th></th>\n",
       "      <th>CustomerID</th>\n",
       "      <th>DateOfIncident</th>\n",
       "      <th>TypeOfIncident</th>\n",
       "      <th>TypeOfCollission</th>\n",
       "      <th>SeverityOfIncident</th>\n",
       "      <th>AuthoritiesContacted</th>\n",
       "      <th>IncidentState</th>\n",
       "      <th>IncidentCity</th>\n",
       "      <th>IncidentAddress</th>\n",
       "      <th>IncidentTime</th>\n",
       "      <th>NumberOfVehicles</th>\n",
       "      <th>PropertyDamage</th>\n",
       "      <th>BodilyInjuries</th>\n",
       "      <th>Witnesses</th>\n",
       "      <th>PoliceReport</th>\n",
       "      <th>AmountOfTotalClaim</th>\n",
       "      <th>AmountOfInjuryClaim</th>\n",
       "      <th>AmountOfPropertyClaim</th>\n",
       "      <th>AmountOfVehicleDamage</th>\n",
       "    </tr>\n",
       "  </thead>\n",
       "  <tbody>\n",
       "    <tr>\n",
       "      <th>0</th>\n",
       "      <td>Cust10000</td>\n",
       "      <td>2015-02-03</td>\n",
       "      <td>Multi-vehicle Collision</td>\n",
       "      <td>Side Collision</td>\n",
       "      <td>Total Loss</td>\n",
       "      <td>Police</td>\n",
       "      <td>State7</td>\n",
       "      <td>City1</td>\n",
       "      <td>Location 1311</td>\n",
       "      <td>17</td>\n",
       "      <td>3</td>\n",
       "      <td>?</td>\n",
       "      <td>1</td>\n",
       "      <td>0</td>\n",
       "      <td>?</td>\n",
       "      <td>65501</td>\n",
       "      <td>13417</td>\n",
       "      <td>6071</td>\n",
       "      <td>46013</td>\n",
       "    </tr>\n",
       "    <tr>\n",
       "      <th>1</th>\n",
       "      <td>Cust10001</td>\n",
       "      <td>2015-02-02</td>\n",
       "      <td>Multi-vehicle Collision</td>\n",
       "      <td>Side Collision</td>\n",
       "      <td>Total Loss</td>\n",
       "      <td>Police</td>\n",
       "      <td>State7</td>\n",
       "      <td>City5</td>\n",
       "      <td>Location 1311</td>\n",
       "      <td>10</td>\n",
       "      <td>3</td>\n",
       "      <td>YES</td>\n",
       "      <td>2</td>\n",
       "      <td>1</td>\n",
       "      <td>YES</td>\n",
       "      <td>61382</td>\n",
       "      <td>15560</td>\n",
       "      <td>5919</td>\n",
       "      <td>39903</td>\n",
       "    </tr>\n",
       "    <tr>\n",
       "      <th>2</th>\n",
       "      <td>Cust10002</td>\n",
       "      <td>2015-01-15</td>\n",
       "      <td>Single Vehicle Collision</td>\n",
       "      <td>Side Collision</td>\n",
       "      <td>Minor Damage</td>\n",
       "      <td>Other</td>\n",
       "      <td>State8</td>\n",
       "      <td>City6</td>\n",
       "      <td>Location 2081</td>\n",
       "      <td>22</td>\n",
       "      <td>1</td>\n",
       "      <td>YES</td>\n",
       "      <td>2</td>\n",
       "      <td>3</td>\n",
       "      <td>NO</td>\n",
       "      <td>66755</td>\n",
       "      <td>11630</td>\n",
       "      <td>11630</td>\n",
       "      <td>43495</td>\n",
       "    </tr>\n",
       "    <tr>\n",
       "      <th>3</th>\n",
       "      <td>Cust10003</td>\n",
       "      <td>2015-01-19</td>\n",
       "      <td>Single Vehicle Collision</td>\n",
       "      <td>Side Collision</td>\n",
       "      <td>Minor Damage</td>\n",
       "      <td>Other</td>\n",
       "      <td>State9</td>\n",
       "      <td>City6</td>\n",
       "      <td>Location 2081</td>\n",
       "      <td>22</td>\n",
       "      <td>1</td>\n",
       "      <td>YES</td>\n",
       "      <td>2</td>\n",
       "      <td>3</td>\n",
       "      <td>NO</td>\n",
       "      <td>66243</td>\n",
       "      <td>12003</td>\n",
       "      <td>12003</td>\n",
       "      <td>42237</td>\n",
       "    </tr>\n",
       "    <tr>\n",
       "      <th>4</th>\n",
       "      <td>Cust10004</td>\n",
       "      <td>2015-01-09</td>\n",
       "      <td>Single Vehicle Collision</td>\n",
       "      <td>Rear Collision</td>\n",
       "      <td>Minor Damage</td>\n",
       "      <td>Fire</td>\n",
       "      <td>State8</td>\n",
       "      <td>City6</td>\n",
       "      <td>Location 1695</td>\n",
       "      <td>10</td>\n",
       "      <td>1</td>\n",
       "      <td>NO</td>\n",
       "      <td>2</td>\n",
       "      <td>1</td>\n",
       "      <td>YES</td>\n",
       "      <td>53544</td>\n",
       "      <td>8829</td>\n",
       "      <td>7234</td>\n",
       "      <td>37481</td>\n",
       "    </tr>\n",
       "    <tr>\n",
       "      <th>...</th>\n",
       "      <td>...</td>\n",
       "      <td>...</td>\n",
       "      <td>...</td>\n",
       "      <td>...</td>\n",
       "      <td>...</td>\n",
       "      <td>...</td>\n",
       "      <td>...</td>\n",
       "      <td>...</td>\n",
       "      <td>...</td>\n",
       "      <td>...</td>\n",
       "      <td>...</td>\n",
       "      <td>...</td>\n",
       "      <td>...</td>\n",
       "      <td>...</td>\n",
       "      <td>...</td>\n",
       "      <td>...</td>\n",
       "      <td>...</td>\n",
       "      <td>...</td>\n",
       "      <td>...</td>\n",
       "    </tr>\n",
       "    <tr>\n",
       "      <th>28831</th>\n",
       "      <td>Cust9993</td>\n",
       "      <td>2015-01-24</td>\n",
       "      <td>Vehicle Theft</td>\n",
       "      <td>?</td>\n",
       "      <td>Trivial Damage</td>\n",
       "      <td>Police</td>\n",
       "      <td>State9</td>\n",
       "      <td>City4</td>\n",
       "      <td>Location 1890</td>\n",
       "      <td>3</td>\n",
       "      <td>1</td>\n",
       "      <td>NO</td>\n",
       "      <td>0</td>\n",
       "      <td>3</td>\n",
       "      <td>?</td>\n",
       "      <td>6590</td>\n",
       "      <td>870</td>\n",
       "      <td>1078</td>\n",
       "      <td>4642</td>\n",
       "    </tr>\n",
       "    <tr>\n",
       "      <th>28832</th>\n",
       "      <td>Cust9994</td>\n",
       "      <td>2015-02-09</td>\n",
       "      <td>Single Vehicle Collision</td>\n",
       "      <td>Front Collision</td>\n",
       "      <td>Minor Damage</td>\n",
       "      <td>Fire</td>\n",
       "      <td>State8</td>\n",
       "      <td>City3</td>\n",
       "      <td>Location 2097</td>\n",
       "      <td>17</td>\n",
       "      <td>1</td>\n",
       "      <td>YES</td>\n",
       "      <td>0</td>\n",
       "      <td>2</td>\n",
       "      <td>YES</td>\n",
       "      <td>74547</td>\n",
       "      <td>14699</td>\n",
       "      <td>7875</td>\n",
       "      <td>51973</td>\n",
       "    </tr>\n",
       "    <tr>\n",
       "      <th>28833</th>\n",
       "      <td>Cust9996</td>\n",
       "      <td>2015-01-28</td>\n",
       "      <td>Single Vehicle Collision</td>\n",
       "      <td>Rear Collision</td>\n",
       "      <td>Minor Damage</td>\n",
       "      <td>Fire</td>\n",
       "      <td>State9</td>\n",
       "      <td>City7</td>\n",
       "      <td>Location 1452</td>\n",
       "      <td>1</td>\n",
       "      <td>1</td>\n",
       "      <td>YES</td>\n",
       "      <td>2</td>\n",
       "      <td>0</td>\n",
       "      <td>YES</td>\n",
       "      <td>55305</td>\n",
       "      <td>7043</td>\n",
       "      <td>7043</td>\n",
       "      <td>41219</td>\n",
       "    </tr>\n",
       "    <tr>\n",
       "      <th>28834</th>\n",
       "      <td>Cust9997</td>\n",
       "      <td>2015-01-28</td>\n",
       "      <td>Single Vehicle Collision</td>\n",
       "      <td>Rear Collision</td>\n",
       "      <td>Minor Damage</td>\n",
       "      <td>Ambulance</td>\n",
       "      <td>State9</td>\n",
       "      <td>City3</td>\n",
       "      <td>Location 1876</td>\n",
       "      <td>1</td>\n",
       "      <td>1</td>\n",
       "      <td>?</td>\n",
       "      <td>2</td>\n",
       "      <td>0</td>\n",
       "      <td>YES</td>\n",
       "      <td>55830</td>\n",
       "      <td>7059</td>\n",
       "      <td>7059</td>\n",
       "      <td>41712</td>\n",
       "    </tr>\n",
       "    <tr>\n",
       "      <th>28835</th>\n",
       "      <td>Cust9999</td>\n",
       "      <td>2015-01-13</td>\n",
       "      <td>Single Vehicle Collision</td>\n",
       "      <td>Front Collision</td>\n",
       "      <td>Total Loss</td>\n",
       "      <td>Other</td>\n",
       "      <td>State8</td>\n",
       "      <td>City3</td>\n",
       "      <td>Location 1874</td>\n",
       "      <td>9</td>\n",
       "      <td>1</td>\n",
       "      <td>NO</td>\n",
       "      <td>1</td>\n",
       "      <td>3</td>\n",
       "      <td>YES</td>\n",
       "      <td>68969</td>\n",
       "      <td>12075</td>\n",
       "      <td>6038</td>\n",
       "      <td>50856</td>\n",
       "    </tr>\n",
       "  </tbody>\n",
       "</table>\n",
       "<p>28836 rows × 19 columns</p>\n",
       "</div>"
      ],
      "text/plain": [
       "      CustomerID DateOfIncident            TypeOfIncident TypeOfCollission  \\\n",
       "0      Cust10000     2015-02-03   Multi-vehicle Collision   Side Collision   \n",
       "1      Cust10001     2015-02-02   Multi-vehicle Collision   Side Collision   \n",
       "2      Cust10002     2015-01-15  Single Vehicle Collision   Side Collision   \n",
       "3      Cust10003     2015-01-19  Single Vehicle Collision   Side Collision   \n",
       "4      Cust10004     2015-01-09  Single Vehicle Collision   Rear Collision   \n",
       "...          ...            ...                       ...              ...   \n",
       "28831   Cust9993     2015-01-24             Vehicle Theft                ?   \n",
       "28832   Cust9994     2015-02-09  Single Vehicle Collision  Front Collision   \n",
       "28833   Cust9996     2015-01-28  Single Vehicle Collision   Rear Collision   \n",
       "28834   Cust9997     2015-01-28  Single Vehicle Collision   Rear Collision   \n",
       "28835   Cust9999     2015-01-13  Single Vehicle Collision  Front Collision   \n",
       "\n",
       "      SeverityOfIncident AuthoritiesContacted IncidentState IncidentCity  \\\n",
       "0             Total Loss               Police        State7        City1   \n",
       "1             Total Loss               Police        State7        City5   \n",
       "2           Minor Damage                Other        State8        City6   \n",
       "3           Minor Damage                Other        State9        City6   \n",
       "4           Minor Damage                 Fire        State8        City6   \n",
       "...                  ...                  ...           ...          ...   \n",
       "28831     Trivial Damage               Police        State9        City4   \n",
       "28832       Minor Damage                 Fire        State8        City3   \n",
       "28833       Minor Damage                 Fire        State9        City7   \n",
       "28834       Minor Damage            Ambulance        State9        City3   \n",
       "28835         Total Loss                Other        State8        City3   \n",
       "\n",
       "      IncidentAddress  IncidentTime  NumberOfVehicles PropertyDamage  \\\n",
       "0       Location 1311            17                 3              ?   \n",
       "1       Location 1311            10                 3            YES   \n",
       "2       Location 2081            22                 1            YES   \n",
       "3       Location 2081            22                 1            YES   \n",
       "4       Location 1695            10                 1             NO   \n",
       "...               ...           ...               ...            ...   \n",
       "28831   Location 1890             3                 1             NO   \n",
       "28832   Location 2097            17                 1            YES   \n",
       "28833   Location 1452             1                 1            YES   \n",
       "28834   Location 1876             1                 1              ?   \n",
       "28835   Location 1874             9                 1             NO   \n",
       "\n",
       "       BodilyInjuries Witnesses PoliceReport AmountOfTotalClaim  \\\n",
       "0                   1         0            ?              65501   \n",
       "1                   2         1          YES              61382   \n",
       "2                   2         3           NO              66755   \n",
       "3                   2         3           NO              66243   \n",
       "4                   2         1          YES              53544   \n",
       "...               ...       ...          ...                ...   \n",
       "28831               0         3            ?               6590   \n",
       "28832               0         2          YES              74547   \n",
       "28833               2         0          YES              55305   \n",
       "28834               2         0          YES              55830   \n",
       "28835               1         3          YES              68969   \n",
       "\n",
       "       AmountOfInjuryClaim  AmountOfPropertyClaim  AmountOfVehicleDamage  \n",
       "0                    13417                   6071                  46013  \n",
       "1                    15560                   5919                  39903  \n",
       "2                    11630                  11630                  43495  \n",
       "3                    12003                  12003                  42237  \n",
       "4                     8829                   7234                  37481  \n",
       "...                    ...                    ...                    ...  \n",
       "28831                  870                   1078                   4642  \n",
       "28832                14699                   7875                  51973  \n",
       "28833                 7043                   7043                  41219  \n",
       "28834                 7059                   7059                  41712  \n",
       "28835                12075                   6038                  50856  \n",
       "\n",
       "[28836 rows x 19 columns]"
      ]
     },
     "execution_count": 5,
     "metadata": {},
     "output_type": "execute_result"
    }
   ],
   "source": [
    "Train_claim\n"
   ]
  },
  {
   "cell_type": "code",
   "execution_count": 6,
   "id": "e634729f",
   "metadata": {},
   "outputs": [
    {
     "name": "stdout",
     "output_type": "stream",
     "text": [
      "<class 'pandas.core.frame.DataFrame'>\n",
      "RangeIndex: 28836 entries, 0 to 28835\n",
      "Data columns (total 19 columns):\n",
      " #   Column                 Non-Null Count  Dtype \n",
      "---  ------                 --------------  ----- \n",
      " 0   CustomerID             28836 non-null  object\n",
      " 1   DateOfIncident         28836 non-null  object\n",
      " 2   TypeOfIncident         28836 non-null  object\n",
      " 3   TypeOfCollission       28836 non-null  object\n",
      " 4   SeverityOfIncident     28836 non-null  object\n",
      " 5   AuthoritiesContacted   28836 non-null  object\n",
      " 6   IncidentState          28836 non-null  object\n",
      " 7   IncidentCity           28836 non-null  object\n",
      " 8   IncidentAddress        28836 non-null  object\n",
      " 9   IncidentTime           28836 non-null  int64 \n",
      " 10  NumberOfVehicles       28836 non-null  int64 \n",
      " 11  PropertyDamage         28836 non-null  object\n",
      " 12  BodilyInjuries         28836 non-null  int64 \n",
      " 13  Witnesses              28836 non-null  object\n",
      " 14  PoliceReport           28836 non-null  object\n",
      " 15  AmountOfTotalClaim     28836 non-null  object\n",
      " 16  AmountOfInjuryClaim    28836 non-null  int64 \n",
      " 17  AmountOfPropertyClaim  28836 non-null  int64 \n",
      " 18  AmountOfVehicleDamage  28836 non-null  int64 \n",
      "dtypes: int64(6), object(13)\n",
      "memory usage: 4.2+ MB\n"
     ]
    }
   ],
   "source": [
    "Train_claim.info()"
   ]
  },
  {
   "cell_type": "code",
   "execution_count": 7,
   "id": "3b2a6774",
   "metadata": {},
   "outputs": [
    {
     "data": {
      "text/plain": [
       "True"
      ]
     },
     "execution_count": 7,
     "metadata": {},
     "output_type": "execute_result"
    }
   ],
   "source": [
    "set(Train_claim['CustomerID']) == ID"
   ]
  },
  {
   "cell_type": "code",
   "execution_count": 8,
   "id": "c884e840",
   "metadata": {},
   "outputs": [
    {
     "data": {
      "text/html": [
       "<div>\n",
       "<style scoped>\n",
       "    .dataframe tbody tr th:only-of-type {\n",
       "        vertical-align: middle;\n",
       "    }\n",
       "\n",
       "    .dataframe tbody tr th {\n",
       "        vertical-align: top;\n",
       "    }\n",
       "\n",
       "    .dataframe thead th {\n",
       "        text-align: right;\n",
       "    }\n",
       "</style>\n",
       "<table border=\"1\" class=\"dataframe\">\n",
       "  <thead>\n",
       "    <tr style=\"text-align: right;\">\n",
       "      <th></th>\n",
       "      <th>CustomerID</th>\n",
       "      <th>InsuredAge</th>\n",
       "      <th>InsuredZipCode</th>\n",
       "      <th>InsuredGender</th>\n",
       "      <th>InsuredEducationLevel</th>\n",
       "      <th>InsuredOccupation</th>\n",
       "      <th>InsuredHobbies</th>\n",
       "      <th>CapitalGains</th>\n",
       "      <th>CapitalLoss</th>\n",
       "      <th>Country</th>\n",
       "    </tr>\n",
       "  </thead>\n",
       "  <tbody>\n",
       "    <tr>\n",
       "      <th>0</th>\n",
       "      <td>Cust10000</td>\n",
       "      <td>35</td>\n",
       "      <td>454776</td>\n",
       "      <td>MALE</td>\n",
       "      <td>JD</td>\n",
       "      <td>armed-forces</td>\n",
       "      <td>movies</td>\n",
       "      <td>56700</td>\n",
       "      <td>-48500</td>\n",
       "      <td>India</td>\n",
       "    </tr>\n",
       "    <tr>\n",
       "      <th>1</th>\n",
       "      <td>Cust10001</td>\n",
       "      <td>36</td>\n",
       "      <td>454776</td>\n",
       "      <td>MALE</td>\n",
       "      <td>JD</td>\n",
       "      <td>tech-support</td>\n",
       "      <td>cross-fit</td>\n",
       "      <td>70600</td>\n",
       "      <td>-48500</td>\n",
       "      <td>India</td>\n",
       "    </tr>\n",
       "    <tr>\n",
       "      <th>2</th>\n",
       "      <td>Cust10002</td>\n",
       "      <td>33</td>\n",
       "      <td>603260</td>\n",
       "      <td>MALE</td>\n",
       "      <td>JD</td>\n",
       "      <td>armed-forces</td>\n",
       "      <td>polo</td>\n",
       "      <td>66400</td>\n",
       "      <td>-63700</td>\n",
       "      <td>India</td>\n",
       "    </tr>\n",
       "    <tr>\n",
       "      <th>3</th>\n",
       "      <td>Cust10003</td>\n",
       "      <td>36</td>\n",
       "      <td>474848</td>\n",
       "      <td>MALE</td>\n",
       "      <td>JD</td>\n",
       "      <td>armed-forces</td>\n",
       "      <td>polo</td>\n",
       "      <td>47900</td>\n",
       "      <td>-73400</td>\n",
       "      <td>India</td>\n",
       "    </tr>\n",
       "    <tr>\n",
       "      <th>4</th>\n",
       "      <td>Cust10004</td>\n",
       "      <td>29</td>\n",
       "      <td>457942</td>\n",
       "      <td>FEMALE</td>\n",
       "      <td>High School</td>\n",
       "      <td>exec-managerial</td>\n",
       "      <td>dancing</td>\n",
       "      <td>0</td>\n",
       "      <td>-41500</td>\n",
       "      <td>India</td>\n",
       "    </tr>\n",
       "    <tr>\n",
       "      <th>...</th>\n",
       "      <td>...</td>\n",
       "      <td>...</td>\n",
       "      <td>...</td>\n",
       "      <td>...</td>\n",
       "      <td>...</td>\n",
       "      <td>...</td>\n",
       "      <td>...</td>\n",
       "      <td>...</td>\n",
       "      <td>...</td>\n",
       "      <td>...</td>\n",
       "    </tr>\n",
       "    <tr>\n",
       "      <th>28831</th>\n",
       "      <td>Cust9993</td>\n",
       "      <td>46</td>\n",
       "      <td>600561</td>\n",
       "      <td>MALE</td>\n",
       "      <td>Masters</td>\n",
       "      <td>protective-serv</td>\n",
       "      <td>sleeping</td>\n",
       "      <td>0</td>\n",
       "      <td>0</td>\n",
       "      <td>India</td>\n",
       "    </tr>\n",
       "    <tr>\n",
       "      <th>28832</th>\n",
       "      <td>Cust9994</td>\n",
       "      <td>44</td>\n",
       "      <td>439304</td>\n",
       "      <td>MALE</td>\n",
       "      <td>Masters</td>\n",
       "      <td>adm-clerical</td>\n",
       "      <td>dancing</td>\n",
       "      <td>0</td>\n",
       "      <td>-28800</td>\n",
       "      <td>India</td>\n",
       "    </tr>\n",
       "    <tr>\n",
       "      <th>28833</th>\n",
       "      <td>Cust9996</td>\n",
       "      <td>53</td>\n",
       "      <td>460722</td>\n",
       "      <td>MALE</td>\n",
       "      <td>PhD</td>\n",
       "      <td>transport-moving</td>\n",
       "      <td>base-jumping</td>\n",
       "      <td>63100</td>\n",
       "      <td>-43800</td>\n",
       "      <td>India</td>\n",
       "    </tr>\n",
       "    <tr>\n",
       "      <th>28834</th>\n",
       "      <td>Cust9997</td>\n",
       "      <td>53</td>\n",
       "      <td>472634</td>\n",
       "      <td>MALE</td>\n",
       "      <td>Associate</td>\n",
       "      <td>transport-moving</td>\n",
       "      <td>skydiving</td>\n",
       "      <td>67400</td>\n",
       "      <td>-43800</td>\n",
       "      <td>India</td>\n",
       "    </tr>\n",
       "    <tr>\n",
       "      <th>28835</th>\n",
       "      <td>Cust9999</td>\n",
       "      <td>36</td>\n",
       "      <td>450730</td>\n",
       "      <td>FEMALE</td>\n",
       "      <td>PhD</td>\n",
       "      <td>handlers-cleaners</td>\n",
       "      <td>base-jumping</td>\n",
       "      <td>46400</td>\n",
       "      <td>-74300</td>\n",
       "      <td>India</td>\n",
       "    </tr>\n",
       "  </tbody>\n",
       "</table>\n",
       "<p>28836 rows × 10 columns</p>\n",
       "</div>"
      ],
      "text/plain": [
       "      CustomerID  InsuredAge  InsuredZipCode InsuredGender  \\\n",
       "0      Cust10000          35          454776          MALE   \n",
       "1      Cust10001          36          454776          MALE   \n",
       "2      Cust10002          33          603260          MALE   \n",
       "3      Cust10003          36          474848          MALE   \n",
       "4      Cust10004          29          457942        FEMALE   \n",
       "...          ...         ...             ...           ...   \n",
       "28831   Cust9993          46          600561          MALE   \n",
       "28832   Cust9994          44          439304          MALE   \n",
       "28833   Cust9996          53          460722          MALE   \n",
       "28834   Cust9997          53          472634          MALE   \n",
       "28835   Cust9999          36          450730        FEMALE   \n",
       "\n",
       "      InsuredEducationLevel  InsuredOccupation InsuredHobbies  CapitalGains  \\\n",
       "0                        JD       armed-forces         movies         56700   \n",
       "1                        JD       tech-support      cross-fit         70600   \n",
       "2                        JD       armed-forces           polo         66400   \n",
       "3                        JD       armed-forces           polo         47900   \n",
       "4               High School    exec-managerial        dancing             0   \n",
       "...                     ...                ...            ...           ...   \n",
       "28831               Masters    protective-serv       sleeping             0   \n",
       "28832               Masters       adm-clerical        dancing             0   \n",
       "28833                   PhD   transport-moving   base-jumping         63100   \n",
       "28834             Associate   transport-moving      skydiving         67400   \n",
       "28835                   PhD  handlers-cleaners   base-jumping         46400   \n",
       "\n",
       "       CapitalLoss Country  \n",
       "0           -48500   India  \n",
       "1           -48500   India  \n",
       "2           -63700   India  \n",
       "3           -73400   India  \n",
       "4           -41500   India  \n",
       "...            ...     ...  \n",
       "28831            0   India  \n",
       "28832       -28800   India  \n",
       "28833       -43800   India  \n",
       "28834       -43800   India  \n",
       "28835       -74300   India  \n",
       "\n",
       "[28836 rows x 10 columns]"
      ]
     },
     "execution_count": 8,
     "metadata": {},
     "output_type": "execute_result"
    }
   ],
   "source": [
    "Train_Demographics"
   ]
  },
  {
   "cell_type": "code",
   "execution_count": 9,
   "id": "14cef2d8",
   "metadata": {},
   "outputs": [
    {
     "name": "stdout",
     "output_type": "stream",
     "text": [
      "<class 'pandas.core.frame.DataFrame'>\n",
      "RangeIndex: 28836 entries, 0 to 28835\n",
      "Data columns (total 10 columns):\n",
      " #   Column                 Non-Null Count  Dtype \n",
      "---  ------                 --------------  ----- \n",
      " 0   CustomerID             28836 non-null  object\n",
      " 1   InsuredAge             28836 non-null  int64 \n",
      " 2   InsuredZipCode         28836 non-null  int64 \n",
      " 3   InsuredGender          28806 non-null  object\n",
      " 4   InsuredEducationLevel  28836 non-null  object\n",
      " 5   InsuredOccupation      28836 non-null  object\n",
      " 6   InsuredHobbies         28836 non-null  object\n",
      " 7   CapitalGains           28836 non-null  int64 \n",
      " 8   CapitalLoss            28836 non-null  int64 \n",
      " 9   Country                28834 non-null  object\n",
      "dtypes: int64(4), object(6)\n",
      "memory usage: 2.2+ MB\n"
     ]
    }
   ],
   "source": [
    "Train_Demographics.info()\n"
   ]
  },
  {
   "cell_type": "code",
   "execution_count": 10,
   "id": "ca1abcbd",
   "metadata": {},
   "outputs": [
    {
     "data": {
      "text/plain": [
       "True"
      ]
     },
     "execution_count": 10,
     "metadata": {},
     "output_type": "execute_result"
    }
   ],
   "source": [
    "set(Train_Demographics['CustomerID']) == ID"
   ]
  },
  {
   "cell_type": "code",
   "execution_count": 11,
   "id": "21fd516c",
   "metadata": {},
   "outputs": [
    {
     "data": {
      "text/html": [
       "<div>\n",
       "<style scoped>\n",
       "    .dataframe tbody tr th:only-of-type {\n",
       "        vertical-align: middle;\n",
       "    }\n",
       "\n",
       "    .dataframe tbody tr th {\n",
       "        vertical-align: top;\n",
       "    }\n",
       "\n",
       "    .dataframe thead th {\n",
       "        text-align: right;\n",
       "    }\n",
       "</style>\n",
       "<table border=\"1\" class=\"dataframe\">\n",
       "  <thead>\n",
       "    <tr style=\"text-align: right;\">\n",
       "      <th></th>\n",
       "      <th>InsurancePolicyNumber</th>\n",
       "      <th>CustomerLoyaltyPeriod</th>\n",
       "      <th>DateOfPolicyCoverage</th>\n",
       "      <th>InsurancePolicyState</th>\n",
       "      <th>Policy_CombinedSingleLimit</th>\n",
       "      <th>Policy_Deductible</th>\n",
       "      <th>PolicyAnnualPremium</th>\n",
       "      <th>UmbrellaLimit</th>\n",
       "      <th>InsuredRelationship</th>\n",
       "      <th>CustomerID</th>\n",
       "    </tr>\n",
       "  </thead>\n",
       "  <tbody>\n",
       "    <tr>\n",
       "      <th>0</th>\n",
       "      <td>110122</td>\n",
       "      <td>328</td>\n",
       "      <td>2014-10-17</td>\n",
       "      <td>State3</td>\n",
       "      <td>250/500</td>\n",
       "      <td>1000</td>\n",
       "      <td>1406.91</td>\n",
       "      <td>0</td>\n",
       "      <td>husband</td>\n",
       "      <td>Cust1001</td>\n",
       "    </tr>\n",
       "    <tr>\n",
       "      <th>1</th>\n",
       "      <td>110125</td>\n",
       "      <td>256</td>\n",
       "      <td>1990-05-25</td>\n",
       "      <td>State1</td>\n",
       "      <td>250/500</td>\n",
       "      <td>2000</td>\n",
       "      <td>1415.74</td>\n",
       "      <td>6000000</td>\n",
       "      <td>unmarried</td>\n",
       "      <td>Cust1004</td>\n",
       "    </tr>\n",
       "    <tr>\n",
       "      <th>2</th>\n",
       "      <td>110126</td>\n",
       "      <td>228</td>\n",
       "      <td>2014-06-06</td>\n",
       "      <td>State1</td>\n",
       "      <td>500/1000</td>\n",
       "      <td>1000</td>\n",
       "      <td>1583.91</td>\n",
       "      <td>6000000</td>\n",
       "      <td>unmarried</td>\n",
       "      <td>Cust1005</td>\n",
       "    </tr>\n",
       "    <tr>\n",
       "      <th>3</th>\n",
       "      <td>110127</td>\n",
       "      <td>256</td>\n",
       "      <td>2006-10-12</td>\n",
       "      <td>State3</td>\n",
       "      <td>250/500</td>\n",
       "      <td>1000</td>\n",
       "      <td>1351.10</td>\n",
       "      <td>0</td>\n",
       "      <td>unmarried</td>\n",
       "      <td>Cust1006</td>\n",
       "    </tr>\n",
       "    <tr>\n",
       "      <th>4</th>\n",
       "      <td>110128</td>\n",
       "      <td>137</td>\n",
       "      <td>2000-06-04</td>\n",
       "      <td>State2</td>\n",
       "      <td>250/500</td>\n",
       "      <td>1000</td>\n",
       "      <td>1333.35</td>\n",
       "      <td>0</td>\n",
       "      <td>husband</td>\n",
       "      <td>Cust1007</td>\n",
       "    </tr>\n",
       "    <tr>\n",
       "      <th>...</th>\n",
       "      <td>...</td>\n",
       "      <td>...</td>\n",
       "      <td>...</td>\n",
       "      <td>...</td>\n",
       "      <td>...</td>\n",
       "      <td>...</td>\n",
       "      <td>...</td>\n",
       "      <td>...</td>\n",
       "      <td>...</td>\n",
       "      <td>...</td>\n",
       "    </tr>\n",
       "    <tr>\n",
       "      <th>28831</th>\n",
       "      <td>148614</td>\n",
       "      <td>425</td>\n",
       "      <td>1999-10-12</td>\n",
       "      <td>State3</td>\n",
       "      <td>250/500</td>\n",
       "      <td>1000</td>\n",
       "      <td>839.81</td>\n",
       "      <td>0</td>\n",
       "      <td>wife</td>\n",
       "      <td>Cust39493</td>\n",
       "    </tr>\n",
       "    <tr>\n",
       "      <th>28832</th>\n",
       "      <td>148615</td>\n",
       "      <td>367</td>\n",
       "      <td>1996-11-09</td>\n",
       "      <td>State3</td>\n",
       "      <td>250/500</td>\n",
       "      <td>1000</td>\n",
       "      <td>811.03</td>\n",
       "      <td>0</td>\n",
       "      <td>husband</td>\n",
       "      <td>Cust39494</td>\n",
       "    </tr>\n",
       "    <tr>\n",
       "      <th>28833</th>\n",
       "      <td>148616</td>\n",
       "      <td>208</td>\n",
       "      <td>1995-12-04</td>\n",
       "      <td>State3</td>\n",
       "      <td>250/500</td>\n",
       "      <td>1000</td>\n",
       "      <td>891.37</td>\n",
       "      <td>0</td>\n",
       "      <td>husband</td>\n",
       "      <td>Cust39495</td>\n",
       "    </tr>\n",
       "    <tr>\n",
       "      <th>28834</th>\n",
       "      <td>148618</td>\n",
       "      <td>401</td>\n",
       "      <td>1994-09-12</td>\n",
       "      <td>State3</td>\n",
       "      <td>250/500</td>\n",
       "      <td>856</td>\n",
       "      <td>911.37</td>\n",
       "      <td>0</td>\n",
       "      <td>own-child</td>\n",
       "      <td>Cust39497</td>\n",
       "    </tr>\n",
       "    <tr>\n",
       "      <th>28835</th>\n",
       "      <td>148619</td>\n",
       "      <td>331</td>\n",
       "      <td>2006-07-16</td>\n",
       "      <td>State3</td>\n",
       "      <td>250/500</td>\n",
       "      <td>1000</td>\n",
       "      <td>1062.91</td>\n",
       "      <td>0</td>\n",
       "      <td>wife</td>\n",
       "      <td>Cust39498</td>\n",
       "    </tr>\n",
       "  </tbody>\n",
       "</table>\n",
       "<p>28836 rows × 10 columns</p>\n",
       "</div>"
      ],
      "text/plain": [
       "       InsurancePolicyNumber  CustomerLoyaltyPeriod DateOfPolicyCoverage  \\\n",
       "0                     110122                    328           2014-10-17   \n",
       "1                     110125                    256           1990-05-25   \n",
       "2                     110126                    228           2014-06-06   \n",
       "3                     110127                    256           2006-10-12   \n",
       "4                     110128                    137           2000-06-04   \n",
       "...                      ...                    ...                  ...   \n",
       "28831                 148614                    425           1999-10-12   \n",
       "28832                 148615                    367           1996-11-09   \n",
       "28833                 148616                    208           1995-12-04   \n",
       "28834                 148618                    401           1994-09-12   \n",
       "28835                 148619                    331           2006-07-16   \n",
       "\n",
       "      InsurancePolicyState Policy_CombinedSingleLimit  Policy_Deductible  \\\n",
       "0                   State3                    250/500               1000   \n",
       "1                   State1                    250/500               2000   \n",
       "2                   State1                   500/1000               1000   \n",
       "3                   State3                    250/500               1000   \n",
       "4                   State2                    250/500               1000   \n",
       "...                    ...                        ...                ...   \n",
       "28831               State3                    250/500               1000   \n",
       "28832               State3                    250/500               1000   \n",
       "28833               State3                    250/500               1000   \n",
       "28834               State3                    250/500                856   \n",
       "28835               State3                    250/500               1000   \n",
       "\n",
       "       PolicyAnnualPremium  UmbrellaLimit InsuredRelationship CustomerID  \n",
       "0                  1406.91              0             husband   Cust1001  \n",
       "1                  1415.74        6000000           unmarried   Cust1004  \n",
       "2                  1583.91        6000000           unmarried   Cust1005  \n",
       "3                  1351.10              0           unmarried   Cust1006  \n",
       "4                  1333.35              0             husband   Cust1007  \n",
       "...                    ...            ...                 ...        ...  \n",
       "28831               839.81              0                wife  Cust39493  \n",
       "28832               811.03              0             husband  Cust39494  \n",
       "28833               891.37              0             husband  Cust39495  \n",
       "28834               911.37              0           own-child  Cust39497  \n",
       "28835              1062.91              0                wife  Cust39498  \n",
       "\n",
       "[28836 rows x 10 columns]"
      ]
     },
     "execution_count": 11,
     "metadata": {},
     "output_type": "execute_result"
    }
   ],
   "source": [
    "Train_Policy"
   ]
  },
  {
   "cell_type": "code",
   "execution_count": 12,
   "id": "5182eeab",
   "metadata": {},
   "outputs": [
    {
     "name": "stdout",
     "output_type": "stream",
     "text": [
      "<class 'pandas.core.frame.DataFrame'>\n",
      "RangeIndex: 28836 entries, 0 to 28835\n",
      "Data columns (total 10 columns):\n",
      " #   Column                      Non-Null Count  Dtype  \n",
      "---  ------                      --------------  -----  \n",
      " 0   InsurancePolicyNumber       28836 non-null  int64  \n",
      " 1   CustomerLoyaltyPeriod       28836 non-null  int64  \n",
      " 2   DateOfPolicyCoverage        28836 non-null  object \n",
      " 3   InsurancePolicyState        28836 non-null  object \n",
      " 4   Policy_CombinedSingleLimit  28836 non-null  object \n",
      " 5   Policy_Deductible           28836 non-null  int64  \n",
      " 6   PolicyAnnualPremium         28836 non-null  float64\n",
      " 7   UmbrellaLimit               28836 non-null  int64  \n",
      " 8   InsuredRelationship         28836 non-null  object \n",
      " 9   CustomerID                  28836 non-null  object \n",
      "dtypes: float64(1), int64(4), object(5)\n",
      "memory usage: 2.2+ MB\n"
     ]
    }
   ],
   "source": [
    "Train_Policy.info()"
   ]
  },
  {
   "cell_type": "code",
   "execution_count": 13,
   "id": "2d7ef9e8",
   "metadata": {},
   "outputs": [
    {
     "data": {
      "text/plain": [
       "True"
      ]
     },
     "execution_count": 13,
     "metadata": {},
     "output_type": "execute_result"
    }
   ],
   "source": [
    "set(Train_Policy['CustomerID']) == ID"
   ]
  },
  {
   "cell_type": "code",
   "execution_count": 14,
   "id": "74293940",
   "metadata": {},
   "outputs": [
    {
     "data": {
      "text/html": [
       "<div>\n",
       "<style scoped>\n",
       "    .dataframe tbody tr th:only-of-type {\n",
       "        vertical-align: middle;\n",
       "    }\n",
       "\n",
       "    .dataframe tbody tr th {\n",
       "        vertical-align: top;\n",
       "    }\n",
       "\n",
       "    .dataframe thead th {\n",
       "        text-align: right;\n",
       "    }\n",
       "</style>\n",
       "<table border=\"1\" class=\"dataframe\">\n",
       "  <thead>\n",
       "    <tr style=\"text-align: right;\">\n",
       "      <th></th>\n",
       "      <th>CustomerID</th>\n",
       "      <th>VehicleAttribute</th>\n",
       "      <th>VehicleAttributeDetails</th>\n",
       "    </tr>\n",
       "  </thead>\n",
       "  <tbody>\n",
       "    <tr>\n",
       "      <th>0</th>\n",
       "      <td>Cust20179</td>\n",
       "      <td>VehicleID</td>\n",
       "      <td>Vehicle8898</td>\n",
       "    </tr>\n",
       "    <tr>\n",
       "      <th>1</th>\n",
       "      <td>Cust21384</td>\n",
       "      <td>VehicleModel</td>\n",
       "      <td>Malibu</td>\n",
       "    </tr>\n",
       "    <tr>\n",
       "      <th>2</th>\n",
       "      <td>Cust33335</td>\n",
       "      <td>VehicleMake</td>\n",
       "      <td>Toyota</td>\n",
       "    </tr>\n",
       "    <tr>\n",
       "      <th>3</th>\n",
       "      <td>Cust27118</td>\n",
       "      <td>VehicleModel</td>\n",
       "      <td>Neon</td>\n",
       "    </tr>\n",
       "    <tr>\n",
       "      <th>4</th>\n",
       "      <td>Cust13038</td>\n",
       "      <td>VehicleID</td>\n",
       "      <td>Vehicle30212</td>\n",
       "    </tr>\n",
       "    <tr>\n",
       "      <th>...</th>\n",
       "      <td>...</td>\n",
       "      <td>...</td>\n",
       "      <td>...</td>\n",
       "    </tr>\n",
       "    <tr>\n",
       "      <th>115339</th>\n",
       "      <td>Cust22134</td>\n",
       "      <td>VehicleMake</td>\n",
       "      <td>Audi</td>\n",
       "    </tr>\n",
       "    <tr>\n",
       "      <th>115340</th>\n",
       "      <td>Cust25338</td>\n",
       "      <td>VehicleID</td>\n",
       "      <td>Vehicle28831</td>\n",
       "    </tr>\n",
       "    <tr>\n",
       "      <th>115341</th>\n",
       "      <td>Cust7637</td>\n",
       "      <td>VehicleID</td>\n",
       "      <td>Vehicle12870</td>\n",
       "    </tr>\n",
       "    <tr>\n",
       "      <th>115342</th>\n",
       "      <td>Cust33581</td>\n",
       "      <td>VehicleID</td>\n",
       "      <td>Vehicle19680</td>\n",
       "    </tr>\n",
       "    <tr>\n",
       "      <th>115343</th>\n",
       "      <td>Cust14156</td>\n",
       "      <td>VehicleModel</td>\n",
       "      <td>Corolla</td>\n",
       "    </tr>\n",
       "  </tbody>\n",
       "</table>\n",
       "<p>115344 rows × 3 columns</p>\n",
       "</div>"
      ],
      "text/plain": [
       "       CustomerID VehicleAttribute VehicleAttributeDetails\n",
       "0       Cust20179        VehicleID             Vehicle8898\n",
       "1       Cust21384     VehicleModel                  Malibu\n",
       "2       Cust33335      VehicleMake                  Toyota\n",
       "3       Cust27118     VehicleModel                    Neon\n",
       "4       Cust13038        VehicleID            Vehicle30212\n",
       "...           ...              ...                     ...\n",
       "115339  Cust22134      VehicleMake                    Audi\n",
       "115340  Cust25338        VehicleID            Vehicle28831\n",
       "115341   Cust7637        VehicleID            Vehicle12870\n",
       "115342  Cust33581        VehicleID            Vehicle19680\n",
       "115343  Cust14156     VehicleModel                 Corolla\n",
       "\n",
       "[115344 rows x 3 columns]"
      ]
     },
     "execution_count": 14,
     "metadata": {},
     "output_type": "execute_result"
    }
   ],
   "source": [
    "Train_Vehicle"
   ]
  },
  {
   "cell_type": "code",
   "execution_count": 15,
   "id": "e30396eb",
   "metadata": {},
   "outputs": [
    {
     "name": "stdout",
     "output_type": "stream",
     "text": [
      "<class 'pandas.core.frame.DataFrame'>\n",
      "RangeIndex: 115344 entries, 0 to 115343\n",
      "Data columns (total 3 columns):\n",
      " #   Column                   Non-Null Count   Dtype \n",
      "---  ------                   --------------   ----- \n",
      " 0   CustomerID               115344 non-null  object\n",
      " 1   VehicleAttribute         115344 non-null  object\n",
      " 2   VehicleAttributeDetails  115344 non-null  object\n",
      "dtypes: object(3)\n",
      "memory usage: 2.6+ MB\n"
     ]
    }
   ],
   "source": [
    "Train_Vehicle.info()"
   ]
  },
  {
   "cell_type": "code",
   "execution_count": 16,
   "id": "ae99242f",
   "metadata": {},
   "outputs": [
    {
     "data": {
      "text/plain": [
       "28836"
      ]
     },
     "execution_count": 16,
     "metadata": {},
     "output_type": "execute_result"
    }
   ],
   "source": [
    "len(set(Train_Vehicle['CustomerID']))"
   ]
  },
  {
   "cell_type": "code",
   "execution_count": 17,
   "id": "4f7ea68b",
   "metadata": {},
   "outputs": [],
   "source": [
    "a = Train_Vehicle.groupby('CustomerID').agg({'VehicleAttributeDetails': 'count'}).reset_index()"
   ]
  },
  {
   "cell_type": "code",
   "execution_count": 18,
   "id": "9513b931",
   "metadata": {},
   "outputs": [
    {
     "data": {
      "text/html": [
       "<div>\n",
       "<style scoped>\n",
       "    .dataframe tbody tr th:only-of-type {\n",
       "        vertical-align: middle;\n",
       "    }\n",
       "\n",
       "    .dataframe tbody tr th {\n",
       "        vertical-align: top;\n",
       "    }\n",
       "\n",
       "    .dataframe thead th {\n",
       "        text-align: right;\n",
       "    }\n",
       "</style>\n",
       "<table border=\"1\" class=\"dataframe\">\n",
       "  <thead>\n",
       "    <tr style=\"text-align: right;\">\n",
       "      <th></th>\n",
       "      <th>CustomerID</th>\n",
       "      <th>VehicleAttributeDetails</th>\n",
       "    </tr>\n",
       "  </thead>\n",
       "  <tbody>\n",
       "    <tr>\n",
       "      <th>0</th>\n",
       "      <td>Cust10000</td>\n",
       "      <td>4</td>\n",
       "    </tr>\n",
       "    <tr>\n",
       "      <th>1</th>\n",
       "      <td>Cust10001</td>\n",
       "      <td>4</td>\n",
       "    </tr>\n",
       "    <tr>\n",
       "      <th>2</th>\n",
       "      <td>Cust10002</td>\n",
       "      <td>4</td>\n",
       "    </tr>\n",
       "    <tr>\n",
       "      <th>3</th>\n",
       "      <td>Cust10003</td>\n",
       "      <td>4</td>\n",
       "    </tr>\n",
       "    <tr>\n",
       "      <th>4</th>\n",
       "      <td>Cust10004</td>\n",
       "      <td>4</td>\n",
       "    </tr>\n",
       "    <tr>\n",
       "      <th>...</th>\n",
       "      <td>...</td>\n",
       "      <td>...</td>\n",
       "    </tr>\n",
       "    <tr>\n",
       "      <th>28831</th>\n",
       "      <td>Cust9993</td>\n",
       "      <td>4</td>\n",
       "    </tr>\n",
       "    <tr>\n",
       "      <th>28832</th>\n",
       "      <td>Cust9994</td>\n",
       "      <td>4</td>\n",
       "    </tr>\n",
       "    <tr>\n",
       "      <th>28833</th>\n",
       "      <td>Cust9996</td>\n",
       "      <td>4</td>\n",
       "    </tr>\n",
       "    <tr>\n",
       "      <th>28834</th>\n",
       "      <td>Cust9997</td>\n",
       "      <td>4</td>\n",
       "    </tr>\n",
       "    <tr>\n",
       "      <th>28835</th>\n",
       "      <td>Cust9999</td>\n",
       "      <td>4</td>\n",
       "    </tr>\n",
       "  </tbody>\n",
       "</table>\n",
       "<p>28836 rows × 2 columns</p>\n",
       "</div>"
      ],
      "text/plain": [
       "      CustomerID  VehicleAttributeDetails\n",
       "0      Cust10000                        4\n",
       "1      Cust10001                        4\n",
       "2      Cust10002                        4\n",
       "3      Cust10003                        4\n",
       "4      Cust10004                        4\n",
       "...          ...                      ...\n",
       "28831   Cust9993                        4\n",
       "28832   Cust9994                        4\n",
       "28833   Cust9996                        4\n",
       "28834   Cust9997                        4\n",
       "28835   Cust9999                        4\n",
       "\n",
       "[28836 rows x 2 columns]"
      ]
     },
     "execution_count": 18,
     "metadata": {},
     "output_type": "execute_result"
    }
   ],
   "source": [
    "a"
   ]
  },
  {
   "cell_type": "code",
   "execution_count": 19,
   "id": "f9fcc9c7",
   "metadata": {},
   "outputs": [
    {
     "data": {
      "text/plain": [
       "28836"
      ]
     },
     "execution_count": 19,
     "metadata": {},
     "output_type": "execute_result"
    }
   ],
   "source": [
    "np.sum(a['VehicleAttributeDetails'] == 4)"
   ]
  },
  {
   "cell_type": "code",
   "execution_count": 20,
   "id": "8a23486b",
   "metadata": {},
   "outputs": [
    {
     "data": {
      "text/html": [
       "<div>\n",
       "<style scoped>\n",
       "    .dataframe tbody tr th:only-of-type {\n",
       "        vertical-align: middle;\n",
       "    }\n",
       "\n",
       "    .dataframe tbody tr th {\n",
       "        vertical-align: top;\n",
       "    }\n",
       "\n",
       "    .dataframe thead th {\n",
       "        text-align: right;\n",
       "    }\n",
       "</style>\n",
       "<table border=\"1\" class=\"dataframe\">\n",
       "  <thead>\n",
       "    <tr style=\"text-align: right;\">\n",
       "      <th></th>\n",
       "      <th>CustomerID</th>\n",
       "      <th>VehicleAttribute</th>\n",
       "      <th>VehicleAttributeDetails</th>\n",
       "    </tr>\n",
       "  </thead>\n",
       "  <tbody>\n",
       "    <tr>\n",
       "      <th>589</th>\n",
       "      <td>Cust10001</td>\n",
       "      <td>VehicleYOM</td>\n",
       "      <td>2006</td>\n",
       "    </tr>\n",
       "    <tr>\n",
       "      <th>1112</th>\n",
       "      <td>Cust10001</td>\n",
       "      <td>VehicleID</td>\n",
       "      <td>Vehicle15893</td>\n",
       "    </tr>\n",
       "    <tr>\n",
       "      <th>40108</th>\n",
       "      <td>Cust10001</td>\n",
       "      <td>VehicleModel</td>\n",
       "      <td>A5</td>\n",
       "    </tr>\n",
       "    <tr>\n",
       "      <th>66356</th>\n",
       "      <td>Cust10001</td>\n",
       "      <td>VehicleMake</td>\n",
       "      <td>Audi</td>\n",
       "    </tr>\n",
       "  </tbody>\n",
       "</table>\n",
       "</div>"
      ],
      "text/plain": [
       "      CustomerID VehicleAttribute VehicleAttributeDetails\n",
       "589    Cust10001       VehicleYOM                    2006\n",
       "1112   Cust10001        VehicleID            Vehicle15893\n",
       "40108  Cust10001     VehicleModel                      A5\n",
       "66356  Cust10001      VehicleMake                    Audi"
      ]
     },
     "execution_count": 20,
     "metadata": {},
     "output_type": "execute_result"
    }
   ],
   "source": [
    "Train_Vehicle[Train_Vehicle.CustomerID == 'Cust10001']"
   ]
  },
  {
   "cell_type": "code",
   "execution_count": 21,
   "id": "22979de4",
   "metadata": {},
   "outputs": [],
   "source": [
    "Train_Vehicle_1 = Train_Vehicle.pivot(index = 'CustomerID',  columns = 'VehicleAttribute', \n",
    "                                      values = ['VehicleAttributeDetails']).reset_index()"
   ]
  },
  {
   "cell_type": "code",
   "execution_count": 22,
   "id": "46988f94",
   "metadata": {},
   "outputs": [
    {
     "data": {
      "text/html": [
       "<div>\n",
       "<style scoped>\n",
       "    .dataframe tbody tr th:only-of-type {\n",
       "        vertical-align: middle;\n",
       "    }\n",
       "\n",
       "    .dataframe tbody tr th {\n",
       "        vertical-align: top;\n",
       "    }\n",
       "\n",
       "    .dataframe thead tr th {\n",
       "        text-align: left;\n",
       "    }\n",
       "</style>\n",
       "<table border=\"1\" class=\"dataframe\">\n",
       "  <thead>\n",
       "    <tr>\n",
       "      <th></th>\n",
       "      <th>CustomerID</th>\n",
       "      <th colspan=\"4\" halign=\"left\">VehicleAttributeDetails</th>\n",
       "    </tr>\n",
       "    <tr>\n",
       "      <th>VehicleAttribute</th>\n",
       "      <th></th>\n",
       "      <th>VehicleID</th>\n",
       "      <th>VehicleMake</th>\n",
       "      <th>VehicleModel</th>\n",
       "      <th>VehicleYOM</th>\n",
       "    </tr>\n",
       "  </thead>\n",
       "  <tbody>\n",
       "    <tr>\n",
       "      <th>0</th>\n",
       "      <td>Cust10000</td>\n",
       "      <td>Vehicle26917</td>\n",
       "      <td>Audi</td>\n",
       "      <td>A5</td>\n",
       "      <td>2008</td>\n",
       "    </tr>\n",
       "    <tr>\n",
       "      <th>1</th>\n",
       "      <td>Cust10001</td>\n",
       "      <td>Vehicle15893</td>\n",
       "      <td>Audi</td>\n",
       "      <td>A5</td>\n",
       "      <td>2006</td>\n",
       "    </tr>\n",
       "    <tr>\n",
       "      <th>2</th>\n",
       "      <td>Cust10002</td>\n",
       "      <td>Vehicle5152</td>\n",
       "      <td>Volkswagen</td>\n",
       "      <td>Jetta</td>\n",
       "      <td>1999</td>\n",
       "    </tr>\n",
       "    <tr>\n",
       "      <th>3</th>\n",
       "      <td>Cust10003</td>\n",
       "      <td>Vehicle37363</td>\n",
       "      <td>Volkswagen</td>\n",
       "      <td>Jetta</td>\n",
       "      <td>2003</td>\n",
       "    </tr>\n",
       "    <tr>\n",
       "      <th>4</th>\n",
       "      <td>Cust10004</td>\n",
       "      <td>Vehicle28633</td>\n",
       "      <td>Toyota</td>\n",
       "      <td>CRV</td>\n",
       "      <td>2010</td>\n",
       "    </tr>\n",
       "    <tr>\n",
       "      <th>...</th>\n",
       "      <td>...</td>\n",
       "      <td>...</td>\n",
       "      <td>...</td>\n",
       "      <td>...</td>\n",
       "      <td>...</td>\n",
       "    </tr>\n",
       "    <tr>\n",
       "      <th>28831</th>\n",
       "      <td>Cust9993</td>\n",
       "      <td>Vehicle13568</td>\n",
       "      <td>Suburu</td>\n",
       "      <td>Impreza</td>\n",
       "      <td>2007</td>\n",
       "    </tr>\n",
       "    <tr>\n",
       "      <th>28832</th>\n",
       "      <td>Cust9994</td>\n",
       "      <td>Vehicle19810</td>\n",
       "      <td>Jeep</td>\n",
       "      <td>Wrangler</td>\n",
       "      <td>2003</td>\n",
       "    </tr>\n",
       "    <tr>\n",
       "      <th>28833</th>\n",
       "      <td>Cust9996</td>\n",
       "      <td>Vehicle3339</td>\n",
       "      <td>Suburu</td>\n",
       "      <td>Legacy</td>\n",
       "      <td>2004</td>\n",
       "    </tr>\n",
       "    <tr>\n",
       "      <th>28834</th>\n",
       "      <td>Cust9997</td>\n",
       "      <td>Vehicle10240</td>\n",
       "      <td>Suburu</td>\n",
       "      <td>Forrestor</td>\n",
       "      <td>2004</td>\n",
       "    </tr>\n",
       "    <tr>\n",
       "      <th>28835</th>\n",
       "      <td>Cust9999</td>\n",
       "      <td>Vehicle39163</td>\n",
       "      <td>Suburu</td>\n",
       "      <td>E400</td>\n",
       "      <td>2007</td>\n",
       "    </tr>\n",
       "  </tbody>\n",
       "</table>\n",
       "<p>28836 rows × 5 columns</p>\n",
       "</div>"
      ],
      "text/plain": [
       "                 CustomerID VehicleAttributeDetails                           \\\n",
       "VehicleAttribute                          VehicleID VehicleMake VehicleModel   \n",
       "0                 Cust10000            Vehicle26917        Audi           A5   \n",
       "1                 Cust10001            Vehicle15893        Audi           A5   \n",
       "2                 Cust10002             Vehicle5152  Volkswagen        Jetta   \n",
       "3                 Cust10003            Vehicle37363  Volkswagen        Jetta   \n",
       "4                 Cust10004            Vehicle28633      Toyota          CRV   \n",
       "...                     ...                     ...         ...          ...   \n",
       "28831              Cust9993            Vehicle13568      Suburu      Impreza   \n",
       "28832              Cust9994            Vehicle19810        Jeep     Wrangler   \n",
       "28833              Cust9996             Vehicle3339      Suburu       Legacy   \n",
       "28834              Cust9997            Vehicle10240      Suburu    Forrestor   \n",
       "28835              Cust9999            Vehicle39163      Suburu         E400   \n",
       "\n",
       "                             \n",
       "VehicleAttribute VehicleYOM  \n",
       "0                      2008  \n",
       "1                      2006  \n",
       "2                      1999  \n",
       "3                      2003  \n",
       "4                      2010  \n",
       "...                     ...  \n",
       "28831                  2007  \n",
       "28832                  2003  \n",
       "28833                  2004  \n",
       "28834                  2004  \n",
       "28835                  2007  \n",
       "\n",
       "[28836 rows x 5 columns]"
      ]
     },
     "execution_count": 22,
     "metadata": {},
     "output_type": "execute_result"
    }
   ],
   "source": [
    "Train_Vehicle_1"
   ]
  },
  {
   "cell_type": "code",
   "execution_count": 23,
   "id": "bd8c1615",
   "metadata": {},
   "outputs": [
    {
     "data": {
      "text/plain": [
       "MultiIndex([(             'CustomerID',             ''),\n",
       "            ('VehicleAttributeDetails',    'VehicleID'),\n",
       "            ('VehicleAttributeDetails',  'VehicleMake'),\n",
       "            ('VehicleAttributeDetails', 'VehicleModel'),\n",
       "            ('VehicleAttributeDetails',   'VehicleYOM')],\n",
       "           names=[None, 'VehicleAttribute'])"
      ]
     },
     "execution_count": 23,
     "metadata": {},
     "output_type": "execute_result"
    }
   ],
   "source": [
    "Train_Vehicle_1.columns"
   ]
  },
  {
   "cell_type": "code",
   "execution_count": 24,
   "id": "b0ad868a",
   "metadata": {},
   "outputs": [
    {
     "data": {
      "text/plain": [
       "{('CustomerID', ''): 'CustomerID',\n",
       " ('VehicleAttributeDetails', 'VehicleID'): 'VehicleAttributeDetails',\n",
       " ('VehicleAttributeDetails', 'VehicleMake'): 'VehicleAttributeDetails',\n",
       " ('VehicleAttributeDetails', 'VehicleModel'): 'VehicleAttributeDetails',\n",
       " ('VehicleAttributeDetails', 'VehicleYOM'): 'VehicleAttributeDetails'}"
      ]
     },
     "execution_count": 24,
     "metadata": {},
     "output_type": "execute_result"
    }
   ],
   "source": [
    "d = {x: x[0] for x in Train_Vehicle_1.columns}\n",
    "d"
   ]
  },
  {
   "cell_type": "code",
   "execution_count": 25,
   "id": "36dab1de",
   "metadata": {},
   "outputs": [],
   "source": [
    "Train_Vehicle_1.columns = ['CustomerID', 'VehicleID', 'VehicleMake', 'VehicleModel', 'VehicleYOM']"
   ]
  },
  {
   "cell_type": "code",
   "execution_count": 26,
   "id": "f513a6de",
   "metadata": {},
   "outputs": [
    {
     "data": {
      "text/html": [
       "<div>\n",
       "<style scoped>\n",
       "    .dataframe tbody tr th:only-of-type {\n",
       "        vertical-align: middle;\n",
       "    }\n",
       "\n",
       "    .dataframe tbody tr th {\n",
       "        vertical-align: top;\n",
       "    }\n",
       "\n",
       "    .dataframe thead th {\n",
       "        text-align: right;\n",
       "    }\n",
       "</style>\n",
       "<table border=\"1\" class=\"dataframe\">\n",
       "  <thead>\n",
       "    <tr style=\"text-align: right;\">\n",
       "      <th></th>\n",
       "      <th>CustomerID</th>\n",
       "      <th>VehicleID</th>\n",
       "      <th>VehicleMake</th>\n",
       "      <th>VehicleModel</th>\n",
       "      <th>VehicleYOM</th>\n",
       "    </tr>\n",
       "  </thead>\n",
       "  <tbody>\n",
       "    <tr>\n",
       "      <th>0</th>\n",
       "      <td>Cust10000</td>\n",
       "      <td>Vehicle26917</td>\n",
       "      <td>Audi</td>\n",
       "      <td>A5</td>\n",
       "      <td>2008</td>\n",
       "    </tr>\n",
       "    <tr>\n",
       "      <th>1</th>\n",
       "      <td>Cust10001</td>\n",
       "      <td>Vehicle15893</td>\n",
       "      <td>Audi</td>\n",
       "      <td>A5</td>\n",
       "      <td>2006</td>\n",
       "    </tr>\n",
       "    <tr>\n",
       "      <th>2</th>\n",
       "      <td>Cust10002</td>\n",
       "      <td>Vehicle5152</td>\n",
       "      <td>Volkswagen</td>\n",
       "      <td>Jetta</td>\n",
       "      <td>1999</td>\n",
       "    </tr>\n",
       "    <tr>\n",
       "      <th>3</th>\n",
       "      <td>Cust10003</td>\n",
       "      <td>Vehicle37363</td>\n",
       "      <td>Volkswagen</td>\n",
       "      <td>Jetta</td>\n",
       "      <td>2003</td>\n",
       "    </tr>\n",
       "    <tr>\n",
       "      <th>4</th>\n",
       "      <td>Cust10004</td>\n",
       "      <td>Vehicle28633</td>\n",
       "      <td>Toyota</td>\n",
       "      <td>CRV</td>\n",
       "      <td>2010</td>\n",
       "    </tr>\n",
       "    <tr>\n",
       "      <th>...</th>\n",
       "      <td>...</td>\n",
       "      <td>...</td>\n",
       "      <td>...</td>\n",
       "      <td>...</td>\n",
       "      <td>...</td>\n",
       "    </tr>\n",
       "    <tr>\n",
       "      <th>28831</th>\n",
       "      <td>Cust9993</td>\n",
       "      <td>Vehicle13568</td>\n",
       "      <td>Suburu</td>\n",
       "      <td>Impreza</td>\n",
       "      <td>2007</td>\n",
       "    </tr>\n",
       "    <tr>\n",
       "      <th>28832</th>\n",
       "      <td>Cust9994</td>\n",
       "      <td>Vehicle19810</td>\n",
       "      <td>Jeep</td>\n",
       "      <td>Wrangler</td>\n",
       "      <td>2003</td>\n",
       "    </tr>\n",
       "    <tr>\n",
       "      <th>28833</th>\n",
       "      <td>Cust9996</td>\n",
       "      <td>Vehicle3339</td>\n",
       "      <td>Suburu</td>\n",
       "      <td>Legacy</td>\n",
       "      <td>2004</td>\n",
       "    </tr>\n",
       "    <tr>\n",
       "      <th>28834</th>\n",
       "      <td>Cust9997</td>\n",
       "      <td>Vehicle10240</td>\n",
       "      <td>Suburu</td>\n",
       "      <td>Forrestor</td>\n",
       "      <td>2004</td>\n",
       "    </tr>\n",
       "    <tr>\n",
       "      <th>28835</th>\n",
       "      <td>Cust9999</td>\n",
       "      <td>Vehicle39163</td>\n",
       "      <td>Suburu</td>\n",
       "      <td>E400</td>\n",
       "      <td>2007</td>\n",
       "    </tr>\n",
       "  </tbody>\n",
       "</table>\n",
       "<p>28836 rows × 5 columns</p>\n",
       "</div>"
      ],
      "text/plain": [
       "      CustomerID     VehicleID VehicleMake VehicleModel VehicleYOM\n",
       "0      Cust10000  Vehicle26917        Audi           A5       2008\n",
       "1      Cust10001  Vehicle15893        Audi           A5       2006\n",
       "2      Cust10002   Vehicle5152  Volkswagen        Jetta       1999\n",
       "3      Cust10003  Vehicle37363  Volkswagen        Jetta       2003\n",
       "4      Cust10004  Vehicle28633      Toyota          CRV       2010\n",
       "...          ...           ...         ...          ...        ...\n",
       "28831   Cust9993  Vehicle13568      Suburu      Impreza       2007\n",
       "28832   Cust9994  Vehicle19810        Jeep     Wrangler       2003\n",
       "28833   Cust9996   Vehicle3339      Suburu       Legacy       2004\n",
       "28834   Cust9997  Vehicle10240      Suburu    Forrestor       2004\n",
       "28835   Cust9999  Vehicle39163      Suburu         E400       2007\n",
       "\n",
       "[28836 rows x 5 columns]"
      ]
     },
     "execution_count": 26,
     "metadata": {},
     "output_type": "execute_result"
    }
   ],
   "source": [
    "Train_Vehicle_1"
   ]
  },
  {
   "cell_type": "code",
   "execution_count": 27,
   "id": "d644288f",
   "metadata": {},
   "outputs": [
    {
     "data": {
      "text/plain": [
       "Index(['CustomerID', 'VehicleID', 'VehicleMake', 'VehicleModel', 'VehicleYOM'], dtype='object')"
      ]
     },
     "execution_count": 27,
     "metadata": {},
     "output_type": "execute_result"
    }
   ],
   "source": [
    "Train_Vehicle_1.columns"
   ]
  },
  {
   "cell_type": "code",
   "execution_count": 28,
   "id": "39ebc507",
   "metadata": {},
   "outputs": [],
   "source": [
    "tables = [Train_claim, Train_Demographics, Train_Policy, Train_Vehicle_1]"
   ]
  },
  {
   "cell_type": "code",
   "execution_count": 29,
   "id": "448509c4",
   "metadata": {},
   "outputs": [],
   "source": [
    "data = Traindata_with_Target "
   ]
  },
  {
   "cell_type": "code",
   "execution_count": 30,
   "id": "91b329a4",
   "metadata": {},
   "outputs": [],
   "source": [
    "for table in tables:\n",
    "    data = data.merge(table, on = 'CustomerID')"
   ]
  },
  {
   "cell_type": "code",
   "execution_count": 31,
   "id": "6703ca9f",
   "metadata": {},
   "outputs": [
    {
     "data": {
      "text/html": [
       "<div>\n",
       "<style scoped>\n",
       "    .dataframe tbody tr th:only-of-type {\n",
       "        vertical-align: middle;\n",
       "    }\n",
       "\n",
       "    .dataframe tbody tr th {\n",
       "        vertical-align: top;\n",
       "    }\n",
       "\n",
       "    .dataframe thead th {\n",
       "        text-align: right;\n",
       "    }\n",
       "</style>\n",
       "<table border=\"1\" class=\"dataframe\">\n",
       "  <thead>\n",
       "    <tr style=\"text-align: right;\">\n",
       "      <th></th>\n",
       "      <th>CustomerID</th>\n",
       "      <th>ReportedFraud</th>\n",
       "      <th>DateOfIncident</th>\n",
       "      <th>TypeOfIncident</th>\n",
       "      <th>TypeOfCollission</th>\n",
       "      <th>SeverityOfIncident</th>\n",
       "      <th>AuthoritiesContacted</th>\n",
       "      <th>IncidentState</th>\n",
       "      <th>IncidentCity</th>\n",
       "      <th>IncidentAddress</th>\n",
       "      <th>...</th>\n",
       "      <th>InsurancePolicyState</th>\n",
       "      <th>Policy_CombinedSingleLimit</th>\n",
       "      <th>Policy_Deductible</th>\n",
       "      <th>PolicyAnnualPremium</th>\n",
       "      <th>UmbrellaLimit</th>\n",
       "      <th>InsuredRelationship</th>\n",
       "      <th>VehicleID</th>\n",
       "      <th>VehicleMake</th>\n",
       "      <th>VehicleModel</th>\n",
       "      <th>VehicleYOM</th>\n",
       "    </tr>\n",
       "  </thead>\n",
       "  <tbody>\n",
       "    <tr>\n",
       "      <th>0</th>\n",
       "      <td>Cust20065</td>\n",
       "      <td>N</td>\n",
       "      <td>2015-01-09</td>\n",
       "      <td>Multi-vehicle Collision</td>\n",
       "      <td>Rear Collision</td>\n",
       "      <td>Total Loss</td>\n",
       "      <td>Other</td>\n",
       "      <td>State9</td>\n",
       "      <td>City4</td>\n",
       "      <td>Location 1404</td>\n",
       "      <td>...</td>\n",
       "      <td>State2</td>\n",
       "      <td>250/500</td>\n",
       "      <td>2000</td>\n",
       "      <td>1142.87</td>\n",
       "      <td>0</td>\n",
       "      <td>own-child</td>\n",
       "      <td>Vehicle30662</td>\n",
       "      <td>Mercedes</td>\n",
       "      <td>E400</td>\n",
       "      <td>2005</td>\n",
       "    </tr>\n",
       "    <tr>\n",
       "      <th>1</th>\n",
       "      <td>Cust37589</td>\n",
       "      <td>N</td>\n",
       "      <td>2015-02-20</td>\n",
       "      <td>Single Vehicle Collision</td>\n",
       "      <td>Side Collision</td>\n",
       "      <td>Minor Damage</td>\n",
       "      <td>Ambulance</td>\n",
       "      <td>State4</td>\n",
       "      <td>City3</td>\n",
       "      <td>Location 1675</td>\n",
       "      <td>...</td>\n",
       "      <td>State2</td>\n",
       "      <td>100/300</td>\n",
       "      <td>1000</td>\n",
       "      <td>1274.38</td>\n",
       "      <td>2857344</td>\n",
       "      <td>own-child</td>\n",
       "      <td>Vehicle17183</td>\n",
       "      <td>Toyota</td>\n",
       "      <td>Highlander</td>\n",
       "      <td>2010</td>\n",
       "    </tr>\n",
       "    <tr>\n",
       "      <th>2</th>\n",
       "      <td>Cust24312</td>\n",
       "      <td>N</td>\n",
       "      <td>2015-01-14</td>\n",
       "      <td>Multi-vehicle Collision</td>\n",
       "      <td>Side Collision</td>\n",
       "      <td>Major Damage</td>\n",
       "      <td>Ambulance</td>\n",
       "      <td>State5</td>\n",
       "      <td>City2</td>\n",
       "      <td>Location 1546</td>\n",
       "      <td>...</td>\n",
       "      <td>State1</td>\n",
       "      <td>500/1000</td>\n",
       "      <td>745</td>\n",
       "      <td>1269.93</td>\n",
       "      <td>0</td>\n",
       "      <td>other-relative</td>\n",
       "      <td>Vehicle33982</td>\n",
       "      <td>Volkswagen</td>\n",
       "      <td>Passat</td>\n",
       "      <td>2002</td>\n",
       "    </tr>\n",
       "    <tr>\n",
       "      <th>3</th>\n",
       "      <td>Cust5493</td>\n",
       "      <td>Y</td>\n",
       "      <td>2015-01-07</td>\n",
       "      <td>Multi-vehicle Collision</td>\n",
       "      <td>Side Collision</td>\n",
       "      <td>Major Damage</td>\n",
       "      <td>Ambulance</td>\n",
       "      <td>State7</td>\n",
       "      <td>City4</td>\n",
       "      <td>Location 1413</td>\n",
       "      <td>...</td>\n",
       "      <td>State2</td>\n",
       "      <td>100/300</td>\n",
       "      <td>986</td>\n",
       "      <td>1218.60</td>\n",
       "      <td>0</td>\n",
       "      <td>other-relative</td>\n",
       "      <td>Vehicle12299</td>\n",
       "      <td>Toyota</td>\n",
       "      <td>Highlander</td>\n",
       "      <td>2011</td>\n",
       "    </tr>\n",
       "    <tr>\n",
       "      <th>4</th>\n",
       "      <td>Cust7704</td>\n",
       "      <td>Y</td>\n",
       "      <td>2015-02-26</td>\n",
       "      <td>Multi-vehicle Collision</td>\n",
       "      <td>Side Collision</td>\n",
       "      <td>Major Damage</td>\n",
       "      <td>Other</td>\n",
       "      <td>State4</td>\n",
       "      <td>City6</td>\n",
       "      <td>Location 1367</td>\n",
       "      <td>...</td>\n",
       "      <td>State3</td>\n",
       "      <td>250/500</td>\n",
       "      <td>576</td>\n",
       "      <td>1431.02</td>\n",
       "      <td>4235779</td>\n",
       "      <td>unmarried</td>\n",
       "      <td>Vehicle30447</td>\n",
       "      <td>Ford</td>\n",
       "      <td>Wrangler</td>\n",
       "      <td>2010</td>\n",
       "    </tr>\n",
       "    <tr>\n",
       "      <th>...</th>\n",
       "      <td>...</td>\n",
       "      <td>...</td>\n",
       "      <td>...</td>\n",
       "      <td>...</td>\n",
       "      <td>...</td>\n",
       "      <td>...</td>\n",
       "      <td>...</td>\n",
       "      <td>...</td>\n",
       "      <td>...</td>\n",
       "      <td>...</td>\n",
       "      <td>...</td>\n",
       "      <td>...</td>\n",
       "      <td>...</td>\n",
       "      <td>...</td>\n",
       "      <td>...</td>\n",
       "      <td>...</td>\n",
       "      <td>...</td>\n",
       "      <td>...</td>\n",
       "      <td>...</td>\n",
       "      <td>...</td>\n",
       "      <td>...</td>\n",
       "    </tr>\n",
       "    <tr>\n",
       "      <th>28831</th>\n",
       "      <td>Cust9773</td>\n",
       "      <td>N</td>\n",
       "      <td>2015-02-13</td>\n",
       "      <td>Single Vehicle Collision</td>\n",
       "      <td>Side Collision</td>\n",
       "      <td>Minor Damage</td>\n",
       "      <td>Fire</td>\n",
       "      <td>State7</td>\n",
       "      <td>City3</td>\n",
       "      <td>Location 1324</td>\n",
       "      <td>...</td>\n",
       "      <td>State2</td>\n",
       "      <td>250/500</td>\n",
       "      <td>1000</td>\n",
       "      <td>1108.55</td>\n",
       "      <td>739864</td>\n",
       "      <td>unmarried</td>\n",
       "      <td>Vehicle24503</td>\n",
       "      <td>Nissan</td>\n",
       "      <td>RSX</td>\n",
       "      <td>2002</td>\n",
       "    </tr>\n",
       "    <tr>\n",
       "      <th>28832</th>\n",
       "      <td>Cust38439</td>\n",
       "      <td>N</td>\n",
       "      <td>2015-01-19</td>\n",
       "      <td>Multi-vehicle Collision</td>\n",
       "      <td>Side Collision</td>\n",
       "      <td>Total Loss</td>\n",
       "      <td>Police</td>\n",
       "      <td>State5</td>\n",
       "      <td>City3</td>\n",
       "      <td>Location 1880</td>\n",
       "      <td>...</td>\n",
       "      <td>State2</td>\n",
       "      <td>100/300</td>\n",
       "      <td>1008</td>\n",
       "      <td>1551.84</td>\n",
       "      <td>41592</td>\n",
       "      <td>own-child</td>\n",
       "      <td>Vehicle9733</td>\n",
       "      <td>Accura</td>\n",
       "      <td>RSX</td>\n",
       "      <td>2014</td>\n",
       "    </tr>\n",
       "    <tr>\n",
       "      <th>28833</th>\n",
       "      <td>Cust38444</td>\n",
       "      <td>N</td>\n",
       "      <td>2015-01-21</td>\n",
       "      <td>Multi-vehicle Collision</td>\n",
       "      <td>Side Collision</td>\n",
       "      <td>Total Loss</td>\n",
       "      <td>Police</td>\n",
       "      <td>State5</td>\n",
       "      <td>City7</td>\n",
       "      <td>Location 1632</td>\n",
       "      <td>...</td>\n",
       "      <td>State1</td>\n",
       "      <td>100/300</td>\n",
       "      <td>660</td>\n",
       "      <td>1119.32</td>\n",
       "      <td>0</td>\n",
       "      <td>not-in-family</td>\n",
       "      <td>Vehicle1823</td>\n",
       "      <td>Saab</td>\n",
       "      <td>RSX</td>\n",
       "      <td>2013</td>\n",
       "    </tr>\n",
       "    <tr>\n",
       "      <th>28834</th>\n",
       "      <td>Cust26466</td>\n",
       "      <td>N</td>\n",
       "      <td>2015-01-02</td>\n",
       "      <td>Parked Car</td>\n",
       "      <td>?</td>\n",
       "      <td>Trivial Damage</td>\n",
       "      <td>None</td>\n",
       "      <td>State4</td>\n",
       "      <td>City7</td>\n",
       "      <td>Location 1364</td>\n",
       "      <td>...</td>\n",
       "      <td>State3</td>\n",
       "      <td>250/1000</td>\n",
       "      <td>1674</td>\n",
       "      <td>1229.88</td>\n",
       "      <td>4674160</td>\n",
       "      <td>wife</td>\n",
       "      <td>Vehicle9113</td>\n",
       "      <td>Accura</td>\n",
       "      <td>RSX</td>\n",
       "      <td>2004</td>\n",
       "    </tr>\n",
       "    <tr>\n",
       "      <th>28835</th>\n",
       "      <td>Cust29555</td>\n",
       "      <td>N</td>\n",
       "      <td>2015-01-16</td>\n",
       "      <td>Single Vehicle Collision</td>\n",
       "      <td>Front Collision</td>\n",
       "      <td>Total Loss</td>\n",
       "      <td>Police</td>\n",
       "      <td>State8</td>\n",
       "      <td>City7</td>\n",
       "      <td>Location 1950</td>\n",
       "      <td>...</td>\n",
       "      <td>State2</td>\n",
       "      <td>250/1000</td>\n",
       "      <td>500</td>\n",
       "      <td>1341.72</td>\n",
       "      <td>4000000</td>\n",
       "      <td>wife</td>\n",
       "      <td>Vehicle7530</td>\n",
       "      <td>Volkswagen</td>\n",
       "      <td>RSX</td>\n",
       "      <td>2009</td>\n",
       "    </tr>\n",
       "  </tbody>\n",
       "</table>\n",
       "<p>28836 rows × 42 columns</p>\n",
       "</div>"
      ],
      "text/plain": [
       "      CustomerID ReportedFraud DateOfIncident            TypeOfIncident  \\\n",
       "0      Cust20065             N     2015-01-09   Multi-vehicle Collision   \n",
       "1      Cust37589             N     2015-02-20  Single Vehicle Collision   \n",
       "2      Cust24312             N     2015-01-14   Multi-vehicle Collision   \n",
       "3       Cust5493             Y     2015-01-07   Multi-vehicle Collision   \n",
       "4       Cust7704             Y     2015-02-26   Multi-vehicle Collision   \n",
       "...          ...           ...            ...                       ...   \n",
       "28831   Cust9773             N     2015-02-13  Single Vehicle Collision   \n",
       "28832  Cust38439             N     2015-01-19   Multi-vehicle Collision   \n",
       "28833  Cust38444             N     2015-01-21   Multi-vehicle Collision   \n",
       "28834  Cust26466             N     2015-01-02                Parked Car   \n",
       "28835  Cust29555             N     2015-01-16  Single Vehicle Collision   \n",
       "\n",
       "      TypeOfCollission SeverityOfIncident AuthoritiesContacted IncidentState  \\\n",
       "0       Rear Collision         Total Loss                Other        State9   \n",
       "1       Side Collision       Minor Damage            Ambulance        State4   \n",
       "2       Side Collision       Major Damage            Ambulance        State5   \n",
       "3       Side Collision       Major Damage            Ambulance        State7   \n",
       "4       Side Collision       Major Damage                Other        State4   \n",
       "...                ...                ...                  ...           ...   \n",
       "28831   Side Collision       Minor Damage                 Fire        State7   \n",
       "28832   Side Collision         Total Loss               Police        State5   \n",
       "28833   Side Collision         Total Loss               Police        State5   \n",
       "28834                ?     Trivial Damage                 None        State4   \n",
       "28835  Front Collision         Total Loss               Police        State8   \n",
       "\n",
       "      IncidentCity IncidentAddress  ...  InsurancePolicyState  \\\n",
       "0            City4   Location 1404  ...                State2   \n",
       "1            City3   Location 1675  ...                State2   \n",
       "2            City2   Location 1546  ...                State1   \n",
       "3            City4   Location 1413  ...                State2   \n",
       "4            City6   Location 1367  ...                State3   \n",
       "...            ...             ...  ...                   ...   \n",
       "28831        City3   Location 1324  ...                State2   \n",
       "28832        City3   Location 1880  ...                State2   \n",
       "28833        City7   Location 1632  ...                State1   \n",
       "28834        City7   Location 1364  ...                State3   \n",
       "28835        City7   Location 1950  ...                State2   \n",
       "\n",
       "       Policy_CombinedSingleLimit Policy_Deductible  PolicyAnnualPremium  \\\n",
       "0                         250/500              2000              1142.87   \n",
       "1                         100/300              1000              1274.38   \n",
       "2                        500/1000               745              1269.93   \n",
       "3                         100/300               986              1218.60   \n",
       "4                         250/500               576              1431.02   \n",
       "...                           ...               ...                  ...   \n",
       "28831                     250/500              1000              1108.55   \n",
       "28832                     100/300              1008              1551.84   \n",
       "28833                     100/300               660              1119.32   \n",
       "28834                    250/1000              1674              1229.88   \n",
       "28835                    250/1000               500              1341.72   \n",
       "\n",
       "      UmbrellaLimit InsuredRelationship     VehicleID  VehicleMake  \\\n",
       "0                 0           own-child  Vehicle30662     Mercedes   \n",
       "1           2857344           own-child  Vehicle17183       Toyota   \n",
       "2                 0      other-relative  Vehicle33982   Volkswagen   \n",
       "3                 0      other-relative  Vehicle12299       Toyota   \n",
       "4           4235779           unmarried  Vehicle30447         Ford   \n",
       "...             ...                 ...           ...          ...   \n",
       "28831        739864           unmarried  Vehicle24503       Nissan   \n",
       "28832         41592           own-child   Vehicle9733       Accura   \n",
       "28833             0       not-in-family   Vehicle1823         Saab   \n",
       "28834       4674160                wife   Vehicle9113       Accura   \n",
       "28835       4000000                wife   Vehicle7530   Volkswagen   \n",
       "\n",
       "       VehicleModel  VehicleYOM  \n",
       "0              E400        2005  \n",
       "1        Highlander        2010  \n",
       "2            Passat        2002  \n",
       "3        Highlander        2011  \n",
       "4          Wrangler        2010  \n",
       "...             ...         ...  \n",
       "28831           RSX        2002  \n",
       "28832           RSX        2014  \n",
       "28833           RSX        2013  \n",
       "28834           RSX        2004  \n",
       "28835           RSX        2009  \n",
       "\n",
       "[28836 rows x 42 columns]"
      ]
     },
     "execution_count": 31,
     "metadata": {},
     "output_type": "execute_result"
    }
   ],
   "source": [
    "data"
   ]
  },
  {
   "cell_type": "code",
   "execution_count": 32,
   "id": "ab02e2db",
   "metadata": {},
   "outputs": [
    {
     "name": "stdout",
     "output_type": "stream",
     "text": [
      "<class 'pandas.core.frame.DataFrame'>\n",
      "Int64Index: 28836 entries, 0 to 28835\n",
      "Data columns (total 42 columns):\n",
      " #   Column                      Non-Null Count  Dtype  \n",
      "---  ------                      --------------  -----  \n",
      " 0   CustomerID                  28836 non-null  object \n",
      " 1   ReportedFraud               28836 non-null  object \n",
      " 2   DateOfIncident              28836 non-null  object \n",
      " 3   TypeOfIncident              28836 non-null  object \n",
      " 4   TypeOfCollission            28836 non-null  object \n",
      " 5   SeverityOfIncident          28836 non-null  object \n",
      " 6   AuthoritiesContacted        28836 non-null  object \n",
      " 7   IncidentState               28836 non-null  object \n",
      " 8   IncidentCity                28836 non-null  object \n",
      " 9   IncidentAddress             28836 non-null  object \n",
      " 10  IncidentTime                28836 non-null  int64  \n",
      " 11  NumberOfVehicles            28836 non-null  int64  \n",
      " 12  PropertyDamage              28836 non-null  object \n",
      " 13  BodilyInjuries              28836 non-null  int64  \n",
      " 14  Witnesses                   28836 non-null  object \n",
      " 15  PoliceReport                28836 non-null  object \n",
      " 16  AmountOfTotalClaim          28836 non-null  object \n",
      " 17  AmountOfInjuryClaim         28836 non-null  int64  \n",
      " 18  AmountOfPropertyClaim       28836 non-null  int64  \n",
      " 19  AmountOfVehicleDamage       28836 non-null  int64  \n",
      " 20  InsuredAge                  28836 non-null  int64  \n",
      " 21  InsuredZipCode              28836 non-null  int64  \n",
      " 22  InsuredGender               28806 non-null  object \n",
      " 23  InsuredEducationLevel       28836 non-null  object \n",
      " 24  InsuredOccupation           28836 non-null  object \n",
      " 25  InsuredHobbies              28836 non-null  object \n",
      " 26  CapitalGains                28836 non-null  int64  \n",
      " 27  CapitalLoss                 28836 non-null  int64  \n",
      " 28  Country                     28834 non-null  object \n",
      " 29  InsurancePolicyNumber       28836 non-null  int64  \n",
      " 30  CustomerLoyaltyPeriod       28836 non-null  int64  \n",
      " 31  DateOfPolicyCoverage        28836 non-null  object \n",
      " 32  InsurancePolicyState        28836 non-null  object \n",
      " 33  Policy_CombinedSingleLimit  28836 non-null  object \n",
      " 34  Policy_Deductible           28836 non-null  int64  \n",
      " 35  PolicyAnnualPremium         28836 non-null  float64\n",
      " 36  UmbrellaLimit               28836 non-null  int64  \n",
      " 37  InsuredRelationship         28836 non-null  object \n",
      " 38  VehicleID                   28836 non-null  object \n",
      " 39  VehicleMake                 28836 non-null  object \n",
      " 40  VehicleModel                28836 non-null  object \n",
      " 41  VehicleYOM                  28836 non-null  object \n",
      "dtypes: float64(1), int64(14), object(27)\n",
      "memory usage: 9.5+ MB\n"
     ]
    }
   ],
   "source": [
    "data.info()"
   ]
  },
  {
   "cell_type": "code",
   "execution_count": 33,
   "id": "986e5246",
   "metadata": {},
   "outputs": [
    {
     "data": {
      "text/plain": [
       "India    28834\n",
       "Name: Country, dtype: int64"
      ]
     },
     "execution_count": 33,
     "metadata": {},
     "output_type": "execute_result"
    }
   ],
   "source": [
    "data['Country'].value_counts()"
   ]
  },
  {
   "cell_type": "code",
   "execution_count": 34,
   "id": "1f12de91",
   "metadata": {},
   "outputs": [],
   "source": [
    "data.drop(columns = 'Country', inplace = True)"
   ]
  },
  {
   "cell_type": "code",
   "execution_count": 35,
   "id": "8d9835c5",
   "metadata": {},
   "outputs": [],
   "source": [
    "data= data[~data['InsuredGender'].isnull()]"
   ]
  },
  {
   "cell_type": "code",
   "execution_count": 36,
   "id": "687fb735",
   "metadata": {},
   "outputs": [
    {
     "data": {
      "text/plain": [
       "MISSEDDATA    50\n",
       "6820          12\n",
       "5400           8\n",
       "60600          8\n",
       "55000          7\n",
       "              ..\n",
       "63706          1\n",
       "95462          1\n",
       "86160          1\n",
       "67335          1\n",
       "90334          1\n",
       "Name: AmountOfTotalClaim, Length: 21959, dtype: int64"
      ]
     },
     "execution_count": 36,
     "metadata": {},
     "output_type": "execute_result"
    }
   ],
   "source": [
    "data['AmountOfTotalClaim'].value_counts()"
   ]
  },
  {
   "cell_type": "code",
   "execution_count": 37,
   "id": "553e383d",
   "metadata": {},
   "outputs": [],
   "source": [
    "data= data[data['AmountOfTotalClaim']!='MISSEDDATA']"
   ]
  },
  {
   "cell_type": "code",
   "execution_count": 38,
   "id": "8e306539",
   "metadata": {},
   "outputs": [
    {
     "data": {
      "text/plain": [
       "6820     12\n",
       "5400      8\n",
       "60600     8\n",
       "55000     7\n",
       "5399      7\n",
       "         ..\n",
       "63706     1\n",
       "95462     1\n",
       "86160     1\n",
       "67335     1\n",
       "90334     1\n",
       "Name: AmountOfTotalClaim, Length: 21958, dtype: int64"
      ]
     },
     "execution_count": 38,
     "metadata": {},
     "output_type": "execute_result"
    }
   ],
   "source": [
    "data['AmountOfTotalClaim'].value_counts()"
   ]
  },
  {
   "cell_type": "code",
   "execution_count": 39,
   "id": "6d30fb49",
   "metadata": {},
   "outputs": [],
   "source": [
    "data['AmountOfTotalClaim'] = data['AmountOfTotalClaim'].astype('int')"
   ]
  },
  {
   "cell_type": "code",
   "execution_count": 40,
   "id": "ce98e9b7",
   "metadata": {},
   "outputs": [
    {
     "data": {
      "text/plain": [
       "dtype('int64')"
      ]
     },
     "execution_count": 40,
     "metadata": {},
     "output_type": "execute_result"
    }
   ],
   "source": [
    "data['AmountOfTotalClaim'].dtype"
   ]
  },
  {
   "cell_type": "code",
   "execution_count": 41,
   "id": "89528e48",
   "metadata": {},
   "outputs": [
    {
     "name": "stdout",
     "output_type": "stream",
     "text": [
      "<class 'pandas.core.frame.DataFrame'>\n",
      "Int64Index: 28756 entries, 0 to 28835\n",
      "Data columns (total 41 columns):\n",
      " #   Column                      Non-Null Count  Dtype  \n",
      "---  ------                      --------------  -----  \n",
      " 0   CustomerID                  28756 non-null  object \n",
      " 1   ReportedFraud               28756 non-null  object \n",
      " 2   DateOfIncident              28756 non-null  object \n",
      " 3   TypeOfIncident              28756 non-null  object \n",
      " 4   TypeOfCollission            28756 non-null  object \n",
      " 5   SeverityOfIncident          28756 non-null  object \n",
      " 6   AuthoritiesContacted        28756 non-null  object \n",
      " 7   IncidentState               28756 non-null  object \n",
      " 8   IncidentCity                28756 non-null  object \n",
      " 9   IncidentAddress             28756 non-null  object \n",
      " 10  IncidentTime                28756 non-null  int64  \n",
      " 11  NumberOfVehicles            28756 non-null  int64  \n",
      " 12  PropertyDamage              28756 non-null  object \n",
      " 13  BodilyInjuries              28756 non-null  int64  \n",
      " 14  Witnesses                   28756 non-null  object \n",
      " 15  PoliceReport                28756 non-null  object \n",
      " 16  AmountOfTotalClaim          28756 non-null  int64  \n",
      " 17  AmountOfInjuryClaim         28756 non-null  int64  \n",
      " 18  AmountOfPropertyClaim       28756 non-null  int64  \n",
      " 19  AmountOfVehicleDamage       28756 non-null  int64  \n",
      " 20  InsuredAge                  28756 non-null  int64  \n",
      " 21  InsuredZipCode              28756 non-null  int64  \n",
      " 22  InsuredGender               28756 non-null  object \n",
      " 23  InsuredEducationLevel       28756 non-null  object \n",
      " 24  InsuredOccupation           28756 non-null  object \n",
      " 25  InsuredHobbies              28756 non-null  object \n",
      " 26  CapitalGains                28756 non-null  int64  \n",
      " 27  CapitalLoss                 28756 non-null  int64  \n",
      " 28  InsurancePolicyNumber       28756 non-null  int64  \n",
      " 29  CustomerLoyaltyPeriod       28756 non-null  int64  \n",
      " 30  DateOfPolicyCoverage        28756 non-null  object \n",
      " 31  InsurancePolicyState        28756 non-null  object \n",
      " 32  Policy_CombinedSingleLimit  28756 non-null  object \n",
      " 33  Policy_Deductible           28756 non-null  int64  \n",
      " 34  PolicyAnnualPremium         28756 non-null  float64\n",
      " 35  UmbrellaLimit               28756 non-null  int64  \n",
      " 36  InsuredRelationship         28756 non-null  object \n",
      " 37  VehicleID                   28756 non-null  object \n",
      " 38  VehicleMake                 28756 non-null  object \n",
      " 39  VehicleModel                28756 non-null  object \n",
      " 40  VehicleYOM                  28756 non-null  object \n",
      "dtypes: float64(1), int64(15), object(25)\n",
      "memory usage: 9.2+ MB\n"
     ]
    }
   ],
   "source": [
    "data.info()"
   ]
  },
  {
   "cell_type": "code",
   "execution_count": 42,
   "id": "b9e23030",
   "metadata": {},
   "outputs": [],
   "source": [
    "list_o = [x for x in data.columns if data[x].dtype == 'object' ]\n",
    "list_no = [x for x in data.columns if data[x].dtype != 'object' ]"
   ]
  },
  {
   "cell_type": "code",
   "execution_count": 43,
   "id": "8e2eb4fe",
   "metadata": {},
   "outputs": [
    {
     "name": "stdout",
     "output_type": "stream",
     "text": [
      "CustomerID : ['Cust20065' 'Cust37589' 'Cust24312' ... 'Cust38444' 'Cust26466'\n",
      " 'Cust29555']\n",
      "ReportedFraud : ['N' 'Y']\n",
      "DateOfIncident : ['2015-01-09' '2015-02-20' '2015-01-14' '2015-01-07' '2015-02-26'\n",
      " '2015-02-06' '2015-02-02' '2015-01-26' '2015-02-08' '2015-01-15'\n",
      " '2015-02-14' '2015-02-04' '2015-01-16' '2015-02-27' '2015-01-19'\n",
      " '2015-02-16' '2015-01-11' '2015-01-28' '2015-02-19' '2015-02-05'\n",
      " '2015-02-21' '2015-01-13' '2015-01-06' '2015-01-17' '2015-01-08'\n",
      " '2015-02-07' '2015-01-12' '2015-02-15' '2015-01-18' '2015-01-05'\n",
      " '2015-02-10' '2015-01-25' '2015-02-11' '2015-02-28' '2015-01-10'\n",
      " '2015-03-04' '2015-01-22' '2015-02-17' '2015-01-21' '2015-02-25'\n",
      " '2015-01-27' '2015-01-04' '2015-02-18' '2015-01-29' '2015-02-13'\n",
      " '2015-01-20' '2015-01-30' '2015-01-31' '2015-01-23' '2015-02-12'\n",
      " '2015-02-03' '2015-01-03' '2015-02-24' '2015-01-24' '2015-02-23'\n",
      " '2015-01-02' '2015-01-01' '2015-02-09' '2015-02-22' '2015-02-01'\n",
      " '2015-03-01' '2015-03-06' '2015-03-02' '2015-03-03' '2015-03-08'\n",
      " '2015-03-05' '2015-03-11' '2015-03-10' '2015-03-09' '2015-03-07'\n",
      " '2015-03-14' '2015-03-12']\n",
      "TypeOfIncident : ['Multi-vehicle Collision' 'Single Vehicle Collision' 'Vehicle Theft'\n",
      " 'Parked Car']\n",
      "TypeOfCollission : ['Rear Collision' 'Side Collision' 'Front Collision' '?']\n",
      "SeverityOfIncident : ['Total Loss' 'Minor Damage' 'Major Damage' 'Trivial Damage']\n",
      "AuthoritiesContacted : ['Other' 'Ambulance' 'Police' 'None' 'Fire']\n",
      "IncidentState : ['State9' 'State4' 'State5' 'State7' 'State8' 'State6' 'State3']\n",
      "IncidentCity : ['City4' 'City3' 'City2' 'City6' 'City1' 'City5' 'City7']\n",
      "IncidentAddress : ['Location 1404' 'Location 1675' 'Location 1546' 'Location 1413'\n",
      " 'Location 1367' 'Location 1561' 'Location 1975' 'Location 1458'\n",
      " 'Location 1859' 'Location 1211' 'Location 1263' 'Location 1172'\n",
      " 'Location 1421' 'Location 1352' 'Location 1281' 'Location 1969'\n",
      " 'Location 1254' 'Location 1730' 'Location 1906' 'Location 1221'\n",
      " 'Location 1280' 'Location 1638' 'Location 1412' 'Location 1110'\n",
      " 'Location 1845' 'Location 2033' 'Location 1839' 'Location 1417'\n",
      " 'Location 1966' 'Location 1754' 'Location 1810' 'Location 1804'\n",
      " 'Location 1376' 'Location 1708' 'Location 1187' 'Location 1926'\n",
      " 'Location 2004' 'Location 1709' 'Location 1510' 'Location 1779'\n",
      " 'Location 1170' 'Location 1999' 'Location 1570' 'Location 1551'\n",
      " 'Location 2070' 'Location 1405' 'Location 1164' 'Location 1924'\n",
      " 'Location 1696' 'Location 1192' 'Location 1374' 'Location 1728'\n",
      " 'Location 1141' 'Location 1162' 'Location 1090' 'Location 1518'\n",
      " 'Location 1882' 'Location 1460' 'Location 1951' 'Location 1912'\n",
      " 'Location 1366' 'Location 1341' 'Location 1098' 'Location 1889'\n",
      " 'Location 2083' 'Location 1807' 'Location 1128' 'Location 1927'\n",
      " 'Location 1601' 'Location 1785' 'Location 1717' 'Location 1580'\n",
      " 'Location 1298' 'Location 1262' 'Location 1375' 'Location 1737'\n",
      " 'Location 1676' 'Location 2097' 'Location 1769' 'Location 1904'\n",
      " 'Location 1770' 'Location 1692' 'Location 2096' 'Location 1672'\n",
      " 'Location 1168' 'Location 1248' 'Location 2041' 'Location 1634'\n",
      " 'Location 1727' 'Location 1820' 'Location 1432' 'Location 1178'\n",
      " 'Location 1830' 'Location 1253' 'Location 1076' 'Location 1948'\n",
      " 'Location 1137' 'Location 1871' 'Location 1790' 'Location 1577'\n",
      " 'Location 1139' 'Location 1271' 'Location 1922' 'Location 2062'\n",
      " 'Location 1391' 'Location 1183' 'Location 1781' 'Location 1519'\n",
      " 'Location 1146' 'Location 1202' 'Location 1828' 'Location 1482'\n",
      " 'Location 1967' 'Location 2029' 'Location 1395' 'Location 1913'\n",
      " 'Location 1250' 'Location 1914' 'Location 1548' 'Location 1418'\n",
      " 'Location 1181' 'Location 1069' 'Location 1921' 'Location 1038'\n",
      " 'Location 1543' 'Location 1890' 'Location 1344' 'Location 1217'\n",
      " 'Location 1860' 'Location 1777' 'Location 1256' 'Location 1393'\n",
      " 'Location 1802' 'Location 1188' 'Location 1313' 'Location 1016'\n",
      " 'Location 1888' 'Location 1231' 'Location 2085' 'Location 2007'\n",
      " 'Location 1566' 'Location 1505' 'Location 1131' 'Location 2082'\n",
      " 'Location 2058' 'Location 1045' 'Location 1931' 'Location 1491'\n",
      " 'Location 1291' 'Location 1414' 'Location 1360' 'Location 1397'\n",
      " 'Location 1230' 'Location 1104' 'Location 1683' 'Location 1236'\n",
      " 'Location 1234' 'Location 1762' 'Location 1757' 'Location 1530'\n",
      " 'Location 1528' 'Location 1502' 'Location 1753' 'Location 1355'\n",
      " 'Location 1618' 'Location 1574' 'Location 1778' 'Location 1816'\n",
      " 'Location 1082' 'Location 1349' 'Location 1900' 'Location 1062'\n",
      " 'Location 1652' 'Location 1549' 'Location 1733' 'Location 1161'\n",
      " 'Location 1786' 'Location 1983' 'Location 1480' 'Location 2099'\n",
      " 'Location 1071' 'Location 1368' 'Location 1641' 'Location 1066'\n",
      " 'Location 1812' 'Location 1911' 'Location 1800' 'Location 1998'\n",
      " 'Location 1014' 'Location 1703' 'Location 1712' 'Location 1040'\n",
      " 'Location 1459' 'Location 1654' 'Location 1724' 'Location 1053'\n",
      " 'Location 1469' 'Location 1353' 'Location 1517' 'Location 1973'\n",
      " 'Location 2069' 'Location 1004' 'Location 2052' 'Location 1531'\n",
      " 'Location 1152' 'Location 1302' 'Location 1409' 'Location 1436'\n",
      " 'Location 1673' 'Location 1167' 'Location 2000' 'Location 1535'\n",
      " 'Location 1226' 'Location 1944' 'Location 1055' 'Location 1196'\n",
      " 'Location 1552' 'Location 1963' 'Location 1179' 'Location 1986'\n",
      " 'Location 1255' 'Location 1635' 'Location 2006' 'Location 1744'\n",
      " 'Location 1957' 'Location 1028' 'Location 1495' 'Location 2003'\n",
      " 'Location 1408' 'Location 1667' 'Location 1467' 'Location 1842'\n",
      " 'Location 1627' 'Location 1223' 'Location 1981' 'Location 1713'\n",
      " 'Location 1655' 'Location 1117' 'Location 1327' 'Location 1021'\n",
      " 'Location 1144' 'Location 1479' 'Location 1700' 'Location 1738'\n",
      " 'Location 1851' 'Location 1745' 'Location 1136' 'Location 1121'\n",
      " 'Location 1648' 'Location 1855' 'Location 1385' 'Location 1345'\n",
      " 'Location 1572' 'Location 1392' 'Location 1987' 'Location 1739'\n",
      " 'Location 1554' 'Location 1011' 'Location 1767' 'Location 1324'\n",
      " 'Location 1715' 'Location 2046' 'Location 1215' 'Location 1099'\n",
      " 'Location 1526' 'Location 1619' 'Location 1867' 'Location 1275'\n",
      " 'Location 1002' 'Location 1515' 'Location 1337' 'Location 2066'\n",
      " 'Location 1182' 'Location 1406' 'Location 1658' 'Location 1939'\n",
      " 'Location 1801' 'Location 2048' 'Location 1591' 'Location 1521'\n",
      " 'Location 1869' 'Location 1105' 'Location 1079' 'Location 1240'\n",
      " 'Location 1499' 'Location 1917' 'Location 2005' 'Location 1264'\n",
      " 'Location 2042' 'Location 1707' 'Location 1199' 'Location 1631'\n",
      " 'Location 1659' 'Location 1216' 'Location 1806' 'Location 1992'\n",
      " 'Location 1937' 'Location 1734' 'Location 1594' 'Location 1326'\n",
      " 'Location 1609' 'Location 1534' 'Location 1116' 'Location 1866'\n",
      " 'Location 1214' 'Location 1556' 'Location 1242' 'Location 1488'\n",
      " 'Location 1023' 'Location 1272' 'Location 1559' 'Location 1185'\n",
      " 'Location 1464' 'Location 2059' 'Location 1206' 'Location 1468'\n",
      " 'Location 1741' 'Location 1379' 'Location 2036' 'Location 1990'\n",
      " 'Location 1750' 'Location 2038' 'Location 1945' 'Location 1244'\n",
      " 'Location 1563' 'Location 1232' 'Location 2018' 'Location 2002'\n",
      " 'Location 1602' 'Location 1260' 'Location 1276' 'Location 1940'\n",
      " 'Location 1525' 'Location 1544' 'Location 1615' 'Location 1301'\n",
      " 'Location 1377' 'Location 1626' 'Location 1886' 'Location 2030'\n",
      " 'Location 1798' 'Location 1788' 'Location 1988' 'Location 1920'\n",
      " 'Location 1123' 'Location 1843' 'Location 1398' 'Location 1005'\n",
      " 'Location 1424' 'Location 1325' 'Location 1964' 'Location 1160'\n",
      " 'Location 1157' 'Location 1026' 'Location 1879' 'Location 1416'\n",
      " 'Location 1020' 'Location 1529' 'Location 1451' 'Location 1629'\n",
      " 'Location 1902' 'Location 1677' 'Location 1042' 'Location 1576'\n",
      " 'Location 1321' 'Location 1195' 'Location 1935' 'Location 1793'\n",
      " 'Location 1558' 'Location 1679' 'Location 1153' 'Location 1114'\n",
      " 'Location 1687' 'Location 1106' 'Location 1441' 'Location 1362'\n",
      " 'Location 1369' 'Location 1938' 'Location 1539' 'Location 1772'\n",
      " 'Location 1305' 'Location 1949' 'Location 1947' 'Location 1165'\n",
      " 'Location 1970' 'Location 2051' 'Location 1127' 'Location 1746'\n",
      " 'Location 2090' 'Location 1357' 'Location 1690' 'Location 1971'\n",
      " 'Location 1287' 'Location 1875' 'Location 1597' 'Location 2080'\n",
      " 'Location 2044' 'Location 1225' 'Location 1080' 'Location 1444'\n",
      " 'Location 1050' 'Location 1447' 'Location 1894' 'Location 1841'\n",
      " 'Location 1423' 'Location 1789' 'Location 1103' 'Location 1645'\n",
      " 'Location 1662' 'Location 1868' 'Location 1579' 'Location 1976'\n",
      " 'Location 1333' 'Location 1965' 'Location 1083' 'Location 1387'\n",
      " 'Location 1547' 'Location 1849' 'Location 1174' 'Location 1008'\n",
      " 'Location 1994' 'Location 1694' 'Location 1332' 'Location 1884'\n",
      " 'Location 1977' 'Location 1865' 'Location 1610' 'Location 1605'\n",
      " 'Location 1796' 'Location 1238' 'Location 1876' 'Location 1847'\n",
      " 'Location 1982' 'Location 1613' 'Location 1792' 'Location 1895'\n",
      " 'Location 1560' 'Location 2079' 'Location 1783' 'Location 1514'\n",
      " 'Location 1684' 'Location 2035' 'Location 2061' 'Location 1427'\n",
      " 'Location 1691' 'Location 1513' 'Location 1035' 'Location 1239'\n",
      " 'Location 1593' 'Location 1007' 'Location 2016' 'Location 1833'\n",
      " 'Location 2075' 'Location 1388' 'Location 1440' 'Location 1273'\n",
      " 'Location 1285' 'Location 1212' 'Location 1063' 'Location 1338'\n",
      " 'Location 1282' 'Location 1836' 'Location 1030' 'Location 1492'\n",
      " 'Location 1155' 'Location 1193' 'Location 1723' 'Location 1774'\n",
      " 'Location 1433' 'Location 1140' 'Location 2022' 'Location 1092'\n",
      " 'Location 2074' 'Location 1916' 'Location 1443' 'Location 1218'\n",
      " 'Location 1286' 'Location 1339' 'Location 1330' 'Location 1149'\n",
      " 'Location 2019' 'Location 1496' 'Location 1308' 'Location 1288'\n",
      " 'Location 1300' 'Location 1133' 'Location 2027' 'Location 1829'\n",
      " 'Location 1356' 'Location 1643' 'Location 1094' 'Location 1837'\n",
      " 'Location 1799' 'Location 1442' 'Location 1503' 'Location 1623'\n",
      " 'Location 1311' 'Location 1101' 'Location 1923' 'Location 1952'\n",
      " 'Location 1056' 'Location 1695' 'Location 1892' 'Location 1222'\n",
      " 'Location 1898' 'Location 1688' 'Location 1484' 'Location 1553'\n",
      " 'Location 1089' 'Location 1943' 'Location 1198' 'Location 1682'\n",
      " 'Location 1726' 'Location 1685' 'Location 1380' 'Location 1808'\n",
      " 'Location 1720' 'Location 1832' 'Location 1794' 'Location 2047'\n",
      " 'Location 1476' 'Location 1567' 'Location 1346' 'Location 1068'\n",
      " 'Location 1817' 'Location 1013' 'Location 2056' 'Location 1319'\n",
      " 'Location 2087' 'Location 1246' 'Location 1693' 'Location 1228'\n",
      " 'Location 1573' 'Location 1381' 'Location 1245' 'Location 1880'\n",
      " 'Location 1621' 'Location 1277' 'Location 1372' 'Location 1962'\n",
      " 'Location 1958' 'Location 1304' 'Location 1818' 'Location 1669'\n",
      " 'Location 1903' 'Location 1010' 'Location 1129' 'Location 1647'\n",
      " 'Location 2032' 'Location 1620' 'Location 1824' 'Location 1059'\n",
      " 'Location 1449' 'Location 1995' 'Location 1910' 'Location 1936'\n",
      " 'Location 1731' 'Location 1823' 'Location 1027' 'Location 1661'\n",
      " 'Location 1732' 'Location 1029' 'Location 2065' 'Location 2084'\n",
      " 'Location 1207' 'Location 1811' 'Location 1756' 'Location 1235'\n",
      " 'Location 1908' 'Location 1290' 'Location 1640' 'Location 1309'\n",
      " 'Location 1978' 'Location 1835' 'Location 2091' 'Location 1201'\n",
      " 'Location 2094' 'Location 1200' 'Location 1748' 'Location 1805'\n",
      " 'Location 1051' 'Location 1115' 'Location 1425' 'Location 1747'\n",
      " 'Location 1227' 'Location 1048' 'Location 1844' 'Location 1959'\n",
      " 'Location 1453' 'Location 1077' 'Location 1846' 'Location 1639'\n",
      " 'Location 1037' 'Location 1827' 'Location 1705' 'Location 1316'\n",
      " 'Location 1719' 'Location 1402' 'Location 1663' 'Location 1102'\n",
      " 'Location 1320' 'Location 1189' 'Location 2068' 'Location 1653'\n",
      " 'Location 1268' 'Location 1853' 'Location 1776' 'Location 1583'\n",
      " 'Location 1024' 'Location 1044' 'Location 1813' 'Location 1047'\n",
      " 'Location 1507' 'Location 1729' 'Location 1336' 'Location 1862'\n",
      " 'Location 1194' 'Location 1735' 'Location 1124' 'Location 1918'\n",
      " 'Location 1297' 'Location 1972' 'Location 1477' 'Location 1257'\n",
      " 'Location 1764' 'Location 1864' 'Location 1538' 'Location 1396'\n",
      " 'Location 1364' 'Location 1598' 'Location 1989' 'Location 1096'\n",
      " 'Location 1686' 'Location 1520' 'Location 1803' 'Location 1112'\n",
      " 'Location 1680' 'Location 1509' 'Location 1471' 'Location 2092'\n",
      " 'Location 1819' 'Location 1961' 'Location 2021' 'Location 1930'\n",
      " 'Location 1881' 'Location 1668' 'Location 1219' 'Location 1064'\n",
      " 'Location 1834' 'Location 1625' 'Location 1450' 'Location 1718'\n",
      " 'Location 1773' 'Location 1363' 'Location 1184' 'Location 1457'\n",
      " 'Location 1954' 'Location 1097' 'Location 1150' 'Location 1147'\n",
      " 'Location 1710' 'Location 1751' 'Location 1791' 'Location 1604'\n",
      " 'Location 1015' 'Location 1019' 'Location 1289' 'Location 1742'\n",
      " 'Location 1612' 'Location 1956' 'Location 1081' 'Location 1435'\n",
      " 'Location 1706' 'Location 1399' 'Location 1617' 'Location 1247'\n",
      " 'Location 1854' 'Location 1209' 'Location 1041' 'Location 1736'\n",
      " 'Location 2071' 'Location 1278' 'Location 1294' 'Location 1266'\n",
      " 'Location 1611' 'Location 1118' 'Location 1494' 'Location 1204'\n",
      " 'Location 1650' 'Location 1359' 'Location 1054' 'Location 1070'\n",
      " 'Location 1825' 'Location 1678' 'Location 1078' 'Location 1915'\n",
      " 'Location 2054' 'Location 2043' 'Location 1760' 'Location 1370'\n",
      " 'Location 1120' 'Location 1378' 'Location 1175' 'Location 1210'\n",
      " 'Location 1500' 'Location 2100' 'Location 1979' 'Location 1749'\n",
      " 'Location 1929' 'Location 1490' 'Location 2049' 'Location 1831'\n",
      " 'Location 1587' 'Location 1795' 'Location 1697' 'Location 1815'\n",
      " 'Location 2088' 'Location 1318' 'Location 1012' 'Location 1901'\n",
      " 'Location 1950' 'Location 1541' 'Location 1755' 'Location 1284'\n",
      " 'Location 2015' 'Location 1928' 'Location 2045' 'Location 1475'\n",
      " 'Location 1522' 'Location 1571' 'Location 1664' 'Location 1001'\n",
      " 'Location 1721' 'Location 1562' 'Location 1532' 'Location 1310'\n",
      " 'Location 1119' 'Location 1383' 'Location 2037' 'Location 1608'\n",
      " 'Location 1431' 'Location 1031' 'Location 2024' 'Location 1403'\n",
      " 'Location 1873' 'Location 1143' 'Location 1822' 'Location 1009'\n",
      " 'Location 1411' 'Location 1036' 'Location 1759' 'Location 1134'\n",
      " 'Location 1856' 'Location 1400' 'Location 1725' 'Location 1437'\n",
      " 'Location 1489' 'Location 1660' 'Location 1351' 'Location 1061'\n",
      " 'Location 1430' 'Location 1511' 'Location 1087' 'Location 1863'\n",
      " 'Location 1722' 'Location 1039' 'Location 1581' 'Location 1877'\n",
      " 'Location 1422' 'Location 1067' 'Location 1025' 'Location 1340'\n",
      " 'Location 1481' 'Location 1022' 'Location 1784' 'Location 2009'\n",
      " 'Location 1596' 'Location 2040' 'Location 1307' 'Location 1473'\n",
      " 'Location 1955' 'Location 1108' 'Location 2014' 'Location 1699'\n",
      " 'Location 1329' 'Location 1993' 'Location 1177' 'Location 1270'\n",
      " 'Location 1919' 'Location 2089' 'Location 2072' 'Location 1074'\n",
      " 'Location 1454' 'Location 1466' 'Location 1474' 'Location 1858'\n",
      " 'Location 1504' 'Location 1557' 'Location 1394' 'Location 1485'\n",
      " 'Location 1870' 'Location 1646' 'Location 1084' 'Location 2012'\n",
      " 'Location 1312' 'Location 1765' 'Location 1809' 'Location 1448'\n",
      " 'Location 1354' 'Location 1292' 'Location 1033' 'Location 1516'\n",
      " 'Location 1850' 'Location 1743' 'Location 1907' 'Location 1126'\n",
      " 'Location 1614' 'Location 1536' 'Location 1057' 'Location 1585'\n",
      " 'Location 1171' 'Location 1058' 'Location 1968' 'Location 1065'\n",
      " 'Location 1109' 'Location 1942' 'Location 2053' 'Location 1508'\n",
      " 'Location 1151' 'Location 1616' 'Location 1501' 'Location 1714'\n",
      " 'Location 1463' 'Location 1698' 'Location 1390' 'Location 1237'\n",
      " 'Location 1052' 'Location 1874' 'Location 1093' 'Location 2013'\n",
      " 'Location 2098' 'Location 1588' 'Location 1632' 'Location 1763'\n",
      " 'Location 1665' 'Location 1524' 'Location 1135' 'Location 1670'\n",
      " 'Location 1046' 'Location 1666' 'Location 1445' 'Location 1386'\n",
      " 'Location 1446' 'Location 1465' 'Location 1606' 'Location 1885'\n",
      " 'Location 1384' 'Location 2067' 'Location 1826' 'Location 1840'\n",
      " 'Location 1145' 'Location 1893' 'Location 1085' 'Location 2034'\n",
      " 'Location 1985' 'Location 1896' 'Location 1249' 'Location 2095'\n",
      " 'Location 1176' 'Location 1003' 'Location 1498' 'Location 1401'\n",
      " 'Location 1122' 'Location 1716' 'Location 1017' 'Location 1861'\n",
      " 'Location 1389' 'Location 1582' 'Location 2055' 'Location 1328'\n",
      " 'Location 1258' 'Location 1163' 'Location 1295' 'Location 1293'\n",
      " 'Location 1506' 'Location 1032' 'Location 1426' 'Location 2081'\n",
      " 'Location 1584' 'Location 1953' 'Location 2078' 'Location 2020'\n",
      " 'Location 1569' 'Location 1158' 'Location 1740' 'Location 1203'\n",
      " 'Location 2028' 'Location 1681' 'Location 1974' 'Location 1049'\n",
      " 'Location 1407' 'Location 1564' 'Location 1169' 'Location 2060'\n",
      " 'Location 1775' 'Location 2076' 'Location 1527' 'Location 1752'\n",
      " 'Location 1086' 'Location 1486' 'Location 1821' 'Location 1100'\n",
      " 'Location 1586' 'Location 1997' 'Location 1006' 'Location 1043'\n",
      " 'Location 1261' 'Location 2017' 'Location 1358' 'Location 2010'\n",
      " 'Location 1941' 'Location 2093' 'Location 1991' 'Location 1883'\n",
      " 'Location 1768' 'Location 1452' 'Location 1159' 'Location 1410'\n",
      " 'Location 1156' 'Location 1348' 'Location 1434' 'Location 1671'\n",
      " 'Location 2001' 'Location 1269' 'Location 1220' 'Location 1060'\n",
      " 'Location 1600' 'Location 1689' 'Location 1343' 'Location 1365'\n",
      " 'Location 1438' 'Location 2026' 'Location 1537' 'Location 1701'\n",
      " 'Location 1630' 'Location 1656' 'Location 1456' 'Location 1996'\n",
      " 'Location 1186' 'Location 1758' 'Location 1642' 'Location 2077'\n",
      " 'Location 1072' 'Location 1213' 'Location 1542' 'Location 1419'\n",
      " 'Location 1455' 'Location 1787' 'Location 1373' 'Location 1649'\n",
      " 'Location 1704' 'Location 1462' 'Location 1111' 'Location 1296'\n",
      " 'Location 1315' 'Location 1540' 'Location 1909' 'Location 1361'\n",
      " 'Location 1771' 'Location 1595' 'Location 1173' 'Location 1905'\n",
      " 'Location 1633' 'Location 1073' 'Location 1241' 'Location 1018'\n",
      " 'Location 1148' 'Location 1644' 'Location 1624' 'Location 1960'\n",
      " 'Location 1780' 'Location 1838' 'Location 1267' 'Location 2023'\n",
      " 'Location 2057' 'Location 2086' 'Location 1497' 'Location 1568'\n",
      " 'Location 1934' 'Location 1483' 'Location 1523' 'Location 1439'\n",
      " 'Location 1303' 'Location 1872' 'Location 1428' 'Location 1251'\n",
      " 'Location 1628' 'Location 1674' 'Location 1259' 'Location 1555']\n",
      "PropertyDamage : ['?' 'YES' 'NO']\n",
      "Witnesses : ['1' '0' '2' '3' 'MISSINGVALUE']\n",
      "PoliceReport : ['?' 'YES' 'NO']\n",
      "InsuredGender : ['MALE' 'FEMALE']\n",
      "InsuredEducationLevel : ['JD' 'High School' 'PhD' 'College' 'Masters' 'Associate' 'MD']\n",
      "InsuredOccupation : ['sales' 'transport-moving' 'machine-op-inspct' 'exec-managerial'\n",
      " 'craft-repair' 'prof-specialty' 'tech-support' 'adm-clerical'\n",
      " 'farming-fishing' 'protective-serv' 'priv-house-serv' 'handlers-cleaners'\n",
      " 'other-service' 'armed-forces']\n",
      "InsuredHobbies : ['video-games' 'polo' 'exercise' 'chess' 'board-games' 'base-jumping'\n",
      " 'reading' 'camping' 'yachting' 'golf' 'hiking' 'kayaking' 'skydiving'\n",
      " 'cross-fit' 'sleeping' 'bungie-jumping' 'movies' 'basketball' 'dancing'\n",
      " 'paintball']\n",
      "DateOfPolicyCoverage : ['1998-11-14' '2000-08-19' '2000-06-23' ... '1996-11-07' '2010-01-08'\n",
      " '2000-12-23']\n",
      "InsurancePolicyState : ['State2' 'State1' 'State3']\n",
      "Policy_CombinedSingleLimit : ['250/500' '100/300' '500/1000' '100/500' '250/300' '250/1000' '500/300'\n",
      " '500/500' '100/1000']\n",
      "InsuredRelationship : ['own-child' 'other-relative' 'unmarried' 'not-in-family' 'wife' 'husband']\n",
      "VehicleID : ['Vehicle30662' 'Vehicle17183' 'Vehicle33982' ... 'Vehicle1823'\n",
      " 'Vehicle9113' 'Vehicle7530']\n",
      "VehicleMake : ['Mercedes' 'Toyota' 'Volkswagen' 'Ford' 'Suburu' 'Honda' 'Dodge' 'Nissan'\n",
      " 'Audi' 'Saab' 'Jeep' 'Chevrolet' 'Accura' 'BMW']\n",
      "VehicleModel : ['E400' 'Highlander' 'Passat' 'Wrangler' 'Legacy' 'TL' 'X6' 'Accord'\n",
      " '3 Series' 'Maxima' 'Escape' '92x' 'RAM' 'F150' 'Fusion' 'MDX' 'A3' 'M5'\n",
      " 'Corolla' 'Forrestor' 'Camry' 'Pathfinder' 'X5' 'C300' 'Civic' 'ML350'\n",
      " 'Malibu' 'Jetta' '93' 'Tahoe' 'A5' 'RSX' 'Ultima' 'Neon' 'CRV'\n",
      " 'Silverado' 'Impreza' 'Grand Cherokee' '95']\n",
      "VehicleYOM : ['2005' '2010' '2002' '2011' '2009' '2006' '2013' '1999' '2008' '2000'\n",
      " '2004' '2001' '1995' '2015' '2007' '1998' '2003' '2012' '2014' '1997'\n",
      " '1996']\n"
     ]
    }
   ],
   "source": [
    "for x in list_o:\n",
    "    print(x, ':', data[x].unique())"
   ]
  },
  {
   "cell_type": "code",
   "execution_count": 44,
   "id": "f4b1cfbc",
   "metadata": {},
   "outputs": [
    {
     "data": {
      "text/plain": [
       "Rear Collision     8531\n",
       "Side Collision     7847\n",
       "Front Collision    7230\n",
       "?                  5148\n",
       "Name: TypeOfCollission, dtype: int64"
      ]
     },
     "execution_count": 44,
     "metadata": {},
     "output_type": "execute_result"
    }
   ],
   "source": [
    "data['TypeOfCollission'].value_counts()"
   ]
  },
  {
   "cell_type": "code",
   "execution_count": 45,
   "id": "b5f16e45",
   "metadata": {},
   "outputs": [],
   "source": [
    "data.drop(columns = 'TypeOfCollission', inplace = True)"
   ]
  },
  {
   "cell_type": "code",
   "execution_count": 46,
   "id": "803da95d",
   "metadata": {},
   "outputs": [
    {
     "data": {
      "text/plain": [
       "?      10430\n",
       "NO      9654\n",
       "YES     8672\n",
       "Name: PropertyDamage, dtype: int64"
      ]
     },
     "execution_count": 46,
     "metadata": {},
     "output_type": "execute_result"
    }
   ],
   "source": [
    "data['PropertyDamage'].value_counts()"
   ]
  },
  {
   "cell_type": "code",
   "execution_count": 47,
   "id": "0170023d",
   "metadata": {},
   "outputs": [],
   "source": [
    "data.drop(columns = 'PropertyDamage', inplace = True)"
   ]
  },
  {
   "cell_type": "code",
   "execution_count": 48,
   "id": "2c833247",
   "metadata": {},
   "outputs": [
    {
     "data": {
      "text/plain": [
       "2               8424\n",
       "1               8325\n",
       "0               6105\n",
       "3               5856\n",
       "MISSINGVALUE      46\n",
       "Name: Witnesses, dtype: int64"
      ]
     },
     "execution_count": 48,
     "metadata": {},
     "output_type": "execute_result"
    }
   ],
   "source": [
    "data['Witnesses'].value_counts()"
   ]
  },
  {
   "cell_type": "code",
   "execution_count": 49,
   "id": "3c468376",
   "metadata": {},
   "outputs": [],
   "source": [
    "data = data[data['Witnesses'] != 'MISSINGVALUE']"
   ]
  },
  {
   "cell_type": "code",
   "execution_count": 50,
   "id": "71e9ed9b",
   "metadata": {},
   "outputs": [
    {
     "data": {
      "text/plain": [
       "2    8424\n",
       "1    8325\n",
       "0    6105\n",
       "3    5856\n",
       "Name: Witnesses, dtype: int64"
      ]
     },
     "execution_count": 50,
     "metadata": {},
     "output_type": "execute_result"
    }
   ],
   "source": [
    "data['Witnesses'].value_counts()"
   ]
  },
  {
   "cell_type": "code",
   "execution_count": 51,
   "id": "ca09308a",
   "metadata": {},
   "outputs": [
    {
     "data": {
      "text/plain": [
       "NO     9852\n",
       "?      9767\n",
       "YES    9091\n",
       "Name: PoliceReport, dtype: int64"
      ]
     },
     "execution_count": 51,
     "metadata": {},
     "output_type": "execute_result"
    }
   ],
   "source": [
    "data['PoliceReport'].value_counts()"
   ]
  },
  {
   "cell_type": "code",
   "execution_count": 52,
   "id": "5b20a90b",
   "metadata": {},
   "outputs": [],
   "source": [
    "data.drop(columns = 'PoliceReport', inplace = True)"
   ]
  },
  {
   "cell_type": "code",
   "execution_count": 53,
   "id": "06a8bab9",
   "metadata": {},
   "outputs": [
    {
     "data": {
      "text/plain": [
       "['IncidentTime',\n",
       " 'NumberOfVehicles',\n",
       " 'BodilyInjuries',\n",
       " 'AmountOfTotalClaim',\n",
       " 'AmountOfInjuryClaim',\n",
       " 'AmountOfPropertyClaim',\n",
       " 'AmountOfVehicleDamage',\n",
       " 'InsuredAge',\n",
       " 'InsuredZipCode',\n",
       " 'CapitalGains',\n",
       " 'CapitalLoss',\n",
       " 'InsurancePolicyNumber',\n",
       " 'CustomerLoyaltyPeriod',\n",
       " 'Policy_Deductible',\n",
       " 'PolicyAnnualPremium',\n",
       " 'UmbrellaLimit']"
      ]
     },
     "execution_count": 53,
     "metadata": {},
     "output_type": "execute_result"
    }
   ],
   "source": [
    "list_no"
   ]
  },
  {
   "cell_type": "code",
   "execution_count": 54,
   "id": "dd3373e7",
   "metadata": {},
   "outputs": [
    {
     "data": {
      "text/plain": [
       "[0,\n",
       " 1,\n",
       " 2,\n",
       " 3,\n",
       " 4,\n",
       " 5,\n",
       " 6,\n",
       " 7,\n",
       " 8,\n",
       " 9,\n",
       " 10,\n",
       " 11,\n",
       " 12,\n",
       " 13,\n",
       " 14,\n",
       " 15,\n",
       " 16,\n",
       " 17,\n",
       " 18,\n",
       " 19,\n",
       " 20,\n",
       " 21,\n",
       " 22,\n",
       " 23]"
      ]
     },
     "execution_count": 54,
     "metadata": {},
     "output_type": "execute_result"
    }
   ],
   "source": [
    "sorted(data['IncidentTime'].unique())"
   ]
  },
  {
   "cell_type": "code",
   "execution_count": 55,
   "id": "049b6667",
   "metadata": {},
   "outputs": [
    {
     "data": {
      "text/plain": [
       "16    1610\n",
       "17    1608\n",
       "6     1558\n",
       "15    1540\n",
       "14    1456\n",
       "5     1428\n",
       "13    1414\n",
       "18    1413\n",
       "4     1399\n",
       "12    1361\n",
       "7     1326\n",
       "11    1282\n",
       "19    1278\n",
       "8     1251\n",
       "3     1230\n",
       "9     1204\n",
       "10    1158\n",
       "20    1150\n",
       "21     970\n",
       "22     809\n",
       "2      711\n",
       "1      645\n",
       "23     520\n",
       "0      389\n",
       "Name: IncidentTime, dtype: int64"
      ]
     },
     "execution_count": 55,
     "metadata": {},
     "output_type": "execute_result"
    }
   ],
   "source": [
    "data['IncidentTime'].value_counts()"
   ]
  },
  {
   "cell_type": "code",
   "execution_count": 56,
   "id": "8167e0e4",
   "metadata": {},
   "outputs": [],
   "source": [
    "list_no.remove('IncidentTime')"
   ]
  },
  {
   "cell_type": "code",
   "execution_count": 57,
   "id": "3b5a247d",
   "metadata": {},
   "outputs": [
    {
     "data": {
      "text/plain": [
       "1    16098\n",
       "3     9664\n",
       "2     2269\n",
       "4      679\n",
       "Name: NumberOfVehicles, dtype: int64"
      ]
     },
     "execution_count": 57,
     "metadata": {},
     "output_type": "execute_result"
    }
   ],
   "source": [
    "data['NumberOfVehicles'].value_counts()"
   ]
  },
  {
   "cell_type": "code",
   "execution_count": 58,
   "id": "aa042f15",
   "metadata": {},
   "outputs": [],
   "source": [
    "data = data[data['NumberOfVehicles'] !=4]"
   ]
  },
  {
   "cell_type": "code",
   "execution_count": 59,
   "id": "628a84e9",
   "metadata": {},
   "outputs": [
    {
     "data": {
      "text/plain": [
       "1    16098\n",
       "3     9664\n",
       "2     2269\n",
       "Name: NumberOfVehicles, dtype: int64"
      ]
     },
     "execution_count": 59,
     "metadata": {},
     "output_type": "execute_result"
    }
   ],
   "source": [
    "data['NumberOfVehicles'].value_counts()"
   ]
  },
  {
   "cell_type": "code",
   "execution_count": 60,
   "id": "e846fdca",
   "metadata": {},
   "outputs": [],
   "source": [
    "list_no.remove('NumberOfVehicles')"
   ]
  },
  {
   "cell_type": "code",
   "execution_count": 61,
   "id": "1fbb0fd9",
   "metadata": {},
   "outputs": [
    {
     "data": {
      "text/plain": [
       "1    10819\n",
       "0     8749\n",
       "2     8463\n",
       "Name: BodilyInjuries, dtype: int64"
      ]
     },
     "execution_count": 61,
     "metadata": {},
     "output_type": "execute_result"
    }
   ],
   "source": [
    "data['BodilyInjuries'].value_counts()"
   ]
  },
  {
   "cell_type": "code",
   "execution_count": 62,
   "id": "edcb07c5",
   "metadata": {},
   "outputs": [],
   "source": [
    "list_no.remove('BodilyInjuries')"
   ]
  },
  {
   "cell_type": "code",
   "execution_count": 63,
   "id": "e3ce57b5",
   "metadata": {},
   "outputs": [
    {
     "data": {
      "text/plain": [
       "446895    100\n",
       "612904     72\n",
       "440961     70\n",
       "476198     69\n",
       "477695     68\n",
       "         ... \n",
       "611322      5\n",
       "448882      5\n",
       "442308      5\n",
       "473328      5\n",
       "601581      2\n",
       "Name: InsuredZipCode, Length: 995, dtype: int64"
      ]
     },
     "execution_count": 63,
     "metadata": {},
     "output_type": "execute_result"
    }
   ],
   "source": [
    "data['InsuredZipCode'].value_counts()"
   ]
  },
  {
   "cell_type": "code",
   "execution_count": 64,
   "id": "a0e2f9d8",
   "metadata": {},
   "outputs": [
    {
     "data": {
      "text/plain": [
       "count    995.000000\n",
       "mean      28.171859\n",
       "std       11.270749\n",
       "min        2.000000\n",
       "25%       20.000000\n",
       "50%       27.000000\n",
       "75%       34.000000\n",
       "max      100.000000\n",
       "Name: InsuredZipCode, dtype: float64"
      ]
     },
     "execution_count": 64,
     "metadata": {},
     "output_type": "execute_result"
    }
   ],
   "source": [
    "data['InsuredZipCode'].value_counts().describe()"
   ]
  },
  {
   "cell_type": "code",
   "execution_count": 65,
   "id": "5630cdce",
   "metadata": {},
   "outputs": [],
   "source": [
    "temp_tab = data.groupby('InsuredZipCode').agg(\n",
    "    {'CustomerID':'count'}).reset_index()"
   ]
  },
  {
   "cell_type": "code",
   "execution_count": 66,
   "id": "9c95f58b",
   "metadata": {},
   "outputs": [
    {
     "data": {
      "text/html": [
       "<div>\n",
       "<style scoped>\n",
       "    .dataframe tbody tr th:only-of-type {\n",
       "        vertical-align: middle;\n",
       "    }\n",
       "\n",
       "    .dataframe tbody tr th {\n",
       "        vertical-align: top;\n",
       "    }\n",
       "\n",
       "    .dataframe thead th {\n",
       "        text-align: right;\n",
       "    }\n",
       "</style>\n",
       "<table border=\"1\" class=\"dataframe\">\n",
       "  <thead>\n",
       "    <tr style=\"text-align: right;\">\n",
       "      <th></th>\n",
       "      <th>InsuredZipCode</th>\n",
       "      <th>CustomerID</th>\n",
       "    </tr>\n",
       "  </thead>\n",
       "  <tbody>\n",
       "    <tr>\n",
       "      <th>0</th>\n",
       "      <td>430104</td>\n",
       "      <td>26</td>\n",
       "    </tr>\n",
       "    <tr>\n",
       "      <th>1</th>\n",
       "      <td>430141</td>\n",
       "      <td>42</td>\n",
       "    </tr>\n",
       "    <tr>\n",
       "      <th>2</th>\n",
       "      <td>430232</td>\n",
       "      <td>23</td>\n",
       "    </tr>\n",
       "    <tr>\n",
       "      <th>3</th>\n",
       "      <td>430380</td>\n",
       "      <td>35</td>\n",
       "    </tr>\n",
       "    <tr>\n",
       "      <th>4</th>\n",
       "      <td>430567</td>\n",
       "      <td>40</td>\n",
       "    </tr>\n",
       "    <tr>\n",
       "      <th>...</th>\n",
       "      <td>...</td>\n",
       "      <td>...</td>\n",
       "    </tr>\n",
       "    <tr>\n",
       "      <th>990</th>\n",
       "      <td>620737</td>\n",
       "      <td>27</td>\n",
       "    </tr>\n",
       "    <tr>\n",
       "      <th>991</th>\n",
       "      <td>620757</td>\n",
       "      <td>36</td>\n",
       "    </tr>\n",
       "    <tr>\n",
       "      <th>992</th>\n",
       "      <td>620819</td>\n",
       "      <td>25</td>\n",
       "    </tr>\n",
       "    <tr>\n",
       "      <th>993</th>\n",
       "      <td>620869</td>\n",
       "      <td>19</td>\n",
       "    </tr>\n",
       "    <tr>\n",
       "      <th>994</th>\n",
       "      <td>620962</td>\n",
       "      <td>30</td>\n",
       "    </tr>\n",
       "  </tbody>\n",
       "</table>\n",
       "<p>995 rows × 2 columns</p>\n",
       "</div>"
      ],
      "text/plain": [
       "     InsuredZipCode  CustomerID\n",
       "0            430104          26\n",
       "1            430141          42\n",
       "2            430232          23\n",
       "3            430380          35\n",
       "4            430567          40\n",
       "..              ...         ...\n",
       "990          620737          27\n",
       "991          620757          36\n",
       "992          620819          25\n",
       "993          620869          19\n",
       "994          620962          30\n",
       "\n",
       "[995 rows x 2 columns]"
      ]
     },
     "execution_count": 66,
     "metadata": {},
     "output_type": "execute_result"
    }
   ],
   "source": [
    "temp_tab"
   ]
  },
  {
   "cell_type": "code",
   "execution_count": 67,
   "id": "d690f84b",
   "metadata": {},
   "outputs": [],
   "source": [
    "temp_tab = temp_tab[temp_tab.CustomerID>=15]"
   ]
  },
  {
   "cell_type": "code",
   "execution_count": 68,
   "id": "082c57a8",
   "metadata": {},
   "outputs": [
    {
     "data": {
      "text/html": [
       "<div>\n",
       "<style scoped>\n",
       "    .dataframe tbody tr th:only-of-type {\n",
       "        vertical-align: middle;\n",
       "    }\n",
       "\n",
       "    .dataframe tbody tr th {\n",
       "        vertical-align: top;\n",
       "    }\n",
       "\n",
       "    .dataframe thead th {\n",
       "        text-align: right;\n",
       "    }\n",
       "</style>\n",
       "<table border=\"1\" class=\"dataframe\">\n",
       "  <thead>\n",
       "    <tr style=\"text-align: right;\">\n",
       "      <th></th>\n",
       "      <th>InsuredZipCode</th>\n",
       "      <th>CustomerID</th>\n",
       "    </tr>\n",
       "  </thead>\n",
       "  <tbody>\n",
       "    <tr>\n",
       "      <th>0</th>\n",
       "      <td>430104</td>\n",
       "      <td>26</td>\n",
       "    </tr>\n",
       "    <tr>\n",
       "      <th>1</th>\n",
       "      <td>430141</td>\n",
       "      <td>42</td>\n",
       "    </tr>\n",
       "    <tr>\n",
       "      <th>2</th>\n",
       "      <td>430232</td>\n",
       "      <td>23</td>\n",
       "    </tr>\n",
       "    <tr>\n",
       "      <th>3</th>\n",
       "      <td>430380</td>\n",
       "      <td>35</td>\n",
       "    </tr>\n",
       "    <tr>\n",
       "      <th>4</th>\n",
       "      <td>430567</td>\n",
       "      <td>40</td>\n",
       "    </tr>\n",
       "    <tr>\n",
       "      <th>...</th>\n",
       "      <td>...</td>\n",
       "      <td>...</td>\n",
       "    </tr>\n",
       "    <tr>\n",
       "      <th>990</th>\n",
       "      <td>620737</td>\n",
       "      <td>27</td>\n",
       "    </tr>\n",
       "    <tr>\n",
       "      <th>991</th>\n",
       "      <td>620757</td>\n",
       "      <td>36</td>\n",
       "    </tr>\n",
       "    <tr>\n",
       "      <th>992</th>\n",
       "      <td>620819</td>\n",
       "      <td>25</td>\n",
       "    </tr>\n",
       "    <tr>\n",
       "      <th>993</th>\n",
       "      <td>620869</td>\n",
       "      <td>19</td>\n",
       "    </tr>\n",
       "    <tr>\n",
       "      <th>994</th>\n",
       "      <td>620962</td>\n",
       "      <td>30</td>\n",
       "    </tr>\n",
       "  </tbody>\n",
       "</table>\n",
       "<p>917 rows × 2 columns</p>\n",
       "</div>"
      ],
      "text/plain": [
       "     InsuredZipCode  CustomerID\n",
       "0            430104          26\n",
       "1            430141          42\n",
       "2            430232          23\n",
       "3            430380          35\n",
       "4            430567          40\n",
       "..              ...         ...\n",
       "990          620737          27\n",
       "991          620757          36\n",
       "992          620819          25\n",
       "993          620869          19\n",
       "994          620962          30\n",
       "\n",
       "[917 rows x 2 columns]"
      ]
     },
     "execution_count": 68,
     "metadata": {},
     "output_type": "execute_result"
    }
   ],
   "source": [
    "temp_tab"
   ]
  },
  {
   "cell_type": "code",
   "execution_count": 69,
   "id": "02b9d9a0",
   "metadata": {},
   "outputs": [],
   "source": [
    "data = data[data.InsuredZipCode.isin(temp_tab.InsuredZipCode)]"
   ]
  },
  {
   "cell_type": "code",
   "execution_count": 70,
   "id": "acf1a991",
   "metadata": {},
   "outputs": [
    {
     "data": {
      "text/html": [
       "<div>\n",
       "<style scoped>\n",
       "    .dataframe tbody tr th:only-of-type {\n",
       "        vertical-align: middle;\n",
       "    }\n",
       "\n",
       "    .dataframe tbody tr th {\n",
       "        vertical-align: top;\n",
       "    }\n",
       "\n",
       "    .dataframe thead th {\n",
       "        text-align: right;\n",
       "    }\n",
       "</style>\n",
       "<table border=\"1\" class=\"dataframe\">\n",
       "  <thead>\n",
       "    <tr style=\"text-align: right;\">\n",
       "      <th></th>\n",
       "      <th>CustomerID</th>\n",
       "      <th>ReportedFraud</th>\n",
       "      <th>DateOfIncident</th>\n",
       "      <th>TypeOfIncident</th>\n",
       "      <th>SeverityOfIncident</th>\n",
       "      <th>AuthoritiesContacted</th>\n",
       "      <th>IncidentState</th>\n",
       "      <th>IncidentCity</th>\n",
       "      <th>IncidentAddress</th>\n",
       "      <th>IncidentTime</th>\n",
       "      <th>...</th>\n",
       "      <th>InsurancePolicyState</th>\n",
       "      <th>Policy_CombinedSingleLimit</th>\n",
       "      <th>Policy_Deductible</th>\n",
       "      <th>PolicyAnnualPremium</th>\n",
       "      <th>UmbrellaLimit</th>\n",
       "      <th>InsuredRelationship</th>\n",
       "      <th>VehicleID</th>\n",
       "      <th>VehicleMake</th>\n",
       "      <th>VehicleModel</th>\n",
       "      <th>VehicleYOM</th>\n",
       "    </tr>\n",
       "  </thead>\n",
       "  <tbody>\n",
       "    <tr>\n",
       "      <th>0</th>\n",
       "      <td>Cust20065</td>\n",
       "      <td>N</td>\n",
       "      <td>2015-01-09</td>\n",
       "      <td>Multi-vehicle Collision</td>\n",
       "      <td>Total Loss</td>\n",
       "      <td>Other</td>\n",
       "      <td>State9</td>\n",
       "      <td>City4</td>\n",
       "      <td>Location 1404</td>\n",
       "      <td>19</td>\n",
       "      <td>...</td>\n",
       "      <td>State2</td>\n",
       "      <td>250/500</td>\n",
       "      <td>2000</td>\n",
       "      <td>1142.87</td>\n",
       "      <td>0</td>\n",
       "      <td>own-child</td>\n",
       "      <td>Vehicle30662</td>\n",
       "      <td>Mercedes</td>\n",
       "      <td>E400</td>\n",
       "      <td>2005</td>\n",
       "    </tr>\n",
       "    <tr>\n",
       "      <th>1</th>\n",
       "      <td>Cust37589</td>\n",
       "      <td>N</td>\n",
       "      <td>2015-02-20</td>\n",
       "      <td>Single Vehicle Collision</td>\n",
       "      <td>Minor Damage</td>\n",
       "      <td>Ambulance</td>\n",
       "      <td>State4</td>\n",
       "      <td>City3</td>\n",
       "      <td>Location 1675</td>\n",
       "      <td>14</td>\n",
       "      <td>...</td>\n",
       "      <td>State2</td>\n",
       "      <td>100/300</td>\n",
       "      <td>1000</td>\n",
       "      <td>1274.38</td>\n",
       "      <td>2857344</td>\n",
       "      <td>own-child</td>\n",
       "      <td>Vehicle17183</td>\n",
       "      <td>Toyota</td>\n",
       "      <td>Highlander</td>\n",
       "      <td>2010</td>\n",
       "    </tr>\n",
       "    <tr>\n",
       "      <th>2</th>\n",
       "      <td>Cust24312</td>\n",
       "      <td>N</td>\n",
       "      <td>2015-01-14</td>\n",
       "      <td>Multi-vehicle Collision</td>\n",
       "      <td>Major Damage</td>\n",
       "      <td>Ambulance</td>\n",
       "      <td>State5</td>\n",
       "      <td>City2</td>\n",
       "      <td>Location 1546</td>\n",
       "      <td>21</td>\n",
       "      <td>...</td>\n",
       "      <td>State1</td>\n",
       "      <td>500/1000</td>\n",
       "      <td>745</td>\n",
       "      <td>1269.93</td>\n",
       "      <td>0</td>\n",
       "      <td>other-relative</td>\n",
       "      <td>Vehicle33982</td>\n",
       "      <td>Volkswagen</td>\n",
       "      <td>Passat</td>\n",
       "      <td>2002</td>\n",
       "    </tr>\n",
       "    <tr>\n",
       "      <th>3</th>\n",
       "      <td>Cust5493</td>\n",
       "      <td>Y</td>\n",
       "      <td>2015-01-07</td>\n",
       "      <td>Multi-vehicle Collision</td>\n",
       "      <td>Major Damage</td>\n",
       "      <td>Ambulance</td>\n",
       "      <td>State7</td>\n",
       "      <td>City4</td>\n",
       "      <td>Location 1413</td>\n",
       "      <td>12</td>\n",
       "      <td>...</td>\n",
       "      <td>State2</td>\n",
       "      <td>100/300</td>\n",
       "      <td>986</td>\n",
       "      <td>1218.60</td>\n",
       "      <td>0</td>\n",
       "      <td>other-relative</td>\n",
       "      <td>Vehicle12299</td>\n",
       "      <td>Toyota</td>\n",
       "      <td>Highlander</td>\n",
       "      <td>2011</td>\n",
       "    </tr>\n",
       "    <tr>\n",
       "      <th>4</th>\n",
       "      <td>Cust7704</td>\n",
       "      <td>Y</td>\n",
       "      <td>2015-02-26</td>\n",
       "      <td>Multi-vehicle Collision</td>\n",
       "      <td>Major Damage</td>\n",
       "      <td>Other</td>\n",
       "      <td>State4</td>\n",
       "      <td>City6</td>\n",
       "      <td>Location 1367</td>\n",
       "      <td>3</td>\n",
       "      <td>...</td>\n",
       "      <td>State3</td>\n",
       "      <td>250/500</td>\n",
       "      <td>576</td>\n",
       "      <td>1431.02</td>\n",
       "      <td>4235779</td>\n",
       "      <td>unmarried</td>\n",
       "      <td>Vehicle30447</td>\n",
       "      <td>Ford</td>\n",
       "      <td>Wrangler</td>\n",
       "      <td>2010</td>\n",
       "    </tr>\n",
       "    <tr>\n",
       "      <th>...</th>\n",
       "      <td>...</td>\n",
       "      <td>...</td>\n",
       "      <td>...</td>\n",
       "      <td>...</td>\n",
       "      <td>...</td>\n",
       "      <td>...</td>\n",
       "      <td>...</td>\n",
       "      <td>...</td>\n",
       "      <td>...</td>\n",
       "      <td>...</td>\n",
       "      <td>...</td>\n",
       "      <td>...</td>\n",
       "      <td>...</td>\n",
       "      <td>...</td>\n",
       "      <td>...</td>\n",
       "      <td>...</td>\n",
       "      <td>...</td>\n",
       "      <td>...</td>\n",
       "      <td>...</td>\n",
       "      <td>...</td>\n",
       "      <td>...</td>\n",
       "    </tr>\n",
       "    <tr>\n",
       "      <th>28831</th>\n",
       "      <td>Cust9773</td>\n",
       "      <td>N</td>\n",
       "      <td>2015-02-13</td>\n",
       "      <td>Single Vehicle Collision</td>\n",
       "      <td>Minor Damage</td>\n",
       "      <td>Fire</td>\n",
       "      <td>State7</td>\n",
       "      <td>City3</td>\n",
       "      <td>Location 1324</td>\n",
       "      <td>16</td>\n",
       "      <td>...</td>\n",
       "      <td>State2</td>\n",
       "      <td>250/500</td>\n",
       "      <td>1000</td>\n",
       "      <td>1108.55</td>\n",
       "      <td>739864</td>\n",
       "      <td>unmarried</td>\n",
       "      <td>Vehicle24503</td>\n",
       "      <td>Nissan</td>\n",
       "      <td>RSX</td>\n",
       "      <td>2002</td>\n",
       "    </tr>\n",
       "    <tr>\n",
       "      <th>28832</th>\n",
       "      <td>Cust38439</td>\n",
       "      <td>N</td>\n",
       "      <td>2015-01-19</td>\n",
       "      <td>Multi-vehicle Collision</td>\n",
       "      <td>Total Loss</td>\n",
       "      <td>Police</td>\n",
       "      <td>State5</td>\n",
       "      <td>City3</td>\n",
       "      <td>Location 1880</td>\n",
       "      <td>19</td>\n",
       "      <td>...</td>\n",
       "      <td>State2</td>\n",
       "      <td>100/300</td>\n",
       "      <td>1008</td>\n",
       "      <td>1551.84</td>\n",
       "      <td>41592</td>\n",
       "      <td>own-child</td>\n",
       "      <td>Vehicle9733</td>\n",
       "      <td>Accura</td>\n",
       "      <td>RSX</td>\n",
       "      <td>2014</td>\n",
       "    </tr>\n",
       "    <tr>\n",
       "      <th>28833</th>\n",
       "      <td>Cust38444</td>\n",
       "      <td>N</td>\n",
       "      <td>2015-01-21</td>\n",
       "      <td>Multi-vehicle Collision</td>\n",
       "      <td>Total Loss</td>\n",
       "      <td>Police</td>\n",
       "      <td>State5</td>\n",
       "      <td>City7</td>\n",
       "      <td>Location 1632</td>\n",
       "      <td>16</td>\n",
       "      <td>...</td>\n",
       "      <td>State1</td>\n",
       "      <td>100/300</td>\n",
       "      <td>660</td>\n",
       "      <td>1119.32</td>\n",
       "      <td>0</td>\n",
       "      <td>not-in-family</td>\n",
       "      <td>Vehicle1823</td>\n",
       "      <td>Saab</td>\n",
       "      <td>RSX</td>\n",
       "      <td>2013</td>\n",
       "    </tr>\n",
       "    <tr>\n",
       "      <th>28834</th>\n",
       "      <td>Cust26466</td>\n",
       "      <td>N</td>\n",
       "      <td>2015-01-02</td>\n",
       "      <td>Parked Car</td>\n",
       "      <td>Trivial Damage</td>\n",
       "      <td>None</td>\n",
       "      <td>State4</td>\n",
       "      <td>City7</td>\n",
       "      <td>Location 1364</td>\n",
       "      <td>12</td>\n",
       "      <td>...</td>\n",
       "      <td>State3</td>\n",
       "      <td>250/1000</td>\n",
       "      <td>1674</td>\n",
       "      <td>1229.88</td>\n",
       "      <td>4674160</td>\n",
       "      <td>wife</td>\n",
       "      <td>Vehicle9113</td>\n",
       "      <td>Accura</td>\n",
       "      <td>RSX</td>\n",
       "      <td>2004</td>\n",
       "    </tr>\n",
       "    <tr>\n",
       "      <th>28835</th>\n",
       "      <td>Cust29555</td>\n",
       "      <td>N</td>\n",
       "      <td>2015-01-16</td>\n",
       "      <td>Single Vehicle Collision</td>\n",
       "      <td>Total Loss</td>\n",
       "      <td>Police</td>\n",
       "      <td>State8</td>\n",
       "      <td>City7</td>\n",
       "      <td>Location 1950</td>\n",
       "      <td>11</td>\n",
       "      <td>...</td>\n",
       "      <td>State2</td>\n",
       "      <td>250/1000</td>\n",
       "      <td>500</td>\n",
       "      <td>1341.72</td>\n",
       "      <td>4000000</td>\n",
       "      <td>wife</td>\n",
       "      <td>Vehicle7530</td>\n",
       "      <td>Volkswagen</td>\n",
       "      <td>RSX</td>\n",
       "      <td>2009</td>\n",
       "    </tr>\n",
       "  </tbody>\n",
       "</table>\n",
       "<p>27149 rows × 38 columns</p>\n",
       "</div>"
      ],
      "text/plain": [
       "      CustomerID ReportedFraud DateOfIncident            TypeOfIncident  \\\n",
       "0      Cust20065             N     2015-01-09   Multi-vehicle Collision   \n",
       "1      Cust37589             N     2015-02-20  Single Vehicle Collision   \n",
       "2      Cust24312             N     2015-01-14   Multi-vehicle Collision   \n",
       "3       Cust5493             Y     2015-01-07   Multi-vehicle Collision   \n",
       "4       Cust7704             Y     2015-02-26   Multi-vehicle Collision   \n",
       "...          ...           ...            ...                       ...   \n",
       "28831   Cust9773             N     2015-02-13  Single Vehicle Collision   \n",
       "28832  Cust38439             N     2015-01-19   Multi-vehicle Collision   \n",
       "28833  Cust38444             N     2015-01-21   Multi-vehicle Collision   \n",
       "28834  Cust26466             N     2015-01-02                Parked Car   \n",
       "28835  Cust29555             N     2015-01-16  Single Vehicle Collision   \n",
       "\n",
       "      SeverityOfIncident AuthoritiesContacted IncidentState IncidentCity  \\\n",
       "0             Total Loss                Other        State9        City4   \n",
       "1           Minor Damage            Ambulance        State4        City3   \n",
       "2           Major Damage            Ambulance        State5        City2   \n",
       "3           Major Damage            Ambulance        State7        City4   \n",
       "4           Major Damage                Other        State4        City6   \n",
       "...                  ...                  ...           ...          ...   \n",
       "28831       Minor Damage                 Fire        State7        City3   \n",
       "28832         Total Loss               Police        State5        City3   \n",
       "28833         Total Loss               Police        State5        City7   \n",
       "28834     Trivial Damage                 None        State4        City7   \n",
       "28835         Total Loss               Police        State8        City7   \n",
       "\n",
       "      IncidentAddress  IncidentTime  ...  InsurancePolicyState  \\\n",
       "0       Location 1404            19  ...                State2   \n",
       "1       Location 1675            14  ...                State2   \n",
       "2       Location 1546            21  ...                State1   \n",
       "3       Location 1413            12  ...                State2   \n",
       "4       Location 1367             3  ...                State3   \n",
       "...               ...           ...  ...                   ...   \n",
       "28831   Location 1324            16  ...                State2   \n",
       "28832   Location 1880            19  ...                State2   \n",
       "28833   Location 1632            16  ...                State1   \n",
       "28834   Location 1364            12  ...                State3   \n",
       "28835   Location 1950            11  ...                State2   \n",
       "\n",
       "       Policy_CombinedSingleLimit Policy_Deductible  PolicyAnnualPremium  \\\n",
       "0                         250/500              2000              1142.87   \n",
       "1                         100/300              1000              1274.38   \n",
       "2                        500/1000               745              1269.93   \n",
       "3                         100/300               986              1218.60   \n",
       "4                         250/500               576              1431.02   \n",
       "...                           ...               ...                  ...   \n",
       "28831                     250/500              1000              1108.55   \n",
       "28832                     100/300              1008              1551.84   \n",
       "28833                     100/300               660              1119.32   \n",
       "28834                    250/1000              1674              1229.88   \n",
       "28835                    250/1000               500              1341.72   \n",
       "\n",
       "       UmbrellaLimit  InsuredRelationship     VehicleID  VehicleMake  \\\n",
       "0                  0            own-child  Vehicle30662     Mercedes   \n",
       "1            2857344            own-child  Vehicle17183       Toyota   \n",
       "2                  0       other-relative  Vehicle33982   Volkswagen   \n",
       "3                  0       other-relative  Vehicle12299       Toyota   \n",
       "4            4235779            unmarried  Vehicle30447         Ford   \n",
       "...              ...                  ...           ...          ...   \n",
       "28831         739864            unmarried  Vehicle24503       Nissan   \n",
       "28832          41592            own-child   Vehicle9733       Accura   \n",
       "28833              0        not-in-family   Vehicle1823         Saab   \n",
       "28834        4674160                 wife   Vehicle9113       Accura   \n",
       "28835        4000000                 wife   Vehicle7530   Volkswagen   \n",
       "\n",
       "       VehicleModel VehicleYOM  \n",
       "0              E400       2005  \n",
       "1        Highlander       2010  \n",
       "2            Passat       2002  \n",
       "3        Highlander       2011  \n",
       "4          Wrangler       2010  \n",
       "...             ...        ...  \n",
       "28831           RSX       2002  \n",
       "28832           RSX       2014  \n",
       "28833           RSX       2013  \n",
       "28834           RSX       2004  \n",
       "28835           RSX       2009  \n",
       "\n",
       "[27149 rows x 38 columns]"
      ]
     },
     "execution_count": 70,
     "metadata": {},
     "output_type": "execute_result"
    }
   ],
   "source": [
    "data"
   ]
  },
  {
   "cell_type": "code",
   "execution_count": 71,
   "id": "2fb9836b",
   "metadata": {},
   "outputs": [
    {
     "data": {
      "text/plain": [
       "446895    100\n",
       "612904     72\n",
       "440961     70\n",
       "476198     69\n",
       "477695     68\n",
       "         ... \n",
       "455426     15\n",
       "463842     15\n",
       "464362     15\n",
       "442948     15\n",
       "444922     15\n",
       "Name: InsuredZipCode, Length: 917, dtype: int64"
      ]
     },
     "execution_count": 71,
     "metadata": {},
     "output_type": "execute_result"
    }
   ],
   "source": [
    "data['InsuredZipCode'].value_counts()"
   ]
  },
  {
   "cell_type": "code",
   "execution_count": 72,
   "id": "7a722378",
   "metadata": {},
   "outputs": [
    {
     "data": {
      "text/plain": [
       "count    917.000000\n",
       "mean      29.606325\n",
       "std       10.526473\n",
       "min       15.000000\n",
       "25%       21.000000\n",
       "50%       28.000000\n",
       "75%       35.000000\n",
       "max      100.000000\n",
       "Name: InsuredZipCode, dtype: float64"
      ]
     },
     "execution_count": 72,
     "metadata": {},
     "output_type": "execute_result"
    }
   ],
   "source": [
    "data['InsuredZipCode'].value_counts().describe()"
   ]
  },
  {
   "cell_type": "code",
   "execution_count": 73,
   "id": "53cb13c4",
   "metadata": {},
   "outputs": [],
   "source": [
    "list_no.remove('InsuredZipCode')"
   ]
  },
  {
   "cell_type": "code",
   "execution_count": 74,
   "id": "5a452e87",
   "metadata": {},
   "outputs": [
    {
     "data": {
      "text/plain": [
       "['AmountOfTotalClaim',\n",
       " 'AmountOfInjuryClaim',\n",
       " 'AmountOfPropertyClaim',\n",
       " 'AmountOfVehicleDamage',\n",
       " 'InsuredAge',\n",
       " 'CapitalGains',\n",
       " 'CapitalLoss',\n",
       " 'InsurancePolicyNumber',\n",
       " 'CustomerLoyaltyPeriod',\n",
       " 'Policy_Deductible',\n",
       " 'PolicyAnnualPremium',\n",
       " 'UmbrellaLimit']"
      ]
     },
     "execution_count": 74,
     "metadata": {},
     "output_type": "execute_result"
    }
   ],
   "source": [
    "list_no"
   ]
  },
  {
   "cell_type": "code",
   "execution_count": 75,
   "id": "e313a122",
   "metadata": {},
   "outputs": [],
   "source": [
    "list_no.remove('InsurancePolicyNumber')"
   ]
  },
  {
   "cell_type": "code",
   "execution_count": null,
   "id": "a55ebcac",
   "metadata": {},
   "outputs": [],
   "source": []
  },
  {
   "cell_type": "code",
   "execution_count": 76,
   "id": "e12d923f",
   "metadata": {},
   "outputs": [
    {
     "data": {
      "text/plain": [
       "True"
      ]
     },
     "execution_count": 76,
     "metadata": {},
     "output_type": "execute_result"
    }
   ],
   "source": [
    "np.sum(data['AmountOfTotalClaim'] == data['AmountOfInjuryClaim'] + \n",
    "       data['AmountOfPropertyClaim']+data['AmountOfVehicleDamage']) == len(data)"
   ]
  },
  {
   "cell_type": "code",
   "execution_count": null,
   "id": "b49823ff",
   "metadata": {},
   "outputs": [],
   "source": []
  },
  {
   "cell_type": "code",
   "execution_count": 77,
   "id": "f20f0134",
   "metadata": {},
   "outputs": [],
   "source": [
    "data.drop(columns = 'AmountOfTotalClaim', inplace = True)"
   ]
  },
  {
   "cell_type": "code",
   "execution_count": 78,
   "id": "9cf2036f",
   "metadata": {},
   "outputs": [],
   "source": [
    "list_no.remove('AmountOfTotalClaim')"
   ]
  },
  {
   "cell_type": "code",
   "execution_count": 79,
   "id": "8842013d",
   "metadata": {},
   "outputs": [],
   "source": [
    "data1 = data[list_no]"
   ]
  },
  {
   "cell_type": "code",
   "execution_count": 80,
   "id": "1c05604c",
   "metadata": {},
   "outputs": [
    {
     "data": {
      "text/html": [
       "<div>\n",
       "<style scoped>\n",
       "    .dataframe tbody tr th:only-of-type {\n",
       "        vertical-align: middle;\n",
       "    }\n",
       "\n",
       "    .dataframe tbody tr th {\n",
       "        vertical-align: top;\n",
       "    }\n",
       "\n",
       "    .dataframe thead th {\n",
       "        text-align: right;\n",
       "    }\n",
       "</style>\n",
       "<table border=\"1\" class=\"dataframe\">\n",
       "  <thead>\n",
       "    <tr style=\"text-align: right;\">\n",
       "      <th></th>\n",
       "      <th>AmountOfInjuryClaim</th>\n",
       "      <th>AmountOfPropertyClaim</th>\n",
       "      <th>AmountOfVehicleDamage</th>\n",
       "      <th>InsuredAge</th>\n",
       "      <th>CapitalGains</th>\n",
       "      <th>CapitalLoss</th>\n",
       "      <th>CustomerLoyaltyPeriod</th>\n",
       "      <th>Policy_Deductible</th>\n",
       "      <th>PolicyAnnualPremium</th>\n",
       "      <th>UmbrellaLimit</th>\n",
       "    </tr>\n",
       "  </thead>\n",
       "  <tbody>\n",
       "    <tr>\n",
       "      <th>count</th>\n",
       "      <td>27149.000000</td>\n",
       "      <td>27149.000000</td>\n",
       "      <td>27149.000000</td>\n",
       "      <td>27149.000000</td>\n",
       "      <td>27149.000000</td>\n",
       "      <td>27149.000000</td>\n",
       "      <td>27149.000000</td>\n",
       "      <td>27149.000000</td>\n",
       "      <td>27149.000000</td>\n",
       "      <td>2.714900e+04</td>\n",
       "    </tr>\n",
       "    <tr>\n",
       "      <th>mean</th>\n",
       "      <td>7289.592655</td>\n",
       "      <td>7240.265093</td>\n",
       "      <td>37497.366459</td>\n",
       "      <td>38.760507</td>\n",
       "      <td>22700.607757</td>\n",
       "      <td>-24817.702309</td>\n",
       "      <td>202.354857</td>\n",
       "      <td>1109.635088</td>\n",
       "      <td>1257.171794</td>\n",
       "      <td>9.786499e+05</td>\n",
       "    </tr>\n",
       "    <tr>\n",
       "      <th>std</th>\n",
       "      <td>4441.871644</td>\n",
       "      <td>4397.982622</td>\n",
       "      <td>18183.605222</td>\n",
       "      <td>7.926119</td>\n",
       "      <td>27553.497945</td>\n",
       "      <td>27854.599000</td>\n",
       "      <td>99.068341</td>\n",
       "      <td>543.483911</td>\n",
       "      <td>222.034010</td>\n",
       "      <td>1.963817e+06</td>\n",
       "    </tr>\n",
       "    <tr>\n",
       "      <th>min</th>\n",
       "      <td>0.000000</td>\n",
       "      <td>0.000000</td>\n",
       "      <td>109.000000</td>\n",
       "      <td>19.000000</td>\n",
       "      <td>0.000000</td>\n",
       "      <td>-111100.000000</td>\n",
       "      <td>1.000000</td>\n",
       "      <td>500.000000</td>\n",
       "      <td>-1.000000</td>\n",
       "      <td>-1.000000e+06</td>\n",
       "    </tr>\n",
       "    <tr>\n",
       "      <th>25%</th>\n",
       "      <td>4630.000000</td>\n",
       "      <td>4770.000000</td>\n",
       "      <td>31748.000000</td>\n",
       "      <td>33.000000</td>\n",
       "      <td>0.000000</td>\n",
       "      <td>-50000.000000</td>\n",
       "      <td>125.000000</td>\n",
       "      <td>622.000000</td>\n",
       "      <td>1125.270000</td>\n",
       "      <td>0.000000e+00</td>\n",
       "    </tr>\n",
       "    <tr>\n",
       "      <th>50%</th>\n",
       "      <td>7133.000000</td>\n",
       "      <td>7030.000000</td>\n",
       "      <td>42368.000000</td>\n",
       "      <td>38.000000</td>\n",
       "      <td>0.000000</td>\n",
       "      <td>0.000000</td>\n",
       "      <td>198.000000</td>\n",
       "      <td>1000.000000</td>\n",
       "      <td>1266.160000</td>\n",
       "      <td>0.000000e+00</td>\n",
       "    </tr>\n",
       "    <tr>\n",
       "      <th>75%</th>\n",
       "      <td>10523.000000</td>\n",
       "      <td>10275.000000</td>\n",
       "      <td>49547.000000</td>\n",
       "      <td>44.000000</td>\n",
       "      <td>48800.000000</td>\n",
       "      <td>0.000000</td>\n",
       "      <td>265.000000</td>\n",
       "      <td>1600.000000</td>\n",
       "      <td>1396.760000</td>\n",
       "      <td>4.490700e+05</td>\n",
       "    </tr>\n",
       "    <tr>\n",
       "      <th>max</th>\n",
       "      <td>21330.000000</td>\n",
       "      <td>23670.000000</td>\n",
       "      <td>79560.000000</td>\n",
       "      <td>64.000000</td>\n",
       "      <td>100500.000000</td>\n",
       "      <td>0.000000</td>\n",
       "      <td>479.000000</td>\n",
       "      <td>2000.000000</td>\n",
       "      <td>2047.590000</td>\n",
       "      <td>9.999481e+06</td>\n",
       "    </tr>\n",
       "  </tbody>\n",
       "</table>\n",
       "</div>"
      ],
      "text/plain": [
       "       AmountOfInjuryClaim  AmountOfPropertyClaim  AmountOfVehicleDamage  \\\n",
       "count         27149.000000           27149.000000           27149.000000   \n",
       "mean           7289.592655            7240.265093           37497.366459   \n",
       "std            4441.871644            4397.982622           18183.605222   \n",
       "min               0.000000               0.000000             109.000000   \n",
       "25%            4630.000000            4770.000000           31748.000000   \n",
       "50%            7133.000000            7030.000000           42368.000000   \n",
       "75%           10523.000000           10275.000000           49547.000000   \n",
       "max           21330.000000           23670.000000           79560.000000   \n",
       "\n",
       "         InsuredAge   CapitalGains    CapitalLoss  CustomerLoyaltyPeriod  \\\n",
       "count  27149.000000   27149.000000   27149.000000           27149.000000   \n",
       "mean      38.760507   22700.607757  -24817.702309             202.354857   \n",
       "std        7.926119   27553.497945   27854.599000              99.068341   \n",
       "min       19.000000       0.000000 -111100.000000               1.000000   \n",
       "25%       33.000000       0.000000  -50000.000000             125.000000   \n",
       "50%       38.000000       0.000000       0.000000             198.000000   \n",
       "75%       44.000000   48800.000000       0.000000             265.000000   \n",
       "max       64.000000  100500.000000       0.000000             479.000000   \n",
       "\n",
       "       Policy_Deductible  PolicyAnnualPremium  UmbrellaLimit  \n",
       "count       27149.000000         27149.000000   2.714900e+04  \n",
       "mean         1109.635088          1257.171794   9.786499e+05  \n",
       "std           543.483911           222.034010   1.963817e+06  \n",
       "min           500.000000            -1.000000  -1.000000e+06  \n",
       "25%           622.000000          1125.270000   0.000000e+00  \n",
       "50%          1000.000000          1266.160000   0.000000e+00  \n",
       "75%          1600.000000          1396.760000   4.490700e+05  \n",
       "max          2000.000000          2047.590000   9.999481e+06  "
      ]
     },
     "execution_count": 80,
     "metadata": {},
     "output_type": "execute_result"
    }
   ],
   "source": [
    "data1.describe()"
   ]
  },
  {
   "cell_type": "code",
   "execution_count": null,
   "id": "741a0fbf",
   "metadata": {},
   "outputs": [],
   "source": []
  },
  {
   "cell_type": "code",
   "execution_count": 81,
   "id": "580a9c12",
   "metadata": {},
   "outputs": [],
   "source": [
    "def wishkers(x):\n",
    "    q1 = np.quantile(x, 0.25)\n",
    "    q3 = np.quantile(x, 0.75)\n",
    "    w1 = q1 - 1.5*(q3-q1)\n",
    "    w2 = q3 + 1.5*(q3-q1)\n",
    "    return w1, w2"
   ]
  },
  {
   "cell_type": "code",
   "execution_count": 82,
   "id": "239faf3c",
   "metadata": {},
   "outputs": [],
   "source": [
    "def checkoutliers(data, feature):\n",
    "    w1, w2 = wishkers(data[feature])\n",
    "    l1, r1, l2, r2 = (len(data[data[feature] < w1]), len(data[data[feature] < w1])/len(data), \n",
    "                     len(data[data[feature] > w2]), len(data[data[feature] > w2])/len(data))\n",
    "    return l1, r1, l2, r2 "
   ]
  },
  {
   "cell_type": "code",
   "execution_count": 83,
   "id": "a556fb3b",
   "metadata": {},
   "outputs": [],
   "source": [
    "def imputeoutliers(data, feature):\n",
    "    w1, w2 = wishkers(data[feature])\n",
    "    data.loc[data[feature] < w1, feature] = w1\n",
    "    data.loc[data[feature] > w2, feature] = w2                     "
   ]
  },
  {
   "cell_type": "code",
   "execution_count": 84,
   "id": "b16d464f",
   "metadata": {},
   "outputs": [
    {
     "data": {
      "text/plain": [
       "<AxesSubplot:>"
      ]
     },
     "execution_count": 84,
     "metadata": {},
     "output_type": "execute_result"
    },
    {
     "data": {
      "image/png": "[encoded data removed]",
      "text/plain": [
       "<Figure size 432x288 with 1 Axes>"
      ]
     },
     "metadata": {
      "needs_background": "light"
     },
     "output_type": "display_data"
    }
   ],
   "source": [
    "data1.boxplot(column = 'AmountOfInjuryClaim')"
   ]
  },
  {
   "cell_type": "code",
   "execution_count": 85,
   "id": "64254101",
   "metadata": {},
   "outputs": [
    {
     "data": {
      "text/plain": [
       "(0, 0.0, 24, 0.0008840104607904527)"
      ]
     },
     "execution_count": 85,
     "metadata": {},
     "output_type": "execute_result"
    }
   ],
   "source": [
    "checkoutliers(data1, 'AmountOfInjuryClaim')"
   ]
  },
  {
   "cell_type": "code",
   "execution_count": 86,
   "id": "630847bc",
   "metadata": {},
   "outputs": [
    {
     "name": "stderr",
     "output_type": "stream",
     "text": [
      "/Library/Frameworks/Python.framework/Versions/3.9/lib/python3.9/site-packages/pandas/core/indexing.py:1817: SettingWithCopyWarning: \n",
      "A value is trying to be set on a copy of a slice from a DataFrame.\n",
      "Try using .loc[row_indexer,col_indexer] = value instead\n",
      "\n",
      "See the caveats in the documentation: https://pandas.pydata.org/pandas-docs/stable/user_guide/indexing.html#returning-a-view-versus-a-copy\n",
      "  self._setitem_single_column(loc, value, pi)\n"
     ]
    }
   ],
   "source": [
    "imputeoutliers(data1, 'AmountOfInjuryClaim')"
   ]
  },
  {
   "cell_type": "code",
   "execution_count": 87,
   "id": "54bcda49",
   "metadata": {},
   "outputs": [
    {
     "data": {
      "text/plain": [
       "<AxesSubplot:>"
      ]
     },
     "execution_count": 87,
     "metadata": {},
     "output_type": "execute_result"
    },
    {
     "data": {
      "image/png": "[encoded data removed]",
      "text/plain": [
       "<Figure size 432x288 with 1 Axes>"
      ]
     },
     "metadata": {
      "needs_background": "light"
     },
     "output_type": "display_data"
    }
   ],
   "source": [
    "data1.boxplot(column = 'AmountOfInjuryClaim')"
   ]
  },
  {
   "cell_type": "code",
   "execution_count": 88,
   "id": "a03ff264",
   "metadata": {},
   "outputs": [
    {
     "data": {
      "text/plain": [
       "<AxesSubplot:>"
      ]
     },
     "execution_count": 88,
     "metadata": {},
     "output_type": "execute_result"
    },
    {
     "data": {
      "image/png": "[encoded data removed]",
      "text/plain": [
       "<Figure size 432x288 with 1 Axes>"
      ]
     },
     "metadata": {
      "needs_background": "light"
     },
     "output_type": "display_data"
    }
   ],
   "source": [
    "data1.boxplot(column = 'AmountOfPropertyClaim')"
   ]
  },
  {
   "cell_type": "code",
   "execution_count": 89,
   "id": "e81088bc",
   "metadata": {},
   "outputs": [
    {
     "data": {
      "text/plain": [
       "(0, 0.0, 150, 0.005525065379940329)"
      ]
     },
     "execution_count": 89,
     "metadata": {},
     "output_type": "execute_result"
    }
   ],
   "source": [
    "checkoutliers(data1, 'AmountOfPropertyClaim')"
   ]
  },
  {
   "cell_type": "code",
   "execution_count": 90,
   "id": "34d3229c",
   "metadata": {},
   "outputs": [
    {
     "name": "stderr",
     "output_type": "stream",
     "text": [
      "/Library/Frameworks/Python.framework/Versions/3.9/lib/python3.9/site-packages/pandas/core/indexing.py:1817: SettingWithCopyWarning: \n",
      "A value is trying to be set on a copy of a slice from a DataFrame.\n",
      "Try using .loc[row_indexer,col_indexer] = value instead\n",
      "\n",
      "See the caveats in the documentation: https://pandas.pydata.org/pandas-docs/stable/user_guide/indexing.html#returning-a-view-versus-a-copy\n",
      "  self._setitem_single_column(loc, value, pi)\n"
     ]
    }
   ],
   "source": [
    "imputeoutliers(data1, 'AmountOfPropertyClaim')"
   ]
  },
  {
   "cell_type": "code",
   "execution_count": 91,
   "id": "097b1de7",
   "metadata": {},
   "outputs": [
    {
     "data": {
      "text/plain": [
       "<AxesSubplot:>"
      ]
     },
     "execution_count": 91,
     "metadata": {},
     "output_type": "execute_result"
    },
    {
     "data": {
      "image/png": "[encoded data removed]",
      "text/plain": [
       "<Figure size 432x288 with 1 Axes>"
      ]
     },
     "metadata": {
      "needs_background": "light"
     },
     "output_type": "display_data"
    }
   ],
   "source": [
    "data1.boxplot(column = 'AmountOfPropertyClaim')"
   ]
  },
  {
   "cell_type": "code",
   "execution_count": 92,
   "id": "78f28396",
   "metadata": {},
   "outputs": [
    {
     "data": {
      "text/plain": [
       "<AxesSubplot:>"
      ]
     },
     "execution_count": 92,
     "metadata": {},
     "output_type": "execute_result"
    },
    {
     "data": {
      "image/png": "[encoded data removed]",
      "text/plain": [
       "<Figure size 432x288 with 1 Axes>"
      ]
     },
     "metadata": {
      "needs_background": "light"
     },
     "output_type": "display_data"
    }
   ],
   "source": [
    "data1.boxplot(column = 'AmountOfVehicleDamage')"
   ]
  },
  {
   "cell_type": "code",
   "execution_count": 93,
   "id": "19bd0066",
   "metadata": {},
   "outputs": [
    {
     "data": {
      "text/plain": [
       "(4253, 0.15665402040590815, 38, 0.0013996832295848833)"
      ]
     },
     "execution_count": 93,
     "metadata": {},
     "output_type": "execute_result"
    }
   ],
   "source": [
    "checkoutliers(data1, 'AmountOfVehicleDamage')"
   ]
  },
  {
   "cell_type": "code",
   "execution_count": 94,
   "id": "7fd91b8d",
   "metadata": {},
   "outputs": [
    {
     "name": "stderr",
     "output_type": "stream",
     "text": [
      "/Library/Frameworks/Python.framework/Versions/3.9/lib/python3.9/site-packages/pandas/core/indexing.py:1817: SettingWithCopyWarning: \n",
      "A value is trying to be set on a copy of a slice from a DataFrame.\n",
      "Try using .loc[row_indexer,col_indexer] = value instead\n",
      "\n",
      "See the caveats in the documentation: https://pandas.pydata.org/pandas-docs/stable/user_guide/indexing.html#returning-a-view-versus-a-copy\n",
      "  self._setitem_single_column(loc, value, pi)\n"
     ]
    }
   ],
   "source": [
    "imputeoutliers(data1, 'AmountOfVehicleDamage')\n",
    "    "
   ]
  },
  {
   "cell_type": "code",
   "execution_count": 95,
   "id": "a97d3de0",
   "metadata": {},
   "outputs": [
    {
     "data": {
      "text/plain": [
       "<AxesSubplot:>"
      ]
     },
     "execution_count": 95,
     "metadata": {},
     "output_type": "execute_result"
    },
    {
     "data": {
      "image/png": "[encoded data removed]",
      "text/plain": [
       "<Figure size 432x288 with 1 Axes>"
      ]
     },
     "metadata": {
      "needs_background": "light"
     },
     "output_type": "display_data"
    }
   ],
   "source": [
    "data1.boxplot(column = 'AmountOfVehicleDamage')"
   ]
  },
  {
   "cell_type": "code",
   "execution_count": 96,
   "id": "2df42a7e",
   "metadata": {},
   "outputs": [
    {
     "data": {
      "text/plain": [
       "Index(['AmountOfInjuryClaim', 'AmountOfPropertyClaim', 'AmountOfVehicleDamage',\n",
       "       'InsuredAge', 'CapitalGains', 'CapitalLoss', 'CustomerLoyaltyPeriod',\n",
       "       'Policy_Deductible', 'PolicyAnnualPremium', 'UmbrellaLimit'],\n",
       "      dtype='object')"
      ]
     },
     "execution_count": 96,
     "metadata": {},
     "output_type": "execute_result"
    }
   ],
   "source": [
    "data1.columns"
   ]
  },
  {
   "cell_type": "code",
   "execution_count": 97,
   "id": "e87aca88",
   "metadata": {},
   "outputs": [
    {
     "data": {
      "text/plain": [
       "<AxesSubplot:>"
      ]
     },
     "execution_count": 97,
     "metadata": {},
     "output_type": "execute_result"
    },
    {
     "data": {
      "image/png": "[encoded data removed]",
      "text/plain": [
       "<Figure size 432x288 with 1 Axes>"
      ]
     },
     "metadata": {
      "needs_background": "light"
     },
     "output_type": "display_data"
    }
   ],
   "source": [
    "data1.boxplot(column = 'InsuredAge')"
   ]
  },
  {
   "cell_type": "code",
   "execution_count": 98,
   "id": "ca2c38aa",
   "metadata": {},
   "outputs": [
    {
     "data": {
      "text/plain": [
       "(0, 0.0, 155, 0.005709234225938341)"
      ]
     },
     "execution_count": 98,
     "metadata": {},
     "output_type": "execute_result"
    }
   ],
   "source": [
    "checkoutliers(data1, 'InsuredAge')"
   ]
  },
  {
   "cell_type": "code",
   "execution_count": 99,
   "id": "5a5756c8",
   "metadata": {},
   "outputs": [
    {
     "data": {
      "text/plain": [
       "60.5"
      ]
     },
     "execution_count": 99,
     "metadata": {},
     "output_type": "execute_result"
    }
   ],
   "source": [
    "w2 = wishkers(data1['InsuredAge'])[1]\n",
    "w2"
   ]
  },
  {
   "cell_type": "code",
   "execution_count": 100,
   "id": "31270066",
   "metadata": {},
   "outputs": [
    {
     "name": "stderr",
     "output_type": "stream",
     "text": [
      "/Library/Frameworks/Python.framework/Versions/3.9/lib/python3.9/site-packages/pandas/core/indexing.py:1817: SettingWithCopyWarning: \n",
      "A value is trying to be set on a copy of a slice from a DataFrame.\n",
      "Try using .loc[row_indexer,col_indexer] = value instead\n",
      "\n",
      "See the caveats in the documentation: https://pandas.pydata.org/pandas-docs/stable/user_guide/indexing.html#returning-a-view-versus-a-copy\n",
      "  self._setitem_single_column(loc, value, pi)\n"
     ]
    }
   ],
   "source": [
    "data1.loc[data1['InsuredAge'] > 60, 'InsuredAge'] = 60"
   ]
  },
  {
   "cell_type": "code",
   "execution_count": 101,
   "id": "b16fa5e8",
   "metadata": {},
   "outputs": [
    {
     "data": {
      "text/plain": [
       "<AxesSubplot:>"
      ]
     },
     "execution_count": 101,
     "metadata": {},
     "output_type": "execute_result"
    },
    {
     "data": {
      "image/png": "[encoded data removed]",
      "text/plain": [
       "<Figure size 432x288 with 1 Axes>"
      ]
     },
     "metadata": {
      "needs_background": "light"
     },
     "output_type": "display_data"
    }
   ],
   "source": [
    "data1.boxplot(column = 'InsuredAge')"
   ]
  },
  {
   "cell_type": "code",
   "execution_count": 102,
   "id": "34028cfe",
   "metadata": {},
   "outputs": [
    {
     "data": {
      "text/plain": [
       "<AxesSubplot:>"
      ]
     },
     "execution_count": 102,
     "metadata": {},
     "output_type": "execute_result"
    },
    {
     "data": {
      "image/png": "[encoded data removed]",
      "text/plain": [
       "<Figure size 432x288 with 1 Axes>"
      ]
     },
     "metadata": {
      "needs_background": "light"
     },
     "output_type": "display_data"
    }
   ],
   "source": [
    "data1.boxplot(column = 'CapitalGains')"
   ]
  },
  {
   "cell_type": "code",
   "execution_count": 103,
   "id": "fd30f8cd",
   "metadata": {},
   "outputs": [
    {
     "data": {
      "text/plain": [
       "(0, 0.0, 0, 0.0)"
      ]
     },
     "execution_count": 103,
     "metadata": {},
     "output_type": "execute_result"
    }
   ],
   "source": [
    "checkoutliers(data1, 'CapitalGains')"
   ]
  },
  {
   "cell_type": "code",
   "execution_count": 104,
   "id": "9b3403fa",
   "metadata": {},
   "outputs": [
    {
     "data": {
      "text/plain": [
       "<AxesSubplot:>"
      ]
     },
     "execution_count": 104,
     "metadata": {},
     "output_type": "execute_result"
    },
    {
     "data": {
      "image/png": "[encoded data removed]",
      "text/plain": [
       "<Figure size 432x288 with 1 Axes>"
      ]
     },
     "metadata": {
      "needs_background": "light"
     },
     "output_type": "display_data"
    }
   ],
   "source": [
    "data1.boxplot(column = 'CapitalLoss')"
   ]
  },
  {
   "cell_type": "code",
   "execution_count": 105,
   "id": "51384f47",
   "metadata": {},
   "outputs": [
    {
     "data": {
      "text/plain": [
       "(0, 0.0, 0, 0.0)"
      ]
     },
     "execution_count": 105,
     "metadata": {},
     "output_type": "execute_result"
    }
   ],
   "source": [
    "checkoutliers(data1, 'CapitalLoss')"
   ]
  },
  {
   "cell_type": "code",
   "execution_count": 106,
   "id": "8957e7dc",
   "metadata": {},
   "outputs": [
    {
     "data": {
      "text/plain": [
       "<AxesSubplot:>"
      ]
     },
     "execution_count": 106,
     "metadata": {},
     "output_type": "execute_result"
    },
    {
     "data": {
      "image/png": "[encoded data removed]",
      "text/plain": [
       "<Figure size 432x288 with 1 Axes>"
      ]
     },
     "metadata": {
      "needs_background": "light"
     },
     "output_type": "display_data"
    }
   ],
   "source": [
    "data1.boxplot(column = 'CustomerLoyaltyPeriod')"
   ]
  },
  {
   "cell_type": "code",
   "execution_count": 107,
   "id": "7cf29d14",
   "metadata": {},
   "outputs": [
    {
     "data": {
      "text/plain": [
       "(0, 0.0, 19, 0.0006998416147924417)"
      ]
     },
     "execution_count": 107,
     "metadata": {},
     "output_type": "execute_result"
    }
   ],
   "source": [
    "checkoutliers(data1, 'CustomerLoyaltyPeriod')"
   ]
  },
  {
   "cell_type": "code",
   "execution_count": 108,
   "id": "f64175e8",
   "metadata": {},
   "outputs": [
    {
     "name": "stderr",
     "output_type": "stream",
     "text": [
      "/Library/Frameworks/Python.framework/Versions/3.9/lib/python3.9/site-packages/pandas/core/indexing.py:1817: SettingWithCopyWarning: \n",
      "A value is trying to be set on a copy of a slice from a DataFrame.\n",
      "Try using .loc[row_indexer,col_indexer] = value instead\n",
      "\n",
      "See the caveats in the documentation: https://pandas.pydata.org/pandas-docs/stable/user_guide/indexing.html#returning-a-view-versus-a-copy\n",
      "  self._setitem_single_column(loc, value, pi)\n"
     ]
    }
   ],
   "source": [
    "imputeoutliers(data1, 'CustomerLoyaltyPeriod')"
   ]
  },
  {
   "cell_type": "code",
   "execution_count": 109,
   "id": "c880e451",
   "metadata": {},
   "outputs": [
    {
     "data": {
      "text/plain": [
       "<AxesSubplot:>"
      ]
     },
     "execution_count": 109,
     "metadata": {},
     "output_type": "execute_result"
    },
    {
     "data": {
      "image/png": "[encoded data removed]",
      "text/plain": [
       "<Figure size 432x288 with 1 Axes>"
      ]
     },
     "metadata": {
      "needs_background": "light"
     },
     "output_type": "display_data"
    }
   ],
   "source": [
    "data1.boxplot(column = 'CustomerLoyaltyPeriod')"
   ]
  },
  {
   "cell_type": "code",
   "execution_count": 110,
   "id": "78ca6693",
   "metadata": {},
   "outputs": [
    {
     "data": {
      "text/plain": [
       "<AxesSubplot:>"
      ]
     },
     "execution_count": 110,
     "metadata": {},
     "output_type": "execute_result"
    },
    {
     "data": {
      "image/png": "[encoded data removed]",
      "text/plain": [
       "<Figure size 432x288 with 1 Axes>"
      ]
     },
     "metadata": {
      "needs_background": "light"
     },
     "output_type": "display_data"
    }
   ],
   "source": [
    "data1.boxplot(column = 'Policy_Deductible')"
   ]
  },
  {
   "cell_type": "code",
   "execution_count": 111,
   "id": "90d96487",
   "metadata": {},
   "outputs": [
    {
     "data": {
      "text/plain": [
       "(0, 0.0, 0, 0.0)"
      ]
     },
     "execution_count": 111,
     "metadata": {},
     "output_type": "execute_result"
    }
   ],
   "source": [
    "checkoutliers(data1, 'Policy_Deductible')"
   ]
  },
  {
   "cell_type": "code",
   "execution_count": 112,
   "id": "98d1236b",
   "metadata": {},
   "outputs": [
    {
     "data": {
      "text/plain": [
       "<AxesSubplot:>"
      ]
     },
     "execution_count": 112,
     "metadata": {},
     "output_type": "execute_result"
    },
    {
     "data": {
      "image/png": "[encoded data removed]",
      "text/plain": [
       "<Figure size 432x288 with 1 Axes>"
      ]
     },
     "metadata": {
      "needs_background": "light"
     },
     "output_type": "display_data"
    }
   ],
   "source": [
    "data1.boxplot(column ='PolicyAnnualPremium')"
   ]
  },
  {
   "cell_type": "code",
   "execution_count": 113,
   "id": "caca882c",
   "metadata": {},
   "outputs": [
    {
     "data": {
      "text/plain": [
       "(227, 0.0083612656083097, 184, 0.006777413532726804)"
      ]
     },
     "execution_count": 113,
     "metadata": {},
     "output_type": "execute_result"
    }
   ],
   "source": [
    "checkoutliers(data1, 'PolicyAnnualPremium')"
   ]
  },
  {
   "cell_type": "code",
   "execution_count": 114,
   "id": "9ce50ff8",
   "metadata": {},
   "outputs": [
    {
     "name": "stderr",
     "output_type": "stream",
     "text": [
      "/Library/Frameworks/Python.framework/Versions/3.9/lib/python3.9/site-packages/pandas/core/indexing.py:1817: SettingWithCopyWarning: \n",
      "A value is trying to be set on a copy of a slice from a DataFrame.\n",
      "Try using .loc[row_indexer,col_indexer] = value instead\n",
      "\n",
      "See the caveats in the documentation: https://pandas.pydata.org/pandas-docs/stable/user_guide/indexing.html#returning-a-view-versus-a-copy\n",
      "  self._setitem_single_column(loc, value, pi)\n"
     ]
    }
   ],
   "source": [
    "imputeoutliers(data1, 'PolicyAnnualPremium')"
   ]
  },
  {
   "cell_type": "code",
   "execution_count": 115,
   "id": "7c7ca9aa",
   "metadata": {},
   "outputs": [
    {
     "data": {
      "text/plain": [
       "<AxesSubplot:>"
      ]
     },
     "execution_count": 115,
     "metadata": {},
     "output_type": "execute_result"
    },
    {
     "data": {
      "image/png": "[encoded data removed]",
      "text/plain": [
       "<Figure size 432x288 with 1 Axes>"
      ]
     },
     "metadata": {
      "needs_background": "light"
     },
     "output_type": "display_data"
    }
   ],
   "source": [
    "data1.boxplot(column ='PolicyAnnualPremium')"
   ]
  },
  {
   "cell_type": "code",
   "execution_count": 116,
   "id": "d36ee20a",
   "metadata": {},
   "outputs": [
    {
     "data": {
      "text/plain": [
       "<AxesSubplot:>"
      ]
     },
     "execution_count": 116,
     "metadata": {},
     "output_type": "execute_result"
    },
    {
     "data": {
      "image/png": "[encoded data removed]",
      "text/plain": [
       "<Figure size 432x288 with 1 Axes>"
      ]
     },
     "metadata": {
      "needs_background": "light"
     },
     "output_type": "display_data"
    }
   ],
   "source": [
    "data1.boxplot(column = 'UmbrellaLimit')"
   ]
  },
  {
   "cell_type": "code",
   "execution_count": 117,
   "id": "c527c7bc",
   "metadata": {},
   "outputs": [
    {
     "data": {
      "text/plain": [
       "(12, 0.00044200523039522637, 6139, 0.22612250911635787)"
      ]
     },
     "execution_count": 117,
     "metadata": {},
     "output_type": "execute_result"
    }
   ],
   "source": [
    "checkoutliers(data1, 'UmbrellaLimit')"
   ]
  },
  {
   "cell_type": "code",
   "execution_count": 118,
   "id": "1914fc3b",
   "metadata": {},
   "outputs": [
    {
     "data": {
      "text/plain": [
       "0.7317028251500977"
      ]
     },
     "execution_count": 118,
     "metadata": {},
     "output_type": "execute_result"
    }
   ],
   "source": [
    "sum(data1['UmbrellaLimit'] == 0)/len(data1)"
   ]
  },
  {
   "cell_type": "code",
   "execution_count": 119,
   "id": "3dfd8e97",
   "metadata": {},
   "outputs": [
    {
     "data": {
      "text/plain": [
       "0          19865\n",
       "6000000      301\n",
       "5000000      131\n",
       "7000000      106\n",
       "4000000       69\n",
       "           ...  \n",
       "3579351        1\n",
       "3314794        1\n",
       "1315519        1\n",
       "4185875        1\n",
       "4674160        1\n",
       "Name: UmbrellaLimit, Length: 6644, dtype: int64"
      ]
     },
     "execution_count": 119,
     "metadata": {},
     "output_type": "execute_result"
    }
   ],
   "source": [
    "data1['UmbrellaLimit'].value_counts()"
   ]
  },
  {
   "cell_type": "code",
   "execution_count": 120,
   "id": "c8ed76a2",
   "metadata": {},
   "outputs": [],
   "source": [
    "data.drop(columns = 'UmbrellaLimit', inplace = True)"
   ]
  },
  {
   "cell_type": "code",
   "execution_count": 121,
   "id": "7afb2de0",
   "metadata": {},
   "outputs": [
    {
     "data": {
      "text/html": [
       "<div>\n",
       "<style scoped>\n",
       "    .dataframe tbody tr th:only-of-type {\n",
       "        vertical-align: middle;\n",
       "    }\n",
       "\n",
       "    .dataframe tbody tr th {\n",
       "        vertical-align: top;\n",
       "    }\n",
       "\n",
       "    .dataframe thead th {\n",
       "        text-align: right;\n",
       "    }\n",
       "</style>\n",
       "<table border=\"1\" class=\"dataframe\">\n",
       "  <thead>\n",
       "    <tr style=\"text-align: right;\">\n",
       "      <th></th>\n",
       "      <th>CustomerID</th>\n",
       "      <th>ReportedFraud</th>\n",
       "      <th>DateOfIncident</th>\n",
       "      <th>TypeOfIncident</th>\n",
       "      <th>SeverityOfIncident</th>\n",
       "      <th>AuthoritiesContacted</th>\n",
       "      <th>IncidentState</th>\n",
       "      <th>IncidentCity</th>\n",
       "      <th>IncidentAddress</th>\n",
       "      <th>IncidentTime</th>\n",
       "      <th>...</th>\n",
       "      <th>DateOfPolicyCoverage</th>\n",
       "      <th>InsurancePolicyState</th>\n",
       "      <th>Policy_CombinedSingleLimit</th>\n",
       "      <th>Policy_Deductible</th>\n",
       "      <th>PolicyAnnualPremium</th>\n",
       "      <th>InsuredRelationship</th>\n",
       "      <th>VehicleID</th>\n",
       "      <th>VehicleMake</th>\n",
       "      <th>VehicleModel</th>\n",
       "      <th>VehicleYOM</th>\n",
       "    </tr>\n",
       "  </thead>\n",
       "  <tbody>\n",
       "    <tr>\n",
       "      <th>0</th>\n",
       "      <td>Cust20065</td>\n",
       "      <td>N</td>\n",
       "      <td>2015-01-09</td>\n",
       "      <td>Multi-vehicle Collision</td>\n",
       "      <td>Total Loss</td>\n",
       "      <td>Other</td>\n",
       "      <td>State9</td>\n",
       "      <td>City4</td>\n",
       "      <td>Location 1404</td>\n",
       "      <td>19</td>\n",
       "      <td>...</td>\n",
       "      <td>1998-11-14</td>\n",
       "      <td>State2</td>\n",
       "      <td>250/500</td>\n",
       "      <td>2000</td>\n",
       "      <td>1142.87</td>\n",
       "      <td>own-child</td>\n",
       "      <td>Vehicle30662</td>\n",
       "      <td>Mercedes</td>\n",
       "      <td>E400</td>\n",
       "      <td>2005</td>\n",
       "    </tr>\n",
       "    <tr>\n",
       "      <th>1</th>\n",
       "      <td>Cust37589</td>\n",
       "      <td>N</td>\n",
       "      <td>2015-02-20</td>\n",
       "      <td>Single Vehicle Collision</td>\n",
       "      <td>Minor Damage</td>\n",
       "      <td>Ambulance</td>\n",
       "      <td>State4</td>\n",
       "      <td>City3</td>\n",
       "      <td>Location 1675</td>\n",
       "      <td>14</td>\n",
       "      <td>...</td>\n",
       "      <td>2000-08-19</td>\n",
       "      <td>State2</td>\n",
       "      <td>100/300</td>\n",
       "      <td>1000</td>\n",
       "      <td>1274.38</td>\n",
       "      <td>own-child</td>\n",
       "      <td>Vehicle17183</td>\n",
       "      <td>Toyota</td>\n",
       "      <td>Highlander</td>\n",
       "      <td>2010</td>\n",
       "    </tr>\n",
       "    <tr>\n",
       "      <th>2</th>\n",
       "      <td>Cust24312</td>\n",
       "      <td>N</td>\n",
       "      <td>2015-01-14</td>\n",
       "      <td>Multi-vehicle Collision</td>\n",
       "      <td>Major Damage</td>\n",
       "      <td>Ambulance</td>\n",
       "      <td>State5</td>\n",
       "      <td>City2</td>\n",
       "      <td>Location 1546</td>\n",
       "      <td>21</td>\n",
       "      <td>...</td>\n",
       "      <td>2000-06-23</td>\n",
       "      <td>State1</td>\n",
       "      <td>500/1000</td>\n",
       "      <td>745</td>\n",
       "      <td>1269.93</td>\n",
       "      <td>other-relative</td>\n",
       "      <td>Vehicle33982</td>\n",
       "      <td>Volkswagen</td>\n",
       "      <td>Passat</td>\n",
       "      <td>2002</td>\n",
       "    </tr>\n",
       "    <tr>\n",
       "      <th>3</th>\n",
       "      <td>Cust5493</td>\n",
       "      <td>Y</td>\n",
       "      <td>2015-01-07</td>\n",
       "      <td>Multi-vehicle Collision</td>\n",
       "      <td>Major Damage</td>\n",
       "      <td>Ambulance</td>\n",
       "      <td>State7</td>\n",
       "      <td>City4</td>\n",
       "      <td>Location 1413</td>\n",
       "      <td>12</td>\n",
       "      <td>...</td>\n",
       "      <td>1992-01-15</td>\n",
       "      <td>State2</td>\n",
       "      <td>100/300</td>\n",
       "      <td>986</td>\n",
       "      <td>1218.60</td>\n",
       "      <td>other-relative</td>\n",
       "      <td>Vehicle12299</td>\n",
       "      <td>Toyota</td>\n",
       "      <td>Highlander</td>\n",
       "      <td>2011</td>\n",
       "    </tr>\n",
       "    <tr>\n",
       "      <th>4</th>\n",
       "      <td>Cust7704</td>\n",
       "      <td>Y</td>\n",
       "      <td>2015-02-26</td>\n",
       "      <td>Multi-vehicle Collision</td>\n",
       "      <td>Major Damage</td>\n",
       "      <td>Other</td>\n",
       "      <td>State4</td>\n",
       "      <td>City6</td>\n",
       "      <td>Location 1367</td>\n",
       "      <td>3</td>\n",
       "      <td>...</td>\n",
       "      <td>2001-09-23</td>\n",
       "      <td>State3</td>\n",
       "      <td>250/500</td>\n",
       "      <td>576</td>\n",
       "      <td>1431.02</td>\n",
       "      <td>unmarried</td>\n",
       "      <td>Vehicle30447</td>\n",
       "      <td>Ford</td>\n",
       "      <td>Wrangler</td>\n",
       "      <td>2010</td>\n",
       "    </tr>\n",
       "    <tr>\n",
       "      <th>...</th>\n",
       "      <td>...</td>\n",
       "      <td>...</td>\n",
       "      <td>...</td>\n",
       "      <td>...</td>\n",
       "      <td>...</td>\n",
       "      <td>...</td>\n",
       "      <td>...</td>\n",
       "      <td>...</td>\n",
       "      <td>...</td>\n",
       "      <td>...</td>\n",
       "      <td>...</td>\n",
       "      <td>...</td>\n",
       "      <td>...</td>\n",
       "      <td>...</td>\n",
       "      <td>...</td>\n",
       "      <td>...</td>\n",
       "      <td>...</td>\n",
       "      <td>...</td>\n",
       "      <td>...</td>\n",
       "      <td>...</td>\n",
       "      <td>...</td>\n",
       "    </tr>\n",
       "    <tr>\n",
       "      <th>28831</th>\n",
       "      <td>Cust9773</td>\n",
       "      <td>N</td>\n",
       "      <td>2015-02-13</td>\n",
       "      <td>Single Vehicle Collision</td>\n",
       "      <td>Minor Damage</td>\n",
       "      <td>Fire</td>\n",
       "      <td>State7</td>\n",
       "      <td>City3</td>\n",
       "      <td>Location 1324</td>\n",
       "      <td>16</td>\n",
       "      <td>...</td>\n",
       "      <td>2007-02-07</td>\n",
       "      <td>State2</td>\n",
       "      <td>250/500</td>\n",
       "      <td>1000</td>\n",
       "      <td>1108.55</td>\n",
       "      <td>unmarried</td>\n",
       "      <td>Vehicle24503</td>\n",
       "      <td>Nissan</td>\n",
       "      <td>RSX</td>\n",
       "      <td>2002</td>\n",
       "    </tr>\n",
       "    <tr>\n",
       "      <th>28832</th>\n",
       "      <td>Cust38439</td>\n",
       "      <td>N</td>\n",
       "      <td>2015-01-19</td>\n",
       "      <td>Multi-vehicle Collision</td>\n",
       "      <td>Total Loss</td>\n",
       "      <td>Police</td>\n",
       "      <td>State5</td>\n",
       "      <td>City3</td>\n",
       "      <td>Location 1880</td>\n",
       "      <td>19</td>\n",
       "      <td>...</td>\n",
       "      <td>2006-10-18</td>\n",
       "      <td>State2</td>\n",
       "      <td>100/300</td>\n",
       "      <td>1008</td>\n",
       "      <td>1551.84</td>\n",
       "      <td>own-child</td>\n",
       "      <td>Vehicle9733</td>\n",
       "      <td>Accura</td>\n",
       "      <td>RSX</td>\n",
       "      <td>2014</td>\n",
       "    </tr>\n",
       "    <tr>\n",
       "      <th>28833</th>\n",
       "      <td>Cust38444</td>\n",
       "      <td>N</td>\n",
       "      <td>2015-01-21</td>\n",
       "      <td>Multi-vehicle Collision</td>\n",
       "      <td>Total Loss</td>\n",
       "      <td>Police</td>\n",
       "      <td>State5</td>\n",
       "      <td>City7</td>\n",
       "      <td>Location 1632</td>\n",
       "      <td>16</td>\n",
       "      <td>...</td>\n",
       "      <td>2011-11-23</td>\n",
       "      <td>State1</td>\n",
       "      <td>100/300</td>\n",
       "      <td>660</td>\n",
       "      <td>1119.32</td>\n",
       "      <td>not-in-family</td>\n",
       "      <td>Vehicle1823</td>\n",
       "      <td>Saab</td>\n",
       "      <td>RSX</td>\n",
       "      <td>2013</td>\n",
       "    </tr>\n",
       "    <tr>\n",
       "      <th>28834</th>\n",
       "      <td>Cust26466</td>\n",
       "      <td>N</td>\n",
       "      <td>2015-01-02</td>\n",
       "      <td>Parked Car</td>\n",
       "      <td>Trivial Damage</td>\n",
       "      <td>None</td>\n",
       "      <td>State4</td>\n",
       "      <td>City7</td>\n",
       "      <td>Location 1364</td>\n",
       "      <td>12</td>\n",
       "      <td>...</td>\n",
       "      <td>1997-08-04</td>\n",
       "      <td>State3</td>\n",
       "      <td>250/1000</td>\n",
       "      <td>1674</td>\n",
       "      <td>1229.88</td>\n",
       "      <td>wife</td>\n",
       "      <td>Vehicle9113</td>\n",
       "      <td>Accura</td>\n",
       "      <td>RSX</td>\n",
       "      <td>2004</td>\n",
       "    </tr>\n",
       "    <tr>\n",
       "      <th>28835</th>\n",
       "      <td>Cust29555</td>\n",
       "      <td>N</td>\n",
       "      <td>2015-01-16</td>\n",
       "      <td>Single Vehicle Collision</td>\n",
       "      <td>Total Loss</td>\n",
       "      <td>Police</td>\n",
       "      <td>State8</td>\n",
       "      <td>City7</td>\n",
       "      <td>Location 1950</td>\n",
       "      <td>11</td>\n",
       "      <td>...</td>\n",
       "      <td>2008-01-04</td>\n",
       "      <td>State2</td>\n",
       "      <td>250/1000</td>\n",
       "      <td>500</td>\n",
       "      <td>1341.72</td>\n",
       "      <td>wife</td>\n",
       "      <td>Vehicle7530</td>\n",
       "      <td>Volkswagen</td>\n",
       "      <td>RSX</td>\n",
       "      <td>2009</td>\n",
       "    </tr>\n",
       "  </tbody>\n",
       "</table>\n",
       "<p>27149 rows × 36 columns</p>\n",
       "</div>"
      ],
      "text/plain": [
       "      CustomerID ReportedFraud DateOfIncident            TypeOfIncident  \\\n",
       "0      Cust20065             N     2015-01-09   Multi-vehicle Collision   \n",
       "1      Cust37589             N     2015-02-20  Single Vehicle Collision   \n",
       "2      Cust24312             N     2015-01-14   Multi-vehicle Collision   \n",
       "3       Cust5493             Y     2015-01-07   Multi-vehicle Collision   \n",
       "4       Cust7704             Y     2015-02-26   Multi-vehicle Collision   \n",
       "...          ...           ...            ...                       ...   \n",
       "28831   Cust9773             N     2015-02-13  Single Vehicle Collision   \n",
       "28832  Cust38439             N     2015-01-19   Multi-vehicle Collision   \n",
       "28833  Cust38444             N     2015-01-21   Multi-vehicle Collision   \n",
       "28834  Cust26466             N     2015-01-02                Parked Car   \n",
       "28835  Cust29555             N     2015-01-16  Single Vehicle Collision   \n",
       "\n",
       "      SeverityOfIncident AuthoritiesContacted IncidentState IncidentCity  \\\n",
       "0             Total Loss                Other        State9        City4   \n",
       "1           Minor Damage            Ambulance        State4        City3   \n",
       "2           Major Damage            Ambulance        State5        City2   \n",
       "3           Major Damage            Ambulance        State7        City4   \n",
       "4           Major Damage                Other        State4        City6   \n",
       "...                  ...                  ...           ...          ...   \n",
       "28831       Minor Damage                 Fire        State7        City3   \n",
       "28832         Total Loss               Police        State5        City3   \n",
       "28833         Total Loss               Police        State5        City7   \n",
       "28834     Trivial Damage                 None        State4        City7   \n",
       "28835         Total Loss               Police        State8        City7   \n",
       "\n",
       "      IncidentAddress  IncidentTime  ...  DateOfPolicyCoverage  \\\n",
       "0       Location 1404            19  ...            1998-11-14   \n",
       "1       Location 1675            14  ...            2000-08-19   \n",
       "2       Location 1546            21  ...            2000-06-23   \n",
       "3       Location 1413            12  ...            1992-01-15   \n",
       "4       Location 1367             3  ...            2001-09-23   \n",
       "...               ...           ...  ...                   ...   \n",
       "28831   Location 1324            16  ...            2007-02-07   \n",
       "28832   Location 1880            19  ...            2006-10-18   \n",
       "28833   Location 1632            16  ...            2011-11-23   \n",
       "28834   Location 1364            12  ...            1997-08-04   \n",
       "28835   Location 1950            11  ...            2008-01-04   \n",
       "\n",
       "       InsurancePolicyState Policy_CombinedSingleLimit  Policy_Deductible  \\\n",
       "0                    State2                    250/500               2000   \n",
       "1                    State2                    100/300               1000   \n",
       "2                    State1                   500/1000                745   \n",
       "3                    State2                    100/300                986   \n",
       "4                    State3                    250/500                576   \n",
       "...                     ...                        ...                ...   \n",
       "28831                State2                    250/500               1000   \n",
       "28832                State2                    100/300               1008   \n",
       "28833                State1                    100/300                660   \n",
       "28834                State3                   250/1000               1674   \n",
       "28835                State2                   250/1000                500   \n",
       "\n",
       "       PolicyAnnualPremium  InsuredRelationship     VehicleID  VehicleMake  \\\n",
       "0                  1142.87            own-child  Vehicle30662     Mercedes   \n",
       "1                  1274.38            own-child  Vehicle17183       Toyota   \n",
       "2                  1269.93       other-relative  Vehicle33982   Volkswagen   \n",
       "3                  1218.60       other-relative  Vehicle12299       Toyota   \n",
       "4                  1431.02            unmarried  Vehicle30447         Ford   \n",
       "...                    ...                  ...           ...          ...   \n",
       "28831              1108.55            unmarried  Vehicle24503       Nissan   \n",
       "28832              1551.84            own-child   Vehicle9733       Accura   \n",
       "28833              1119.32        not-in-family   Vehicle1823         Saab   \n",
       "28834              1229.88                 wife   Vehicle9113       Accura   \n",
       "28835              1341.72                 wife   Vehicle7530   Volkswagen   \n",
       "\n",
       "      VehicleModel VehicleYOM  \n",
       "0             E400       2005  \n",
       "1       Highlander       2010  \n",
       "2           Passat       2002  \n",
       "3       Highlander       2011  \n",
       "4         Wrangler       2010  \n",
       "...            ...        ...  \n",
       "28831          RSX       2002  \n",
       "28832          RSX       2014  \n",
       "28833          RSX       2013  \n",
       "28834          RSX       2004  \n",
       "28835          RSX       2009  \n",
       "\n",
       "[27149 rows x 36 columns]"
      ]
     },
     "execution_count": 121,
     "metadata": {},
     "output_type": "execute_result"
    }
   ],
   "source": [
    "data"
   ]
  },
  {
   "cell_type": "code",
   "execution_count": 122,
   "id": "0ef09b7d",
   "metadata": {},
   "outputs": [
    {
     "data": {
      "text/html": [
       "<div>\n",
       "<style scoped>\n",
       "    .dataframe tbody tr th:only-of-type {\n",
       "        vertical-align: middle;\n",
       "    }\n",
       "\n",
       "    .dataframe tbody tr th {\n",
       "        vertical-align: top;\n",
       "    }\n",
       "\n",
       "    .dataframe thead th {\n",
       "        text-align: right;\n",
       "    }\n",
       "</style>\n",
       "<table border=\"1\" class=\"dataframe\">\n",
       "  <thead>\n",
       "    <tr style=\"text-align: right;\">\n",
       "      <th></th>\n",
       "      <th>AmountOfInjuryClaim</th>\n",
       "      <th>AmountOfPropertyClaim</th>\n",
       "      <th>AmountOfVehicleDamage</th>\n",
       "      <th>InsuredAge</th>\n",
       "      <th>CapitalGains</th>\n",
       "      <th>CapitalLoss</th>\n",
       "      <th>CustomerLoyaltyPeriod</th>\n",
       "      <th>Policy_Deductible</th>\n",
       "      <th>PolicyAnnualPremium</th>\n",
       "      <th>UmbrellaLimit</th>\n",
       "    </tr>\n",
       "  </thead>\n",
       "  <tbody>\n",
       "    <tr>\n",
       "      <th>0</th>\n",
       "      <td>9396.0</td>\n",
       "      <td>4698.0</td>\n",
       "      <td>29879.0</td>\n",
       "      <td>58</td>\n",
       "      <td>0</td>\n",
       "      <td>-42700</td>\n",
       "      <td>432</td>\n",
       "      <td>2000</td>\n",
       "      <td>1142.87</td>\n",
       "      <td>0</td>\n",
       "    </tr>\n",
       "    <tr>\n",
       "      <th>1</th>\n",
       "      <td>6539.0</td>\n",
       "      <td>6539.0</td>\n",
       "      <td>49232.0</td>\n",
       "      <td>34</td>\n",
       "      <td>51300</td>\n",
       "      <td>0</td>\n",
       "      <td>128</td>\n",
       "      <td>1000</td>\n",
       "      <td>1274.38</td>\n",
       "      <td>2857344</td>\n",
       "    </tr>\n",
       "    <tr>\n",
       "      <th>2</th>\n",
       "      <td>6069.0</td>\n",
       "      <td>6069.0</td>\n",
       "      <td>30686.0</td>\n",
       "      <td>52</td>\n",
       "      <td>0</td>\n",
       "      <td>0</td>\n",
       "      <td>346</td>\n",
       "      <td>745</td>\n",
       "      <td>1269.93</td>\n",
       "      <td>0</td>\n",
       "    </tr>\n",
       "    <tr>\n",
       "      <th>3</th>\n",
       "      <td>253.0</td>\n",
       "      <td>5741.0</td>\n",
       "      <td>39678.0</td>\n",
       "      <td>25</td>\n",
       "      <td>47400</td>\n",
       "      <td>-56100</td>\n",
       "      <td>42</td>\n",
       "      <td>986</td>\n",
       "      <td>1218.60</td>\n",
       "      <td>0</td>\n",
       "    </tr>\n",
       "    <tr>\n",
       "      <th>4</th>\n",
       "      <td>7407.0</td>\n",
       "      <td>14813.0</td>\n",
       "      <td>59252.0</td>\n",
       "      <td>27</td>\n",
       "      <td>0</td>\n",
       "      <td>0</td>\n",
       "      <td>109</td>\n",
       "      <td>576</td>\n",
       "      <td>1431.02</td>\n",
       "      <td>4235779</td>\n",
       "    </tr>\n",
       "    <tr>\n",
       "      <th>...</th>\n",
       "      <td>...</td>\n",
       "      <td>...</td>\n",
       "      <td>...</td>\n",
       "      <td>...</td>\n",
       "      <td>...</td>\n",
       "      <td>...</td>\n",
       "      <td>...</td>\n",
       "      <td>...</td>\n",
       "      <td>...</td>\n",
       "      <td>...</td>\n",
       "    </tr>\n",
       "    <tr>\n",
       "      <th>28831</th>\n",
       "      <td>5543.0</td>\n",
       "      <td>5543.0</td>\n",
       "      <td>39429.0</td>\n",
       "      <td>39</td>\n",
       "      <td>0</td>\n",
       "      <td>0</td>\n",
       "      <td>251</td>\n",
       "      <td>1000</td>\n",
       "      <td>1108.55</td>\n",
       "      <td>739864</td>\n",
       "    </tr>\n",
       "    <tr>\n",
       "      <th>28832</th>\n",
       "      <td>8678.0</td>\n",
       "      <td>8738.0</td>\n",
       "      <td>76245.5</td>\n",
       "      <td>21</td>\n",
       "      <td>20000</td>\n",
       "      <td>-75000</td>\n",
       "      <td>14</td>\n",
       "      <td>1008</td>\n",
       "      <td>1551.84</td>\n",
       "      <td>41592</td>\n",
       "    </tr>\n",
       "    <tr>\n",
       "      <th>28833</th>\n",
       "      <td>13224.0</td>\n",
       "      <td>7990.0</td>\n",
       "      <td>66679.0</td>\n",
       "      <td>35</td>\n",
       "      <td>0</td>\n",
       "      <td>-75000</td>\n",
       "      <td>153</td>\n",
       "      <td>660</td>\n",
       "      <td>1119.32</td>\n",
       "      <td>0</td>\n",
       "    </tr>\n",
       "    <tr>\n",
       "      <th>28834</th>\n",
       "      <td>728.0</td>\n",
       "      <td>1457.0</td>\n",
       "      <td>5099.0</td>\n",
       "      <td>40</td>\n",
       "      <td>0</td>\n",
       "      <td>-63900</td>\n",
       "      <td>241</td>\n",
       "      <td>1674</td>\n",
       "      <td>1229.88</td>\n",
       "      <td>4674160</td>\n",
       "    </tr>\n",
       "    <tr>\n",
       "      <th>28835</th>\n",
       "      <td>15757.0</td>\n",
       "      <td>16322.0</td>\n",
       "      <td>58255.0</td>\n",
       "      <td>27</td>\n",
       "      <td>51100</td>\n",
       "      <td>0</td>\n",
       "      <td>113</td>\n",
       "      <td>500</td>\n",
       "      <td>1341.72</td>\n",
       "      <td>4000000</td>\n",
       "    </tr>\n",
       "  </tbody>\n",
       "</table>\n",
       "<p>27149 rows × 10 columns</p>\n",
       "</div>"
      ],
      "text/plain": [
       "       AmountOfInjuryClaim  AmountOfPropertyClaim  AmountOfVehicleDamage  \\\n",
       "0                   9396.0                 4698.0                29879.0   \n",
       "1                   6539.0                 6539.0                49232.0   \n",
       "2                   6069.0                 6069.0                30686.0   \n",
       "3                    253.0                 5741.0                39678.0   \n",
       "4                   7407.0                14813.0                59252.0   \n",
       "...                    ...                    ...                    ...   \n",
       "28831               5543.0                 5543.0                39429.0   \n",
       "28832               8678.0                 8738.0                76245.5   \n",
       "28833              13224.0                 7990.0                66679.0   \n",
       "28834                728.0                 1457.0                 5099.0   \n",
       "28835              15757.0                16322.0                58255.0   \n",
       "\n",
       "       InsuredAge  CapitalGains  CapitalLoss  CustomerLoyaltyPeriod  \\\n",
       "0              58             0       -42700                    432   \n",
       "1              34         51300            0                    128   \n",
       "2              52             0            0                    346   \n",
       "3              25         47400       -56100                     42   \n",
       "4              27             0            0                    109   \n",
       "...           ...           ...          ...                    ...   \n",
       "28831          39             0            0                    251   \n",
       "28832          21         20000       -75000                     14   \n",
       "28833          35             0       -75000                    153   \n",
       "28834          40             0       -63900                    241   \n",
       "28835          27         51100            0                    113   \n",
       "\n",
       "       Policy_Deductible  PolicyAnnualPremium  UmbrellaLimit  \n",
       "0                   2000              1142.87              0  \n",
       "1                   1000              1274.38        2857344  \n",
       "2                    745              1269.93              0  \n",
       "3                    986              1218.60              0  \n",
       "4                    576              1431.02        4235779  \n",
       "...                  ...                  ...            ...  \n",
       "28831               1000              1108.55         739864  \n",
       "28832               1008              1551.84          41592  \n",
       "28833                660              1119.32              0  \n",
       "28834               1674              1229.88        4674160  \n",
       "28835                500              1341.72        4000000  \n",
       "\n",
       "[27149 rows x 10 columns]"
      ]
     },
     "execution_count": 122,
     "metadata": {},
     "output_type": "execute_result"
    }
   ],
   "source": [
    "data1"
   ]
  },
  {
   "cell_type": "code",
   "execution_count": null,
   "id": "0d128407",
   "metadata": {},
   "outputs": [],
   "source": []
  },
  {
   "cell_type": "code",
   "execution_count": null,
   "id": "cc82f4d3",
   "metadata": {},
   "outputs": [],
   "source": []
  }
 ],
 "metadata": {
  "kernelspec": {
   "display_name": "Python 3 (ipykernel)",
   "language": "python",
   "name": "python3"
  },
  "language_info": {
   "codemirror_mode": {
    "name": "ipython",
    "version": 3
   },
   "file_extension": ".py",
   "mimetype": "text/x-python",
   "name": "python",
   "nbconvert_exporter": "python",
   "pygments_lexer": "ipython3",
   "version": "3.9.6"
  }
 },
 "nbformat": 4,
 "nbformat_minor": 5
}
